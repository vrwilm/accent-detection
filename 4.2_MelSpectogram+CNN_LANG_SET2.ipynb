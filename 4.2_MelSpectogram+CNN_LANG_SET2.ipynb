{
 "cells": [
  {
   "cell_type": "markdown",
   "id": "8f50e417",
   "metadata": {},
   "source": [
    "![./img/sp_tiny.png](./img/sp_tiny.png)\n",
    "<h1><center>Accent Detection: <br>\n",
    "Signal Processing  + CNN</center></h1>\n",
    "<h3><center>Part 4.2: Signal Processing + CNN - Languages Set 2</center></h3>\n",
    "<center>Group 2: Katerina Bosko and Victor Wilm\n",
    "<center>Northeastern University, CS6140"
   ]
  },
  {
   "cell_type": "code",
   "execution_count": 1,
   "id": "b2a65330",
   "metadata": {},
   "outputs": [
    {
     "name": "stderr",
     "output_type": "stream",
     "text": [
      "2022-12-14 17:30:19.724729: I tensorflow/core/platform/cpu_feature_guard.cc:193] This TensorFlow binary is optimized with oneAPI Deep Neural Network Library (oneDNN) to use the following CPU instructions in performance-critical operations:  AVX2 FMA\n",
      "To enable them in other operations, rebuild TensorFlow with the appropriate compiler flags.\n"
     ]
    }
   ],
   "source": [
    "import os\n",
    "from glob import glob\n",
    "from ipywidgets import IntProgress\n",
    "import json\n",
    "\n",
    "from sklearn.preprocessing import StandardScaler\n",
    "from sklearn.model_selection import train_test_split\n",
    "\n",
    "from keras.callbacks import EarlyStopping\n",
    "from tensorflow.keras.models import Sequential\n",
    "from tensorflow.keras.layers import Conv2D, Dense, Flatten, MaxPooling2D, BatchNormalization, Dropout\n",
    "from tensorflow.keras.optimizers import Adam\n",
    "import tensorflow as tf\n",
    "\n",
    "import librosa\n",
    "import numpy as np\n",
    "import matplotlib.pyplot as plt\n",
    "import seaborn as sns\n",
    "\n",
    "# Set the seed value for experiment reproducibility\n",
    "seed = 36\n",
    "tf.random.set_seed(seed)\n",
    "np.random.seed(seed)"
   ]
  },
  {
   "cell_type": "markdown",
   "id": "1c79c69b",
   "metadata": {},
   "source": [
    "In this notebook, we perform CNN on Mel Spectograms produced by Signal Processing. The approach is based on the paper by Michailava et al (2022) mentioned in the references. "
   ]
  },
  {
   "cell_type": "markdown",
   "id": "fdf7eb16",
   "metadata": {},
   "source": [
    "# 1. Signal Processing"
   ]
  },
  {
   "cell_type": "markdown",
   "id": "fb9f184b",
   "metadata": {},
   "source": [
    "## Notes on parameters\n",
    "\n",
    "### Sample rate\n",
    "Sample rate = 22050 Hz was not changed. This is standard in librosa library.\n",
    "\n",
    "### STFT window size\n",
    "https://librosa.org/doc/latest/generated/librosa.stft.html#librosa.stft\n",
    "\n",
    "n_fft = length of the windowed signal after padding with zeros. The number of rows in the STFT matrix D is (1 + n_fft/2). **The default value, n_fft=2048 samples**, corresponds to a physical duration of 93 milliseconds at a sample rate of 22050 Hz, i.e. the default sample rate in librosa. This value is well adapted for **music signals**. However, in **speech processing, the recommended value is 512**, corresponding to 23 milliseconds at a sample rate of 22050 Hz. In any case, we recommend setting n_fft to a power of two for optimizing the speed of the fast Fourier transform (FFT) algorithm.\n",
    "\n",
    "Based on above description, n_fft=512 was chosen, which is equivalent to 512/22050=0.023 or 23 ms\n",
    "\n",
    "### Hop length\n",
    "Hop length was chosen as window_size // 2 = 512//2 = 256, which is equivalent to 256//22050=0.011 or 11 ms\n",
    "Such a hop length ensures that there is a signal overlap when extracting STFT features.\n",
    "\n",
    "### Frame size\n",
    "Frame size was chosen as 75 frames, which is rather small such that we can extract phonemes. We experimented with a larger number of frame size and it didn't result into higher than 30-40% accuracy scores.\n",
    "\n",
    "\n",
    "## Notes on processing steps\n",
    "Preprocessing steps are as follows:\n",
    "\n",
    "1. Balancing the dataset\n",
    "2. Signal Processing with the chosen method\n",
    "3. Normalization at the level of each frequency\n",
    "4. Segmentation based on the frame size\n",
    "\n",
    "We experimented with different order of processing steps. For instance, \n",
    "1. Segmentation\n",
    "2. Signal processing\n",
    "3. Normalization \n",
    "\n",
    "or:\n",
    "1. Normalization\n",
    "2. Segmentation\n",
    "3. Signal processing\n",
    "\n",
    "\n",
    "these approaches also failed (the accuracy scores were not high enough)."
   ]
  },
  {
   "cell_type": "code",
   "execution_count": 2,
   "id": "9896e03b",
   "metadata": {},
   "outputs": [],
   "source": [
    "def get_max_num_files(dataset_path):\n",
    "    # get links to audio files\n",
    "    audio_files = glob(f\"{dataset_path}/*/*.wav\")\n",
    "    # note .DS_store needs to be removed\n",
    "    if '.DS_Store' in os.listdir(dataset_path):\n",
    "        os.remove(f'{dataset_path}/.DS_Store')\n",
    "\n",
    "    languages = os.listdir(dataset_path)\n",
    "    audio_files_by_lang = {}\n",
    "    for lang in languages:\n",
    "        audio_files_by_lang[lang] = glob(f\"{dataset_path}/{lang}/*.wav\")\n",
    "\n",
    "    num_files_per_lang = [len(audio_files_by_lang[lang]) for lang in audio_files_by_lang]\n",
    "    return np.array(num_files_per_lang).min()"
   ]
  },
  {
   "cell_type": "code",
   "execution_count": 3,
   "id": "2ecd4178",
   "metadata": {},
   "outputs": [],
   "source": [
    "def limit_num_audio_files_per_lang(dataset_path):\n",
    "    max_num_files = get_max_num_files(dataset_path)\n",
    "    if '.DS_Store' in os.listdir(dataset_path):\n",
    "        os.remove(f'{dataset_path}/.DS_Store')\n",
    "\n",
    "    languages = os.listdir(dataset_path)\n",
    "    lang_mapping = {l: i for i, l in enumerate(languages)}\n",
    "\n",
    "    audio_files_by_lang = {}\n",
    "    # limit to MAX_NUM_FILES for each lang\n",
    "    for lang in languages:\n",
    "        audio_files_by_lang[lang] = glob(f\"{dataset_path}/{lang}/*.wav\")[:max_num_files]\n",
    "        print(f\"num audio files for {lang.upper()}: {len(audio_files_by_lang[lang])}\")\n",
    "\n",
    "    audio_files = [file for lang_files in audio_files_by_lang.values() for file in lang_files]\n",
    "    return audio_files"
   ]
  },
  {
   "cell_type": "code",
   "execution_count": 4,
   "id": "52e29bf0",
   "metadata": {},
   "outputs": [],
   "source": [
    "def extract_features_melspectogram(dataset_path, sample_rate=22050, n_fft=512, frame_size=75, n_mels=64):\n",
    "    hop_length = n_fft // 2\n",
    "    win_len = n_fft\n",
    "\n",
    "    # get languages mapping for y\n",
    "    languages = os.listdir(dataset_path)\n",
    "    lang_mapping = {l: i for i, l in enumerate(languages)}\n",
    "\n",
    "    # PROCESSING STEPS\n",
    "    # 1. Balancing the dataset\n",
    "    audio_files = limit_num_audio_files_per_lang(dataset_path)\n",
    "    \n",
    "    # instantiate the progress bar\n",
    "    f = IntProgress(min=0, max=len(audio_files)) \n",
    "    display(f) # display the bar\n",
    "\n",
    "\n",
    "    X = []\n",
    "    y = []\n",
    "    for file in audio_files:\n",
    "        f.value += 1\n",
    "        # get file's language\n",
    "        lang_pos = len(dataset_path.split(\"/\"))\n",
    "        lang = file.split(\"/\")[lang_pos]\n",
    "        \n",
    "        # 2. Signal processing\n",
    "        signal, _ = librosa.load(file, sr=sample_rate)\n",
    "        # mel_sp shape (n_mels, len(signal)/hop_length), e.g. (64, 1852)\n",
    "        mel_sp = librosa.feature.melspectrogram(y=signal, sr=sample_rate, n_mels=n_mels, hop_length=hop_length,\n",
    "                                           win_length=win_len, power=1.0)        \n",
    "        # 3. Normalization along N_MEL axis\n",
    "        mel_sp_norm_vector = []\n",
    "        for i in range(mel_sp.shape[0]):\n",
    "            mel_sp_norm = StandardScaler().fit_transform(mel_sp[i, :].reshape(-1, 1)).reshape(-1)\n",
    "            mel_sp_norm_vector.append(mel_sp_norm)\n",
    "\n",
    "        features = np.vstack(mel_sp_norm_vector)\n",
    "        \n",
    "        # 4. Segmentation based on frame size\n",
    "        segments = []\n",
    "        labels = []\n",
    "        new_signal_len = features.shape[1]\n",
    "        for frame_start in range(0, int(new_signal_len / frame_size)):\n",
    "            # features_cut.shape = (n_mels, frame_size), e.g. (64, 75)\n",
    "            features_cut = features[:, frame_start * frame_size:(frame_start + 1) * frame_size]\n",
    "            # num segments = stft_signal_len // frame_size, e.g. 1852 // 75 = 24\n",
    "            segments.append(features_cut)\n",
    "            labels.append(lang_mapping[lang])\n",
    "        # X_per_file.shape = (n_mels * num_segments, frame_size), e.g. (64 * 24, 75)=(1536, 75) \n",
    "        X_per_file = np.vstack(segments)\n",
    "        y_per_file = np.vstack(labels)\n",
    "        # X.shape = (sum(n_mels * num_segments per file), frame_size), e.g. ((1536+1856...), 75)\n",
    "        X.append(X_per_file)\n",
    "        # y is same as total number of segments\n",
    "        y.append(y_per_file)\n",
    "    \n",
    "    # transform X list into np.array (doesn't change shape)\n",
    "    X = np.vstack(X)\n",
    "    y = np.vstack(y)\n",
    "    \n",
    "    # reshape into (total_num_segments, n_mels, frame_size)\n",
    "    total_num_segments = y.shape[0]\n",
    "    X = X.reshape(total_num_segments, -1, frame_size)\n",
    "    print(X.shape, y.shape)\n",
    "    return X, y "
   ]
  },
  {
   "cell_type": "markdown",
   "id": "def22d87",
   "metadata": {},
   "source": [
    "# Languages set 2: English, Russian, Arabic, French"
   ]
  },
  {
   "cell_type": "code",
   "execution_count": 5,
   "id": "c19d770c",
   "metadata": {},
   "outputs": [
    {
     "name": "stdout",
     "output_type": "stream",
     "text": [
      "num audio files for RUSSIAN: 81\n",
      "num audio files for ENGLISH: 81\n",
      "num audio files for FRENCH: 81\n",
      "num audio files for ARABIC: 81\n"
     ]
    },
    {
     "data": {
      "application/vnd.jupyter.widget-view+json": {
       "model_id": "890b4b61277e463b90d852b030d53566",
       "version_major": 2,
       "version_minor": 0
      },
      "text/plain": [
       "IntProgress(value=0, max=324)"
      ]
     },
     "metadata": {},
     "output_type": "display_data"
    },
    {
     "name": "stdout",
     "output_type": "stream",
     "text": [
      "(10683, 64, 75) (10683, 1)\n"
     ]
    }
   ],
   "source": [
    "dataset_path = \"./data/lang_set_2\"\n",
    "X, y = extract_features_melspectogram(dataset_path)"
   ]
  },
  {
   "cell_type": "code",
   "execution_count": 6,
   "id": "9bee9e5d",
   "metadata": {},
   "outputs": [
    {
     "data": {
      "text/plain": [
       "((10683, 64, 75), (10683, 1))"
      ]
     },
     "execution_count": 6,
     "metadata": {},
     "output_type": "execute_result"
    }
   ],
   "source": [
    "X.shape, y.shape"
   ]
  },
  {
   "cell_type": "code",
   "execution_count": 7,
   "id": "69a61450",
   "metadata": {},
   "outputs": [],
   "source": [
    "# data = {\"x\": X.tolist(), \"y\": y.tolist(), \"x_shape\": X.shape, \"y_shape\": y.shape}\n",
    "# JSON_PATH = \"./data/stft_normalized_segmentedafter_oldlang.json\"\n",
    "\n",
    "# with open(JSON_PATH, \"w\") as fp:\n",
    "#     json.dump(data, fp, indent=4)"
   ]
  },
  {
   "cell_type": "markdown",
   "id": "e8af74b0",
   "metadata": {},
   "source": [
    "## Splitting into Train, Validation, Test"
   ]
  },
  {
   "cell_type": "code",
   "execution_count": 8,
   "id": "7b2f5805",
   "metadata": {},
   "outputs": [],
   "source": [
    "def prepare_datasets(X, y, test_size, validation_size):\n",
    "    \"\"\"\n",
    "    Loads data and splits it into train, validation and test sets\n",
    "    \"\"\"\n",
    "\n",
    "    # create train, validation and test split\n",
    "    X_train, X_test, y_train, y_test = train_test_split(X, y, test_size=test_size, random_state=1234)\n",
    "    X_train, X_validation, y_train, y_validation = train_test_split(X_train, y_train, test_size=validation_size, random_state=1234)\n",
    "\n",
    "    # add an axis to input sets (aka channel for image)\n",
    "    X_train = X_train[..., np.newaxis]\n",
    "    X_validation = X_validation[..., np.newaxis]\n",
    "    X_test = X_test[..., np.newaxis]\n",
    "\n",
    "    return X_train, X_validation, X_test, y_train, y_validation, y_test"
   ]
  },
  {
   "cell_type": "code",
   "execution_count": 9,
   "id": "4b0c3880",
   "metadata": {},
   "outputs": [],
   "source": [
    "X_train, X_val, X_test, y_train, y_val, y_test = prepare_datasets(X, y, 0.25, 0.2)"
   ]
  },
  {
   "cell_type": "code",
   "execution_count": 10,
   "id": "10043bd5",
   "metadata": {},
   "outputs": [
    {
     "data": {
      "text/plain": [
       "((6409, 64, 75, 1), (1603, 64, 75, 1), (2671, 64, 75, 1))"
      ]
     },
     "execution_count": 10,
     "metadata": {},
     "output_type": "execute_result"
    }
   ],
   "source": [
    "# shape (`batch_size`, `height`, `width`, `channels`)\n",
    "X_train.shape, X_val.shape, X_test.shape"
   ]
  },
  {
   "cell_type": "markdown",
   "id": "09c23b9b",
   "metadata": {},
   "source": [
    "# 2. CNN"
   ]
  },
  {
   "cell_type": "code",
   "execution_count": 11,
   "id": "204644ab",
   "metadata": {},
   "outputs": [],
   "source": [
    "def plot_history(history):\n",
    "    \"\"\"\n",
    "    Plots accuracy/loss for training/validation set as a function of the epochs\n",
    "    \"\"\"\n",
    "\n",
    "    fig, ax = plt.subplots(figsize=(12,6), ncols=2)\n",
    "\n",
    "    # accuracy sublpot\n",
    "    ax[0].plot(history.history[\"accuracy\"], label=\"train accuracy\")\n",
    "    ax[0].plot(history.history[\"val_accuracy\"], label=\"val accuracy\")\n",
    "    ax[0].set_ylabel(\"Accuracy\")\n",
    "    ax[1].set_xlabel(\"Epoch\")\n",
    "    ax[0].set_ylim([0,1])\n",
    "    ax[0].set_title(\"Accuracy\")\n",
    "\n",
    "    # loss sublpot\n",
    "    ax[1].plot(history.history[\"loss\"], label=\"train error\")\n",
    "    ax[1].plot(history.history[\"val_loss\"], label=\"val error\")\n",
    "    ax[1].set_ylabel(\"Error\")\n",
    "    ax[1].set_xlabel(\"Epoch\")\n",
    "    ax[1].set_title(\"Loss\")\n",
    "    plt.legend()\n",
    "\n",
    "    plt.show()"
   ]
  },
  {
   "cell_type": "code",
   "execution_count": 12,
   "id": "cd713316",
   "metadata": {},
   "outputs": [],
   "source": [
    "def plot_confusion_matrix(model, X_test, languages):\n",
    "    \"\"\"\n",
    "    Plots confusion matrix for model prediction on test \n",
    "    \"\"\"\n",
    "\n",
    "    y_pred = model.predict(X_test)\n",
    "\n",
    "    y_pred = np.argmax(y_pred, axis=1)\n",
    "\n",
    "    y_true = y_test\n",
    "\n",
    "    confusion_mtx = tf.math.confusion_matrix(y_true, y_pred)\n",
    "\n",
    "    plt.figure(figsize=(10, 8))\n",
    "    sns.heatmap(confusion_mtx,\n",
    "                xticklabels=languages,\n",
    "                yticklabels=languages,\n",
    "                annot=True, fmt='g')\n",
    "    plt.xlabel('Prediction')\n",
    "    plt.ylabel('Label')\n",
    "    plt.show()"
   ]
  },
  {
   "cell_type": "code",
   "execution_count": 13,
   "id": "6ff7e5ab",
   "metadata": {},
   "outputs": [
    {
     "data": {
      "text/plain": [
       "(64, 75, 1)"
      ]
     },
     "execution_count": 13,
     "metadata": {},
     "output_type": "execute_result"
    }
   ],
   "source": [
    "input_shape = X_train.shape[1:]\n",
    "input_shape"
   ]
  },
  {
   "cell_type": "code",
   "execution_count": 14,
   "id": "128aaa85",
   "metadata": {},
   "outputs": [
    {
     "name": "stderr",
     "output_type": "stream",
     "text": [
      "2022-12-14 17:34:25.341324: I tensorflow/core/platform/cpu_feature_guard.cc:193] This TensorFlow binary is optimized with oneAPI Deep Neural Network Library (oneDNN) to use the following CPU instructions in performance-critical operations:  AVX2 FMA\n",
      "To enable them in other operations, rebuild TensorFlow with the appropriate compiler flags.\n"
     ]
    }
   ],
   "source": [
    "NUM_LABELS = 4\n",
    "\n",
    "tf.keras.backend.clear_session()\n",
    "model = Sequential()\n",
    "\n",
    "# 1st conv layer\n",
    "model.add(Conv2D(32, (3, 3), activation='relu', input_shape=input_shape))\n",
    "model.add(BatchNormalization())\n",
    "model.add(MaxPooling2D((3, 3), strides=(2, 2), padding='same'))\n",
    "\n",
    "# 2nd conv layer\n",
    "model.add(Conv2D(64, (3, 3), activation='relu'))\n",
    "model.add(BatchNormalization())\n",
    "model.add(MaxPooling2D((3, 3), strides=(2, 2), padding='same'))\n",
    "model.add(Dropout(0.1))\n",
    "\n",
    "# flatten output and feed it into dense layer\n",
    "model.add(Flatten())\n",
    "model.add(Dense(128, activation='relu'))\n",
    "model.add(Dropout(0.1))\n",
    "\n",
    "# output layer\n",
    "model.add(Dense(NUM_LABELS, activation='softmax'))"
   ]
  },
  {
   "cell_type": "code",
   "execution_count": 15,
   "id": "16d8a755",
   "metadata": {},
   "outputs": [
    {
     "name": "stdout",
     "output_type": "stream",
     "text": [
      "Model: \"sequential\"\n",
      "_________________________________________________________________\n",
      " Layer (type)                Output Shape              Param #   \n",
      "=================================================================\n",
      " conv2d (Conv2D)             (None, 62, 73, 32)        320       \n",
      "                                                                 \n",
      " batch_normalization (BatchN  (None, 62, 73, 32)       128       \n",
      " ormalization)                                                   \n",
      "                                                                 \n",
      " max_pooling2d (MaxPooling2D  (None, 31, 37, 32)       0         \n",
      " )                                                               \n",
      "                                                                 \n",
      " conv2d_1 (Conv2D)           (None, 29, 35, 64)        18496     \n",
      "                                                                 \n",
      " batch_normalization_1 (Batc  (None, 29, 35, 64)       256       \n",
      " hNormalization)                                                 \n",
      "                                                                 \n",
      " max_pooling2d_1 (MaxPooling  (None, 15, 18, 64)       0         \n",
      " 2D)                                                             \n",
      "                                                                 \n",
      " dropout (Dropout)           (None, 15, 18, 64)        0         \n",
      "                                                                 \n",
      " flatten (Flatten)           (None, 17280)             0         \n",
      "                                                                 \n",
      " dense (Dense)               (None, 128)               2211968   \n",
      "                                                                 \n",
      " dropout_1 (Dropout)         (None, 128)               0         \n",
      "                                                                 \n",
      " dense_1 (Dense)             (None, 4)                 516       \n",
      "                                                                 \n",
      "=================================================================\n",
      "Total params: 2,231,684\n",
      "Trainable params: 2,231,492\n",
      "Non-trainable params: 192\n",
      "_________________________________________________________________\n"
     ]
    }
   ],
   "source": [
    "# https://www.tensorflow.org/api_docs/python/tf/keras/optimizers/Adam\n",
    "# default values: lr=0.001 beta_1=0.9 beta_2=0.999 as in paper\n",
    "optimiser = Adam()\n",
    "model.compile(optimizer=optimiser,\n",
    "                  loss='sparse_categorical_crossentropy',\n",
    "                  metrics=['accuracy'])\n",
    "\n",
    "model.summary()"
   ]
  },
  {
   "cell_type": "code",
   "execution_count": 16,
   "id": "f7671159",
   "metadata": {},
   "outputs": [
    {
     "name": "stdout",
     "output_type": "stream",
     "text": [
      "Epoch 1/120\n",
      "101/101 [==============================] - 25s 243ms/step - loss: 2.1037 - accuracy: 0.3077 - val_loss: 11.3772 - val_accuracy: 0.2870\n",
      "Epoch 2/120\n",
      "101/101 [==============================] - 24s 240ms/step - loss: 1.3018 - accuracy: 0.3394 - val_loss: 17.7864 - val_accuracy: 0.3163\n",
      "Epoch 3/120\n",
      "101/101 [==============================] - 24s 234ms/step - loss: 1.2507 - accuracy: 0.4041 - val_loss: 12.5584 - val_accuracy: 0.2901\n",
      "Epoch 4/120\n",
      "101/101 [==============================] - 24s 233ms/step - loss: 1.2108 - accuracy: 0.4322 - val_loss: 6.2493 - val_accuracy: 0.2938\n",
      "Epoch 5/120\n",
      "101/101 [==============================] - 24s 240ms/step - loss: 1.1574 - accuracy: 0.4494 - val_loss: 2.2375 - val_accuracy: 0.3843\n",
      "Epoch 6/120\n",
      "101/101 [==============================] - 24s 241ms/step - loss: 1.1173 - accuracy: 0.4931 - val_loss: 1.4405 - val_accuracy: 0.4485\n",
      "Epoch 7/120\n",
      "101/101 [==============================] - 24s 241ms/step - loss: 1.0616 - accuracy: 0.5216 - val_loss: 1.6195 - val_accuracy: 0.4448\n",
      "Epoch 8/120\n",
      "101/101 [==============================] - 24s 242ms/step - loss: 0.9763 - accuracy: 0.5729 - val_loss: 1.4431 - val_accuracy: 0.4847\n",
      "Epoch 9/120\n",
      "101/101 [==============================] - 25s 246ms/step - loss: 0.8923 - accuracy: 0.6149 - val_loss: 1.1912 - val_accuracy: 0.5190\n",
      "Epoch 10/120\n",
      "101/101 [==============================] - 24s 236ms/step - loss: 0.8191 - accuracy: 0.6549 - val_loss: 1.1635 - val_accuracy: 0.5340\n",
      "Epoch 11/120\n",
      "101/101 [==============================] - 24s 242ms/step - loss: 0.7594 - accuracy: 0.6764 - val_loss: 1.2777 - val_accuracy: 0.5777\n",
      "Epoch 12/120\n",
      "101/101 [==============================] - 24s 242ms/step - loss: 0.6845 - accuracy: 0.7067 - val_loss: 1.0396 - val_accuracy: 0.5976\n",
      "Epoch 13/120\n",
      "101/101 [==============================] - 26s 259ms/step - loss: 0.6081 - accuracy: 0.7465 - val_loss: 1.3382 - val_accuracy: 0.5552\n",
      "Epoch 14/120\n",
      "101/101 [==============================] - 25s 244ms/step - loss: 0.5680 - accuracy: 0.7578 - val_loss: 1.0408 - val_accuracy: 0.6014\n",
      "Epoch 15/120\n",
      "101/101 [==============================] - 26s 253ms/step - loss: 0.5076 - accuracy: 0.7856 - val_loss: 1.2268 - val_accuracy: 0.6132\n",
      "Epoch 16/120\n",
      "101/101 [==============================] - 25s 250ms/step - loss: 0.4506 - accuracy: 0.8149 - val_loss: 1.0724 - val_accuracy: 0.6232\n",
      "Epoch 17/120\n",
      "101/101 [==============================] - 25s 246ms/step - loss: 0.4359 - accuracy: 0.8128 - val_loss: 1.2952 - val_accuracy: 0.6095\n",
      "Epoch 18/120\n",
      "101/101 [==============================] - 24s 242ms/step - loss: 0.3935 - accuracy: 0.8327 - val_loss: 1.3319 - val_accuracy: 0.6107\n",
      "Epoch 19/120\n",
      "101/101 [==============================] - 25s 243ms/step - loss: 0.3712 - accuracy: 0.8444 - val_loss: 1.0536 - val_accuracy: 0.6569\n",
      "Epoch 20/120\n",
      "101/101 [==============================] - 26s 258ms/step - loss: 0.3523 - accuracy: 0.8522 - val_loss: 1.1698 - val_accuracy: 0.6369\n",
      "Epoch 21/120\n",
      "101/101 [==============================] - 24s 236ms/step - loss: 0.3248 - accuracy: 0.8613 - val_loss: 1.2530 - val_accuracy: 0.6556\n",
      "Epoch 22/120\n",
      "101/101 [==============================] - 25s 247ms/step - loss: 0.3083 - accuracy: 0.8761 - val_loss: 1.2392 - val_accuracy: 0.6563\n",
      "Epoch 23/120\n",
      "101/101 [==============================] - 25s 243ms/step - loss: 0.2873 - accuracy: 0.8844 - val_loss: 1.0846 - val_accuracy: 0.6837\n",
      "Epoch 24/120\n",
      "101/101 [==============================] - 25s 245ms/step - loss: 0.2934 - accuracy: 0.8816 - val_loss: 1.3186 - val_accuracy: 0.6712\n",
      "Epoch 25/120\n",
      "101/101 [==============================] - 25s 248ms/step - loss: 0.2785 - accuracy: 0.8889 - val_loss: 1.0746 - val_accuracy: 0.6818\n",
      "Epoch 26/120\n",
      "101/101 [==============================] - 24s 238ms/step - loss: 0.2785 - accuracy: 0.8891 - val_loss: 1.1279 - val_accuracy: 0.6794\n",
      "Epoch 27/120\n",
      "101/101 [==============================] - 24s 238ms/step - loss: 0.2455 - accuracy: 0.9026 - val_loss: 1.0457 - val_accuracy: 0.7056\n",
      "Epoch 28/120\n",
      "101/101 [==============================] - 24s 236ms/step - loss: 0.2464 - accuracy: 0.8978 - val_loss: 1.1896 - val_accuracy: 0.6800\n",
      "Epoch 29/120\n",
      "101/101 [==============================] - 24s 237ms/step - loss: 0.2393 - accuracy: 0.9078 - val_loss: 1.2198 - val_accuracy: 0.6675\n",
      "Epoch 30/120\n",
      "101/101 [==============================] - 24s 235ms/step - loss: 0.2303 - accuracy: 0.9076 - val_loss: 1.4734 - val_accuracy: 0.6650\n",
      "Epoch 31/120\n",
      "101/101 [==============================] - 24s 235ms/step - loss: 0.2224 - accuracy: 0.9086 - val_loss: 1.1064 - val_accuracy: 0.6999\n",
      "Epoch 32/120\n",
      "101/101 [==============================] - 24s 235ms/step - loss: 0.2066 - accuracy: 0.9153 - val_loss: 1.2678 - val_accuracy: 0.6606\n",
      "Epoch 33/120\n",
      "101/101 [==============================] - 24s 233ms/step - loss: 0.2181 - accuracy: 0.9109 - val_loss: 1.1244 - val_accuracy: 0.7056\n",
      "Epoch 34/120\n",
      "101/101 [==============================] - 24s 239ms/step - loss: 0.2070 - accuracy: 0.9098 - val_loss: 1.2364 - val_accuracy: 0.6769\n",
      "Epoch 35/120\n",
      "101/101 [==============================] - 24s 240ms/step - loss: 0.2031 - accuracy: 0.9168 - val_loss: 1.5277 - val_accuracy: 0.6425\n",
      "Epoch 36/120\n",
      "101/101 [==============================] - 26s 261ms/step - loss: 0.2066 - accuracy: 0.9195 - val_loss: 1.1564 - val_accuracy: 0.6999\n",
      "Epoch 37/120\n",
      "101/101 [==============================] - 25s 244ms/step - loss: 0.1794 - accuracy: 0.9270 - val_loss: 1.6459 - val_accuracy: 0.6382\n",
      "Epoch 38/120\n",
      "101/101 [==============================] - 25s 251ms/step - loss: 0.1990 - accuracy: 0.9198 - val_loss: 1.4642 - val_accuracy: 0.6712\n",
      "Epoch 39/120\n",
      "101/101 [==============================] - 25s 244ms/step - loss: 0.1758 - accuracy: 0.9284 - val_loss: 1.5039 - val_accuracy: 0.6925\n",
      "Epoch 40/120\n",
      "101/101 [==============================] - 25s 249ms/step - loss: 0.1704 - accuracy: 0.9292 - val_loss: 1.8293 - val_accuracy: 0.6606\n",
      "Epoch 41/120\n",
      "101/101 [==============================] - 25s 244ms/step - loss: 0.1612 - accuracy: 0.9335 - val_loss: 1.2721 - val_accuracy: 0.7037\n",
      "Epoch 42/120\n",
      "101/101 [==============================] - 25s 251ms/step - loss: 0.1674 - accuracy: 0.9326 - val_loss: 1.1416 - val_accuracy: 0.7105\n",
      "Epoch 43/120\n",
      "101/101 [==============================] - 24s 241ms/step - loss: 0.1604 - accuracy: 0.9351 - val_loss: 1.3442 - val_accuracy: 0.6631\n",
      "Epoch 44/120\n",
      "101/101 [==============================] - 24s 241ms/step - loss: 0.1550 - accuracy: 0.9352 - val_loss: 1.7114 - val_accuracy: 0.6862\n",
      "Epoch 45/120\n",
      "101/101 [==============================] - 25s 249ms/step - loss: 0.1726 - accuracy: 0.9303 - val_loss: 1.3185 - val_accuracy: 0.6887\n",
      "Epoch 46/120\n",
      "101/101 [==============================] - 25s 243ms/step - loss: 0.1525 - accuracy: 0.9390 - val_loss: 1.2264 - val_accuracy: 0.6868\n",
      "Epoch 47/120\n",
      "101/101 [==============================] - 25s 249ms/step - loss: 0.2227 - accuracy: 0.9140 - val_loss: 1.3255 - val_accuracy: 0.6993\n",
      "Epoch 48/120\n",
      "101/101 [==============================] - 25s 247ms/step - loss: 0.1588 - accuracy: 0.9346 - val_loss: 1.5652 - val_accuracy: 0.6756\n",
      "Epoch 49/120\n",
      "101/101 [==============================] - 26s 255ms/step - loss: 0.1386 - accuracy: 0.9430 - val_loss: 1.2648 - val_accuracy: 0.6675\n",
      "Epoch 50/120\n",
      "101/101 [==============================] - 25s 244ms/step - loss: 0.1405 - accuracy: 0.9376 - val_loss: 1.3554 - val_accuracy: 0.6812\n",
      "Epoch 51/120\n",
      "101/101 [==============================] - 24s 239ms/step - loss: 0.1466 - accuracy: 0.9373 - val_loss: 1.4350 - val_accuracy: 0.6974\n",
      "Epoch 52/120\n",
      "101/101 [==============================] - 25s 246ms/step - loss: 0.1447 - accuracy: 0.9407 - val_loss: 1.1614 - val_accuracy: 0.7087\n",
      "Epoch 53/120\n",
      "101/101 [==============================] - 25s 250ms/step - loss: 0.1503 - accuracy: 0.9371 - val_loss: 1.4200 - val_accuracy: 0.7149\n",
      "Epoch 54/120\n",
      "101/101 [==============================] - 26s 257ms/step - loss: 0.1362 - accuracy: 0.9443 - val_loss: 1.3395 - val_accuracy: 0.7105\n",
      "Epoch 55/120\n",
      "101/101 [==============================] - 25s 250ms/step - loss: 0.1317 - accuracy: 0.9459 - val_loss: 1.1433 - val_accuracy: 0.7049\n",
      "Epoch 56/120\n",
      "101/101 [==============================] - 26s 254ms/step - loss: 0.1403 - accuracy: 0.9420 - val_loss: 1.1850 - val_accuracy: 0.7243\n"
     ]
    },
    {
     "name": "stdout",
     "output_type": "stream",
     "text": [
      "Epoch 57/120\n",
      "101/101 [==============================] - 25s 251ms/step - loss: 0.1243 - accuracy: 0.9501 - val_loss: 1.3440 - val_accuracy: 0.6906\n",
      "Epoch 58/120\n",
      "101/101 [==============================] - 26s 256ms/step - loss: 0.1143 - accuracy: 0.9554 - val_loss: 1.1810 - val_accuracy: 0.7193\n",
      "Epoch 59/120\n",
      "101/101 [==============================] - 25s 248ms/step - loss: 0.1214 - accuracy: 0.9519 - val_loss: 1.3186 - val_accuracy: 0.7162\n",
      "Epoch 60/120\n",
      "101/101 [==============================] - 25s 249ms/step - loss: 0.1171 - accuracy: 0.9551 - val_loss: 1.1890 - val_accuracy: 0.7305\n",
      "Epoch 61/120\n",
      "101/101 [==============================] - 25s 250ms/step - loss: 0.1188 - accuracy: 0.9524 - val_loss: 1.1865 - val_accuracy: 0.7455\n",
      "Epoch 62/120\n",
      "101/101 [==============================] - 25s 242ms/step - loss: 0.1190 - accuracy: 0.9535 - val_loss: 1.6116 - val_accuracy: 0.6999\n",
      "Epoch 63/120\n",
      "101/101 [==============================] - 25s 248ms/step - loss: 0.1247 - accuracy: 0.9546 - val_loss: 1.6134 - val_accuracy: 0.6756\n",
      "Epoch 64/120\n",
      "101/101 [==============================] - 25s 246ms/step - loss: 0.1183 - accuracy: 0.9538 - val_loss: 1.4590 - val_accuracy: 0.7130\n",
      "Epoch 65/120\n",
      "101/101 [==============================] - 25s 247ms/step - loss: 0.1175 - accuracy: 0.9590 - val_loss: 1.7893 - val_accuracy: 0.6294\n",
      "Epoch 66/120\n",
      "101/101 [==============================] - 25s 246ms/step - loss: 0.1223 - accuracy: 0.9555 - val_loss: 1.4093 - val_accuracy: 0.7224\n",
      "Epoch 67/120\n",
      "101/101 [==============================] - 25s 246ms/step - loss: 0.1017 - accuracy: 0.9599 - val_loss: 1.3716 - val_accuracy: 0.7112\n",
      "Epoch 68/120\n",
      "101/101 [==============================] - 25s 243ms/step - loss: 0.1233 - accuracy: 0.9546 - val_loss: 1.1444 - val_accuracy: 0.7318\n",
      "Epoch 69/120\n",
      "101/101 [==============================] - 25s 252ms/step - loss: 0.1176 - accuracy: 0.9583 - val_loss: 1.1484 - val_accuracy: 0.6925\n",
      "Epoch 70/120\n",
      "101/101 [==============================] - 25s 250ms/step - loss: 0.1446 - accuracy: 0.9493 - val_loss: 1.5871 - val_accuracy: 0.6818\n",
      "Epoch 71/120\n",
      "101/101 [==============================] - 25s 247ms/step - loss: 0.1232 - accuracy: 0.9549 - val_loss: 1.2781 - val_accuracy: 0.6875\n",
      "Epoch 72/120\n",
      "101/101 [==============================] - 25s 247ms/step - loss: 0.1053 - accuracy: 0.9590 - val_loss: 1.5573 - val_accuracy: 0.7374\n",
      "Epoch 73/120\n",
      "101/101 [==============================] - 25s 251ms/step - loss: 0.1109 - accuracy: 0.9588 - val_loss: 1.2121 - val_accuracy: 0.7293\n",
      "Epoch 74/120\n",
      "101/101 [==============================] - 26s 254ms/step - loss: 0.1074 - accuracy: 0.9590 - val_loss: 1.1415 - val_accuracy: 0.7486\n",
      "Epoch 75/120\n",
      "101/101 [==============================] - 26s 255ms/step - loss: 0.0929 - accuracy: 0.9638 - val_loss: 1.3110 - val_accuracy: 0.7311\n",
      "Epoch 76/120\n",
      "101/101 [==============================] - 25s 248ms/step - loss: 0.0897 - accuracy: 0.9655 - val_loss: 1.2353 - val_accuracy: 0.7611\n",
      "Epoch 77/120\n",
      "101/101 [==============================] - 26s 255ms/step - loss: 0.1036 - accuracy: 0.9608 - val_loss: 1.1871 - val_accuracy: 0.7523\n",
      "Epoch 78/120\n",
      "101/101 [==============================] - 26s 253ms/step - loss: 0.0892 - accuracy: 0.9666 - val_loss: 1.1657 - val_accuracy: 0.7449\n",
      "Epoch 79/120\n",
      "101/101 [==============================] - 27s 266ms/step - loss: 0.0933 - accuracy: 0.9666 - val_loss: 1.2517 - val_accuracy: 0.7087\n",
      "Epoch 80/120\n",
      "101/101 [==============================] - 26s 259ms/step - loss: 0.0827 - accuracy: 0.9685 - val_loss: 1.2971 - val_accuracy: 0.7492\n",
      "Epoch 81/120\n",
      "101/101 [==============================] - 26s 255ms/step - loss: 0.0855 - accuracy: 0.9685 - val_loss: 1.5869 - val_accuracy: 0.7124\n",
      "Epoch 82/120\n",
      "101/101 [==============================] - 26s 255ms/step - loss: 0.0949 - accuracy: 0.9655 - val_loss: 1.2461 - val_accuracy: 0.7380\n",
      "Epoch 83/120\n",
      "101/101 [==============================] - 26s 261ms/step - loss: 0.0902 - accuracy: 0.9675 - val_loss: 1.2557 - val_accuracy: 0.7405\n",
      "Epoch 84/120\n",
      "101/101 [==============================] - 25s 244ms/step - loss: 0.0895 - accuracy: 0.9665 - val_loss: 1.3035 - val_accuracy: 0.7374\n",
      "Epoch 85/120\n",
      "101/101 [==============================] - 25s 252ms/step - loss: 0.0896 - accuracy: 0.9663 - val_loss: 1.5643 - val_accuracy: 0.6762\n",
      "Epoch 86/120\n",
      "101/101 [==============================] - 24s 241ms/step - loss: 0.0905 - accuracy: 0.9680 - val_loss: 1.1594 - val_accuracy: 0.7592\n",
      "Epoch 87/120\n",
      "101/101 [==============================] - 24s 234ms/step - loss: 0.0796 - accuracy: 0.9686 - val_loss: 1.3129 - val_accuracy: 0.7374\n",
      "Epoch 88/120\n",
      "101/101 [==============================] - 25s 243ms/step - loss: 0.1137 - accuracy: 0.9636 - val_loss: 1.5406 - val_accuracy: 0.7031\n",
      "Epoch 89/120\n",
      "101/101 [==============================] - 26s 255ms/step - loss: 0.0872 - accuracy: 0.9674 - val_loss: 1.2998 - val_accuracy: 0.7392\n",
      "Epoch 90/120\n",
      "101/101 [==============================] - 24s 242ms/step - loss: 0.0813 - accuracy: 0.9708 - val_loss: 1.1939 - val_accuracy: 0.7604\n",
      "Epoch 91/120\n",
      "101/101 [==============================] - 26s 255ms/step - loss: 0.0840 - accuracy: 0.9693 - val_loss: 1.3968 - val_accuracy: 0.7374\n",
      "Epoch 92/120\n",
      "101/101 [==============================] - 24s 240ms/step - loss: 0.1130 - accuracy: 0.9594 - val_loss: 1.3476 - val_accuracy: 0.7374\n",
      "Epoch 93/120\n",
      "101/101 [==============================] - 24s 236ms/step - loss: 0.0831 - accuracy: 0.9708 - val_loss: 1.2542 - val_accuracy: 0.7049\n",
      "Epoch 94/120\n",
      "101/101 [==============================] - 25s 246ms/step - loss: 0.0885 - accuracy: 0.9685 - val_loss: 2.7861 - val_accuracy: 0.6687\n",
      "Epoch 95/120\n",
      "101/101 [==============================] - 25s 250ms/step - loss: 0.0809 - accuracy: 0.9696 - val_loss: 1.4968 - val_accuracy: 0.7417\n",
      "Epoch 96/120\n",
      "101/101 [==============================] - 25s 243ms/step - loss: 0.0828 - accuracy: 0.9722 - val_loss: 1.4192 - val_accuracy: 0.7056\n",
      "Epoch 97/120\n",
      "101/101 [==============================] - 24s 235ms/step - loss: 0.0716 - accuracy: 0.9752 - val_loss: 1.2112 - val_accuracy: 0.7698\n",
      "Epoch 98/120\n",
      "101/101 [==============================] - 25s 244ms/step - loss: 0.0680 - accuracy: 0.9750 - val_loss: 1.2381 - val_accuracy: 0.7648\n",
      "Epoch 99/120\n",
      "101/101 [==============================] - 24s 240ms/step - loss: 0.0685 - accuracy: 0.9753 - val_loss: 1.2741 - val_accuracy: 0.7249\n",
      "Epoch 100/120\n",
      "101/101 [==============================] - 24s 241ms/step - loss: 0.0726 - accuracy: 0.9747 - val_loss: 1.7280 - val_accuracy: 0.7012\n",
      "Epoch 101/120\n",
      "101/101 [==============================] - 24s 237ms/step - loss: 0.0739 - accuracy: 0.9758 - val_loss: 1.6287 - val_accuracy: 0.7224\n",
      "Epoch 102/120\n",
      "101/101 [==============================] - 25s 246ms/step - loss: 0.0734 - accuracy: 0.9721 - val_loss: 1.3871 - val_accuracy: 0.7442\n",
      "Epoch 103/120\n",
      "101/101 [==============================] - 24s 242ms/step - loss: 0.0634 - accuracy: 0.9749 - val_loss: 1.1424 - val_accuracy: 0.7417\n",
      "Epoch 104/120\n",
      "101/101 [==============================] - 24s 238ms/step - loss: 0.0644 - accuracy: 0.9778 - val_loss: 2.7476 - val_accuracy: 0.6594\n",
      "Epoch 105/120\n",
      "101/101 [==============================] - 24s 239ms/step - loss: 0.0661 - accuracy: 0.9761 - val_loss: 1.6648 - val_accuracy: 0.7249\n",
      "Epoch 106/120\n",
      "101/101 [==============================] - 24s 236ms/step - loss: 0.0617 - accuracy: 0.9763 - val_loss: 1.2925 - val_accuracy: 0.7449\n",
      "Epoch 107/120\n",
      "101/101 [==============================] - 23s 233ms/step - loss: 0.0747 - accuracy: 0.9752 - val_loss: 1.8801 - val_accuracy: 0.7361\n",
      "Epoch 108/120\n",
      "101/101 [==============================] - 23s 232ms/step - loss: 0.0683 - accuracy: 0.9760 - val_loss: 1.2218 - val_accuracy: 0.7505\n",
      "Epoch 109/120\n",
      "101/101 [==============================] - 24s 236ms/step - loss: 0.0616 - accuracy: 0.9768 - val_loss: 1.3845 - val_accuracy: 0.7293\n",
      "Epoch 110/120\n",
      "101/101 [==============================] - 23s 224ms/step - loss: 0.0616 - accuracy: 0.9771 - val_loss: 1.2294 - val_accuracy: 0.7611\n",
      "Epoch 111/120\n",
      "101/101 [==============================] - 24s 234ms/step - loss: 0.0670 - accuracy: 0.9761 - val_loss: 1.3814 - val_accuracy: 0.7211\n",
      "Epoch 112/120\n"
     ]
    },
    {
     "name": "stdout",
     "output_type": "stream",
     "text": [
      "101/101 [==============================] - 23s 229ms/step - loss: 0.0704 - accuracy: 0.9735 - val_loss: 1.2755 - val_accuracy: 0.7480\n",
      "Epoch 113/120\n",
      "101/101 [==============================] - 24s 236ms/step - loss: 0.0728 - accuracy: 0.9741 - val_loss: 1.6966 - val_accuracy: 0.6737\n",
      "Epoch 114/120\n",
      "101/101 [==============================] - 24s 235ms/step - loss: 0.0746 - accuracy: 0.9764 - val_loss: 1.5782 - val_accuracy: 0.7062\n",
      "Epoch 115/120\n",
      "101/101 [==============================] - 24s 239ms/step - loss: 0.0907 - accuracy: 0.9691 - val_loss: 1.8257 - val_accuracy: 0.7006\n",
      "Epoch 116/120\n",
      "101/101 [==============================] - 25s 243ms/step - loss: 0.0794 - accuracy: 0.9729 - val_loss: 1.1490 - val_accuracy: 0.7623\n",
      "Epoch 117/120\n",
      "101/101 [==============================] - 24s 233ms/step - loss: 0.0858 - accuracy: 0.9719 - val_loss: 1.6683 - val_accuracy: 0.7255\n",
      "Epoch 118/120\n",
      "101/101 [==============================] - 24s 241ms/step - loss: 0.0613 - accuracy: 0.9780 - val_loss: 1.1975 - val_accuracy: 0.7442\n",
      "Epoch 119/120\n",
      "101/101 [==============================] - 24s 239ms/step - loss: 0.0594 - accuracy: 0.9789 - val_loss: 1.0150 - val_accuracy: 0.7704\n",
      "Epoch 120/120\n",
      "101/101 [==============================] - 24s 241ms/step - loss: 0.0721 - accuracy: 0.9760 - val_loss: 1.4322 - val_accuracy: 0.7461\n"
     ]
    }
   ],
   "source": [
    "NUM_EPOCHS = 120\n",
    "history = model.fit(X_train, y_train, validation_data=(X_val, y_val), batch_size=64, epochs=NUM_EPOCHS)\n"
   ]
  },
  {
   "cell_type": "code",
   "execution_count": 17,
   "id": "3af63741",
   "metadata": {},
   "outputs": [
    {
     "data": {
      "image/png": "[encoded data removed]",
      "text/plain": [
       "<Figure size 864x432 with 2 Axes>"
      ]
     },
     "metadata": {
      "needs_background": "light"
     },
     "output_type": "display_data"
    }
   ],
   "source": [
    "plot_history(history)"
   ]
  },
  {
   "cell_type": "markdown",
   "id": "c4556ec3",
   "metadata": {},
   "source": [
    "## Evaluation"
   ]
  },
  {
   "cell_type": "code",
   "execution_count": 18,
   "id": "9f5876b7",
   "metadata": {},
   "outputs": [
    {
     "name": "stdout",
     "output_type": "stream",
     "text": [
      "84/84 - 3s - loss: 1.3326 - accuracy: 0.7533 - 3s/epoch - 34ms/step\n"
     ]
    }
   ],
   "source": [
    "test_loss, test_acc = model.evaluate(X_test, y_test, verbose=2)"
   ]
  },
  {
   "cell_type": "code",
   "execution_count": 19,
   "id": "799a2cc0",
   "metadata": {},
   "outputs": [],
   "source": [
    "if '.DS_Store' in os.listdir(dataset_path):\n",
    "        os.remove(f'{dataset_path}/.DS_Store')\n",
    "\n",
    "languages = os.listdir(dataset_path)"
   ]
  },
  {
   "cell_type": "code",
   "execution_count": 20,
   "id": "473e0952",
   "metadata": {
    "scrolled": true
   },
   "outputs": [
    {
     "name": "stdout",
     "output_type": "stream",
     "text": [
      "84/84 [==============================] - 3s 34ms/step\n"
     ]
    },
    {
     "data": {
      "image/png": "[encoded data removed]",
      "text/plain": [
       "<Figure size 720x576 with 2 Axes>"
      ]
     },
     "metadata": {
      "needs_background": "light"
     },
     "output_type": "display_data"
    }
   ],
   "source": [
    "plot_confusion_matrix(model, X_test, languages)"
   ]
  },
  {
   "cell_type": "markdown",
   "id": "b531d1ff",
   "metadata": {},
   "source": [
    "# References:\n",
    "\n",
    "Mikhailava, V.; Leshnichaia, M.; Bogach, N.; Lezhenin, I.; Blake, J.; Pyshkin, E. Language Accent Detection with CNN Using Sparse Data from a Crowd-Sourced Speech Archive. Mathematics 2022, 10, 2913. https://doi.org/10.3390/ math10162913 "
   ]
  },
  {
   "cell_type": "code",
   "execution_count": null,
   "id": "43a32359",
   "metadata": {},
   "outputs": [],
   "source": []
  }
 ],
 "metadata": {
  "kernelspec": {
   "display_name": "Python 3.10.8 64-bit",
   "language": "python",
   "name": "python3"
  },
  "language_info": {
   "codemirror_mode": {
    "name": "ipython",
    "version": 3
   },
   "file_extension": ".py",
   "mimetype": "text/x-python",
   "name": "python",
   "nbconvert_exporter": "python",
   "pygments_lexer": "ipython3",
   "version": "3.10.8"
  },
  "vscode": {
   "interpreter": {
    "hash": "e7370f93d1d0cde622a1f8e1c04877d8463912d04d973331ad4851f04de6915a"
   }
  }
 },
 "nbformat": 4,
 "nbformat_minor": 5
}
