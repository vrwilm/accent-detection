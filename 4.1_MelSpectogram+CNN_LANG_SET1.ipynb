{
 "cells": [
  {
   "cell_type": "markdown",
   "id": "66191764",
   "metadata": {},
   "source": [
    "![./img/sp_tiny.png](./img/sp_tiny.png)\n",
    "<h1><center>Accent Detection: <br>\n",
    "Signal Processing  + CNN</center></h1>\n",
    "<h3><center>Part 4.1: Signal Processing + CNN - Languages Set 1 </center></h3>\n",
    "<center>Group 2: Katerina Bosko and Victor Wilm\n",
    "<center>Northeastern University, CS6140"
   ]
  },
  {
   "cell_type": "code",
   "execution_count": 1,
   "id": "164ca608",
   "metadata": {},
   "outputs": [
    {
     "name": "stderr",
     "output_type": "stream",
     "text": [
      "2022-12-14 16:58:47.349813: I tensorflow/core/platform/cpu_feature_guard.cc:193] This TensorFlow binary is optimized with oneAPI Deep Neural Network Library (oneDNN) to use the following CPU instructions in performance-critical operations:  AVX2 FMA\n",
      "To enable them in other operations, rebuild TensorFlow with the appropriate compiler flags.\n"
     ]
    }
   ],
   "source": [
    "import os\n",
    "from glob import glob\n",
    "from ipywidgets import IntProgress\n",
    "import json\n",
    "\n",
    "from sklearn.preprocessing import StandardScaler\n",
    "from sklearn.model_selection import train_test_split\n",
    "\n",
    "from keras.callbacks import EarlyStopping\n",
    "from tensorflow.keras.models import Sequential\n",
    "from tensorflow.keras.layers import Conv2D, Dense, Flatten, MaxPooling2D, BatchNormalization, Dropout\n",
    "from tensorflow.keras.optimizers import Adam\n",
    "import tensorflow as tf\n",
    "\n",
    "import librosa\n",
    "import numpy as np\n",
    "import matplotlib.pyplot as plt\n",
    "import seaborn as sns\n",
    "\n",
    "# Set the seed value for experiment reproducibility\n",
    "seed = 36\n",
    "tf.random.set_seed(seed)\n",
    "np.random.seed(seed)"
   ]
  },
  {
   "attachments": {},
   "cell_type": "markdown",
   "id": "d056a8c9",
   "metadata": {},
   "source": [
    "In this notebook, we perform CNN on Mel Spectograms produced by Signal Processing. The approach is based on the paper by Michailava et al (2022) mentioned in the references. "
   ]
  },
  {
   "cell_type": "markdown",
   "id": "1bb734aa",
   "metadata": {},
   "source": [
    "# 1. Signal Processing"
   ]
  },
  {
   "attachments": {},
   "cell_type": "markdown",
   "id": "19d350fd",
   "metadata": {},
   "source": [
    "## Notes on parameters\n",
    "\n",
    "### Sample rate\n",
    "Sample rate = 22050 Hz was not changed. This is standard in librosa library.\n",
    "\n",
    "### STFT window size\n",
    "https://librosa.org/doc/latest/generated/librosa.stft.html#librosa.stft\n",
    "\n",
    "n_fft = length of the windowed signal after padding with zeros. The number of rows in the STFT matrix D is (1 + n_fft/2). **The default value, n_fft=2048 samples**, corresponds to a physical duration of 93 milliseconds at a sample rate of 22050 Hz, i.e. the default sample rate in librosa. This value is well adapted for **music signals**. However, in **speech processing, the recommended value is 512**, corresponding to 23 milliseconds at a sample rate of 22050 Hz. In any case, we recommend setting n_fft to a power of two for optimizing the speed of the fast Fourier transform (FFT) algorithm.\n",
    "\n",
    "Based on above description, n_fft=512 was chosen, which is equivalent to 512/22050=0.023 or 23 ms\n",
    "\n",
    "### Hop length\n",
    "Hop length was chosen as window_size // 2 = 512//2 = 256, which is equivalent to 256//22050=0.011 or 11 ms\n",
    "Such a hop length ensures that there is a signal overlap when extracting STFT features.\n",
    "\n",
    "### Frame size\n",
    "Frame size was chosen as 75 frames, which is rather small such that we can extract phonemes. We experimented with a larger number of frame size and it didn't result into higher than 30-40% accuracy scores.\n",
    "\n",
    "\n",
    "## Notes on processing steps\n",
    "Preprocessing steps are as follows:\n",
    "\n",
    "1. Balancing the dataset\n",
    "2. Signal Processing with the chosen method\n",
    "3. Normalization at the level of each frequency\n",
    "4. Segmentation based on the frame size\n",
    "\n",
    "We experimented with different order of processing steps. For instance, \n",
    "1. Segmentation\n",
    "2. Signal processing\n",
    "3. Normalization \n",
    "\n",
    "or:\n",
    "1. Normalization\n",
    "2. Segmentation\n",
    "3. Signal processing\n",
    "\n",
    "\n",
    "these approaches also failed (the accuracy scores were not high enough)."
   ]
  },
  {
   "cell_type": "code",
   "execution_count": 2,
   "id": "0e354f82",
   "metadata": {},
   "outputs": [],
   "source": [
    "def get_max_num_files(dataset_path):\n",
    "    # get links to audio files\n",
    "    audio_files = glob(f\"{dataset_path}/*/*.wav\")\n",
    "    # note .DS_store needs to be removed\n",
    "    if '.DS_Store' in os.listdir(dataset_path):\n",
    "        os.remove(f'{dataset_path}/.DS_Store')\n",
    "\n",
    "    languages = os.listdir(dataset_path)\n",
    "    audio_files_by_lang = {}\n",
    "    for lang in languages:\n",
    "        audio_files_by_lang[lang] = glob(f\"{dataset_path}/{lang}/*.wav\")\n",
    "\n",
    "    num_files_per_lang = [len(audio_files_by_lang[lang]) for lang in audio_files_by_lang]\n",
    "    return np.array(num_files_per_lang).min()"
   ]
  },
  {
   "cell_type": "code",
   "execution_count": 3,
   "id": "1952d79f",
   "metadata": {},
   "outputs": [],
   "source": [
    "def limit_num_audio_files_per_lang(dataset_path):\n",
    "    max_num_files = get_max_num_files(dataset_path)\n",
    "    if '.DS_Store' in os.listdir(dataset_path):\n",
    "        os.remove(f'{dataset_path}/.DS_Store')\n",
    "\n",
    "    languages = os.listdir(dataset_path)\n",
    "    lang_mapping = {l: i for i, l in enumerate(languages)}\n",
    "\n",
    "    audio_files_by_lang = {}\n",
    "    # limit to MAX_NUM_FILES for each lang\n",
    "    for lang in languages:\n",
    "        audio_files_by_lang[lang] = glob(f\"{dataset_path}/{lang}/*.wav\")[:max_num_files]\n",
    "        print(f\"num audio files for {lang.upper()}: {len(audio_files_by_lang[lang])}\")\n",
    "\n",
    "    audio_files = [file for lang_files in audio_files_by_lang.values() for file in lang_files]\n",
    "    return audio_files"
   ]
  },
  {
   "cell_type": "code",
   "execution_count": 4,
   "id": "f489e22d",
   "metadata": {},
   "outputs": [],
   "source": [
    "def extract_features_melspectogram(dataset_path, sample_rate=22050, n_fft=512, frame_size=75, n_mels=64):\n",
    "    hop_length = n_fft // 2\n",
    "    win_len = n_fft\n",
    "\n",
    "    # get languages mapping for y\n",
    "    languages = os.listdir(dataset_path)\n",
    "    lang_mapping = {l: i for i, l in enumerate(languages)}\n",
    "\n",
    "    # PROCESSING STEPS\n",
    "    # 1. Balancing the dataset\n",
    "    audio_files = limit_num_audio_files_per_lang(dataset_path)\n",
    "    \n",
    "    # instantiate the progress bar\n",
    "    f = IntProgress(min=0, max=len(audio_files)) \n",
    "    display(f) # display the bar\n",
    "\n",
    "\n",
    "    X = []\n",
    "    y = []\n",
    "    for file in audio_files:\n",
    "        f.value += 1\n",
    "        # get file's language\n",
    "        lang_pos = len(dataset_path.split(\"/\"))\n",
    "        lang = file.split(\"/\")[lang_pos]\n",
    "        \n",
    "        # 2. Signal processing\n",
    "        signal, _ = librosa.load(file, sr=sample_rate)\n",
    "        # mel_sp shape (n_mels, len(signal)/hop_length), e.g. (64, 1852)\n",
    "        mel_sp = librosa.feature.melspectrogram(y=signal, sr=sample_rate, n_mels=n_mels, hop_length=hop_length,\n",
    "                                           win_length=win_len, power=1.0)        \n",
    "        # 3. Normalization along N_MEL axis\n",
    "        mel_sp_norm_vector = []\n",
    "        for i in range(mel_sp.shape[0]):\n",
    "            mel_sp_norm = StandardScaler().fit_transform(mel_sp[i, :].reshape(-1, 1)).reshape(-1)\n",
    "            mel_sp_norm_vector.append(mel_sp_norm)\n",
    "\n",
    "        features = np.vstack(mel_sp_norm_vector)\n",
    "        \n",
    "        # 4. Segmentation based on frame size\n",
    "        segments = []\n",
    "        labels = []\n",
    "        new_signal_len = features.shape[1]\n",
    "        for frame_start in range(0, int(new_signal_len / frame_size)):\n",
    "            # features_cut.shape = (n_mels, frame_size), e.g. (64, 75)\n",
    "            features_cut = features[:, frame_start * frame_size:(frame_start + 1) * frame_size]\n",
    "            # num segments = stft_signal_len // frame_size, e.g. 1852 // 75 = 24\n",
    "            segments.append(features_cut)\n",
    "            labels.append(lang_mapping[lang])\n",
    "        # X_per_file.shape = (n_mels * num_segments, frame_size), e.g. (64 * 24, 75)=(1536, 75) \n",
    "        X_per_file = np.vstack(segments)\n",
    "        y_per_file = np.vstack(labels)\n",
    "        # X.shape = (sum(n_mels * num_segments per file), frame_size), e.g. ((1536+1856...), 75)\n",
    "        X.append(X_per_file)\n",
    "        # y is same as total number of segments\n",
    "        y.append(y_per_file)\n",
    "    \n",
    "    # transform X list into np.array (doesn't change shape)\n",
    "    X = np.vstack(X)\n",
    "    y = np.vstack(y)\n",
    "    \n",
    "    # reshape into (total_num_segments, n_mels, frame_size)\n",
    "    total_num_segments = y.shape[0]\n",
    "    X = X.reshape(total_num_segments, -1, frame_size)\n",
    "    print(X.shape, y.shape)\n",
    "    return X, y "
   ]
  },
  {
   "cell_type": "markdown",
   "id": "346dd2b7",
   "metadata": {},
   "source": [
    "# Languages set 1: English, Russian, German, Mandarin"
   ]
  },
  {
   "cell_type": "code",
   "execution_count": 5,
   "id": "8fdf9710",
   "metadata": {},
   "outputs": [
    {
     "name": "stdout",
     "output_type": "stream",
     "text": [
      "num audio files for GERMAN: 45\n",
      "num audio files for MANDARIN: 45\n",
      "num audio files for RUSSIAN: 45\n",
      "num audio files for ENGLISH: 45\n"
     ]
    },
    {
     "data": {
      "application/vnd.jupyter.widget-view+json": {
       "model_id": "ddef8ba145414b8abd50543657f0d48a",
       "version_major": 2,
       "version_minor": 0
      },
      "text/plain": [
       "IntProgress(value=0, max=180)"
      ]
     },
     "metadata": {},
     "output_type": "display_data"
    },
    {
     "name": "stdout",
     "output_type": "stream",
     "text": [
      "(5481, 64, 75) (5481, 1)\n"
     ]
    }
   ],
   "source": [
    "dataset_path = \"./data/lang_set_1\"\n",
    "X, y = extract_features_melspectogram(dataset_path)"
   ]
  },
  {
   "cell_type": "code",
   "execution_count": 6,
   "id": "9bee9e5d",
   "metadata": {},
   "outputs": [
    {
     "data": {
      "text/plain": [
       "((5481, 64, 75), (5481, 1))"
      ]
     },
     "execution_count": 6,
     "metadata": {},
     "output_type": "execute_result"
    }
   ],
   "source": [
    "X.shape, y.shape"
   ]
  },
  {
   "cell_type": "code",
   "execution_count": 7,
   "id": "69a61450",
   "metadata": {},
   "outputs": [],
   "source": [
    "# data = {\"x\": X.tolist(), \"y\": y.tolist(), \"x_shape\": X.shape, \"y_shape\": y.shape}\n",
    "# JSON_PATH = \"./data/stft_normalized_segmentedafter_oldlang.json\"\n",
    "\n",
    "# with open(JSON_PATH, \"w\") as fp:\n",
    "#     json.dump(data, fp, indent=4)"
   ]
  },
  {
   "cell_type": "markdown",
   "id": "e8af74b0",
   "metadata": {},
   "source": [
    "## Splitting into Train, Validation, Test"
   ]
  },
  {
   "cell_type": "code",
   "execution_count": 8,
   "id": "7b2f5805",
   "metadata": {},
   "outputs": [],
   "source": [
    "def prepare_datasets(X, y, test_size, validation_size):\n",
    "    \"\"\"\n",
    "    Loads data and splits it into train, validation and test sets\n",
    "    \"\"\"\n",
    "\n",
    "    # create train, validation and test split\n",
    "    X_train, X_test, y_train, y_test = train_test_split(X, y, test_size=test_size, random_state=1234)\n",
    "    X_train, X_validation, y_train, y_validation = train_test_split(X_train, y_train, test_size=validation_size, random_state=1234)\n",
    "\n",
    "    # add an axis to input sets (aka channel for image)\n",
    "    X_train = X_train[..., np.newaxis]\n",
    "    X_validation = X_validation[..., np.newaxis]\n",
    "    X_test = X_test[..., np.newaxis]\n",
    "\n",
    "    return X_train, X_validation, X_test, y_train, y_validation, y_test"
   ]
  },
  {
   "cell_type": "code",
   "execution_count": 9,
   "id": "4b0c3880",
   "metadata": {},
   "outputs": [],
   "source": [
    "X_train, X_val, X_test, y_train, y_val, y_test = prepare_datasets(X, y, 0.25, 0.2)"
   ]
  },
  {
   "cell_type": "code",
   "execution_count": 10,
   "id": "10043bd5",
   "metadata": {},
   "outputs": [
    {
     "data": {
      "text/plain": [
       "((3288, 64, 75, 1), (822, 64, 75, 1), (1371, 64, 75, 1))"
      ]
     },
     "execution_count": 10,
     "metadata": {},
     "output_type": "execute_result"
    }
   ],
   "source": [
    "# shape (`batch_size`, `height`, `width`, `channels`)\n",
    "X_train.shape, X_val.shape, X_test.shape"
   ]
  },
  {
   "cell_type": "markdown",
   "id": "09c23b9b",
   "metadata": {},
   "source": [
    "# 2. CNN"
   ]
  },
  {
   "cell_type": "code",
   "execution_count": 11,
   "id": "204644ab",
   "metadata": {},
   "outputs": [],
   "source": [
    "def plot_history(history):\n",
    "    \"\"\"\n",
    "    Plots accuracy/loss for training/validation set as a function of the epochs\n",
    "    \"\"\"\n",
    "\n",
    "    fig, ax = plt.subplots(figsize=(12,6), ncols=2)\n",
    "\n",
    "    # accuracy sublpot\n",
    "    ax[0].plot(history.history[\"accuracy\"], label=\"train accuracy\")\n",
    "    ax[0].plot(history.history[\"val_accuracy\"], label=\"val accuracy\")\n",
    "    ax[0].set_ylabel(\"Accuracy\")\n",
    "    ax[1].set_xlabel(\"Epoch\")\n",
    "    ax[0].set_ylim([0,1])\n",
    "    ax[0].set_title(\"Accuracy\")\n",
    "\n",
    "    # loss sublpot\n",
    "    ax[1].plot(history.history[\"loss\"], label=\"train error\")\n",
    "    ax[1].plot(history.history[\"val_loss\"], label=\"val error\")\n",
    "    ax[1].set_ylabel(\"Error\")\n",
    "    ax[1].set_xlabel(\"Epoch\")\n",
    "    ax[1].set_title(\"Loss\")\n",
    "    plt.legend()\n",
    "\n",
    "    plt.show()"
   ]
  },
  {
   "cell_type": "code",
   "execution_count": 12,
   "id": "cd713316",
   "metadata": {},
   "outputs": [],
   "source": [
    "def plot_confusion_matrix(model, X_test, languages):\n",
    "    \"\"\"\n",
    "    Plots confusion matrix for model prediction on test \n",
    "    \"\"\"\n",
    "\n",
    "    y_pred = model.predict(X_test)\n",
    "\n",
    "    y_pred = np.argmax(y_pred, axis=1)\n",
    "\n",
    "    y_true = y_test\n",
    "\n",
    "    confusion_mtx = tf.math.confusion_matrix(y_true, y_pred)\n",
    "\n",
    "    plt.figure(figsize=(10, 8))\n",
    "    sns.heatmap(confusion_mtx,\n",
    "                xticklabels=languages,\n",
    "                yticklabels=languages,\n",
    "                annot=True, fmt='g')\n",
    "    plt.xlabel('Prediction')\n",
    "    plt.ylabel('Label')\n",
    "    plt.show()"
   ]
  },
  {
   "cell_type": "code",
   "execution_count": 13,
   "id": "6ff7e5ab",
   "metadata": {},
   "outputs": [
    {
     "data": {
      "text/plain": [
       "(64, 75, 1)"
      ]
     },
     "execution_count": 13,
     "metadata": {},
     "output_type": "execute_result"
    }
   ],
   "source": [
    "input_shape = X_train.shape[1:]\n",
    "input_shape"
   ]
  },
  {
   "cell_type": "code",
   "execution_count": 14,
   "id": "128aaa85",
   "metadata": {},
   "outputs": [
    {
     "name": "stderr",
     "output_type": "stream",
     "text": [
      "2022-12-14 17:01:50.123021: I tensorflow/core/platform/cpu_feature_guard.cc:193] This TensorFlow binary is optimized with oneAPI Deep Neural Network Library (oneDNN) to use the following CPU instructions in performance-critical operations:  AVX2 FMA\n",
      "To enable them in other operations, rebuild TensorFlow with the appropriate compiler flags.\n"
     ]
    }
   ],
   "source": [
    "NUM_LABELS = 4\n",
    "\n",
    "tf.keras.backend.clear_session()\n",
    "model = Sequential()\n",
    "\n",
    "# 1st conv layer\n",
    "model.add(Conv2D(32, (3, 3), activation='relu', input_shape=input_shape))\n",
    "model.add(BatchNormalization())\n",
    "model.add(MaxPooling2D((3, 3), strides=(2, 2), padding='same'))\n",
    "\n",
    "# 2nd conv layer\n",
    "model.add(Conv2D(64, (3, 3), activation='relu'))\n",
    "model.add(BatchNormalization())\n",
    "model.add(MaxPooling2D((3, 3), strides=(2, 2), padding='same'))\n",
    "model.add(Dropout(0.1))\n",
    "\n",
    "# flatten output and feed it into dense layer\n",
    "model.add(Flatten())\n",
    "model.add(Dense(128, activation='relu'))\n",
    "model.add(Dropout(0.1))\n",
    "\n",
    "# output layer\n",
    "model.add(Dense(NUM_LABELS, activation='softmax'))"
   ]
  },
  {
   "cell_type": "code",
   "execution_count": 15,
   "id": "16d8a755",
   "metadata": {},
   "outputs": [
    {
     "name": "stdout",
     "output_type": "stream",
     "text": [
      "Model: \"sequential\"\n",
      "_________________________________________________________________\n",
      " Layer (type)                Output Shape              Param #   \n",
      "=================================================================\n",
      " conv2d (Conv2D)             (None, 62, 73, 32)        320       \n",
      "                                                                 \n",
      " batch_normalization (BatchN  (None, 62, 73, 32)       128       \n",
      " ormalization)                                                   \n",
      "                                                                 \n",
      " max_pooling2d (MaxPooling2D  (None, 31, 37, 32)       0         \n",
      " )                                                               \n",
      "                                                                 \n",
      " conv2d_1 (Conv2D)           (None, 29, 35, 64)        18496     \n",
      "                                                                 \n",
      " batch_normalization_1 (Batc  (None, 29, 35, 64)       256       \n",
      " hNormalization)                                                 \n",
      "                                                                 \n",
      " max_pooling2d_1 (MaxPooling  (None, 15, 18, 64)       0         \n",
      " 2D)                                                             \n",
      "                                                                 \n",
      " dropout (Dropout)           (None, 15, 18, 64)        0         \n",
      "                                                                 \n",
      " flatten (Flatten)           (None, 17280)             0         \n",
      "                                                                 \n",
      " dense (Dense)               (None, 128)               2211968   \n",
      "                                                                 \n",
      " dropout_1 (Dropout)         (None, 128)               0         \n",
      "                                                                 \n",
      " dense_1 (Dense)             (None, 4)                 516       \n",
      "                                                                 \n",
      "=================================================================\n",
      "Total params: 2,231,684\n",
      "Trainable params: 2,231,492\n",
      "Non-trainable params: 192\n",
      "_________________________________________________________________\n"
     ]
    }
   ],
   "source": [
    "# https://www.tensorflow.org/api_docs/python/tf/keras/optimizers/Adam\n",
    "# default values: lr=0.001 beta_1=0.9 beta_2=0.999 as in paper\n",
    "optimiser = Adam()\n",
    "model.compile(optimizer=optimiser,\n",
    "                  loss='sparse_categorical_crossentropy',\n",
    "                  metrics=['accuracy'])\n",
    "\n",
    "model.summary()"
   ]
  },
  {
   "cell_type": "code",
   "execution_count": 16,
   "id": "f7671159",
   "metadata": {},
   "outputs": [
    {
     "name": "stdout",
     "output_type": "stream",
     "text": [
      "Epoch 1/120\n",
      "52/52 [==============================] - 17s 292ms/step - loss: 2.5758 - accuracy: 0.2643 - val_loss: 5.1676 - val_accuracy: 0.3054\n",
      "Epoch 2/120\n",
      "52/52 [==============================] - 15s 282ms/step - loss: 1.3781 - accuracy: 0.2822 - val_loss: 16.2631 - val_accuracy: 0.2932\n",
      "Epoch 3/120\n",
      "52/52 [==============================] - 15s 295ms/step - loss: 1.3694 - accuracy: 0.2810 - val_loss: 21.3941 - val_accuracy: 0.2908\n",
      "Epoch 4/120\n",
      "52/52 [==============================] - 15s 298ms/step - loss: 1.3575 - accuracy: 0.2950 - val_loss: 21.3673 - val_accuracy: 0.2883\n",
      "Epoch 5/120\n",
      "52/52 [==============================] - 16s 297ms/step - loss: 1.3354 - accuracy: 0.3120 - val_loss: 18.3080 - val_accuracy: 0.2981\n",
      "Epoch 6/120\n",
      "52/52 [==============================] - 15s 285ms/step - loss: 1.3057 - accuracy: 0.3245 - val_loss: 13.3644 - val_accuracy: 0.2968\n",
      "Epoch 7/120\n",
      "52/52 [==============================] - 15s 286ms/step - loss: 1.2679 - accuracy: 0.3604 - val_loss: 9.1562 - val_accuracy: 0.2981\n",
      "Epoch 8/120\n",
      "52/52 [==============================] - 15s 287ms/step - loss: 1.2188 - accuracy: 0.3936 - val_loss: 5.7725 - val_accuracy: 0.3151\n",
      "Epoch 9/120\n",
      "52/52 [==============================] - 15s 286ms/step - loss: 1.1970 - accuracy: 0.4215 - val_loss: 2.7894 - val_accuracy: 0.3273\n",
      "Epoch 10/120\n",
      "52/52 [==============================] - 15s 289ms/step - loss: 1.1532 - accuracy: 0.4653 - val_loss: 2.2302 - val_accuracy: 0.3431\n",
      "Epoch 11/120\n",
      "52/52 [==============================] - 15s 294ms/step - loss: 1.0853 - accuracy: 0.5015 - val_loss: 1.7710 - val_accuracy: 0.3808\n",
      "Epoch 12/120\n",
      "52/52 [==============================] - 16s 303ms/step - loss: 1.0363 - accuracy: 0.5252 - val_loss: 1.8313 - val_accuracy: 0.3844\n",
      "Epoch 13/120\n",
      "52/52 [==============================] - 14s 265ms/step - loss: 0.9652 - accuracy: 0.5681 - val_loss: 1.7877 - val_accuracy: 0.4148\n",
      "Epoch 14/120\n",
      "52/52 [==============================] - 14s 275ms/step - loss: 0.9149 - accuracy: 0.5991 - val_loss: 1.4733 - val_accuracy: 0.4246\n",
      "Epoch 15/120\n",
      "52/52 [==============================] - 15s 280ms/step - loss: 0.8411 - accuracy: 0.6335 - val_loss: 1.7124 - val_accuracy: 0.4489\n",
      "Epoch 16/120\n",
      "52/52 [==============================] - 14s 266ms/step - loss: 0.7493 - accuracy: 0.6676 - val_loss: 1.7708 - val_accuracy: 0.4404\n",
      "Epoch 17/120\n",
      "52/52 [==============================] - 14s 263ms/step - loss: 0.7235 - accuracy: 0.6928 - val_loss: 1.4475 - val_accuracy: 0.4781\n",
      "Epoch 18/120\n",
      "52/52 [==============================] - 14s 266ms/step - loss: 0.6452 - accuracy: 0.7202 - val_loss: 1.4157 - val_accuracy: 0.5134\n",
      "Epoch 19/120\n",
      "52/52 [==============================] - 15s 297ms/step - loss: 0.5994 - accuracy: 0.7445 - val_loss: 1.7642 - val_accuracy: 0.5292\n",
      "Epoch 20/120\n",
      "52/52 [==============================] - 16s 307ms/step - loss: 0.5341 - accuracy: 0.7670 - val_loss: 1.5956 - val_accuracy: 0.5328\n",
      "Epoch 21/120\n",
      "52/52 [==============================] - 14s 276ms/step - loss: 0.4871 - accuracy: 0.7892 - val_loss: 1.6348 - val_accuracy: 0.5572\n",
      "Epoch 22/120\n",
      "52/52 [==============================] - 16s 302ms/step - loss: 0.4304 - accuracy: 0.8108 - val_loss: 1.6836 - val_accuracy: 0.5255\n",
      "Epoch 23/120\n",
      "52/52 [==============================] - 17s 330ms/step - loss: 0.4119 - accuracy: 0.8221 - val_loss: 1.7982 - val_accuracy: 0.5560\n",
      "Epoch 24/120\n",
      "52/52 [==============================] - 14s 263ms/step - loss: 0.3886 - accuracy: 0.8327 - val_loss: 1.4085 - val_accuracy: 0.5681\n",
      "Epoch 25/120\n",
      "52/52 [==============================] - 12s 236ms/step - loss: 0.3842 - accuracy: 0.8342 - val_loss: 1.9013 - val_accuracy: 0.5633\n",
      "Epoch 26/120\n",
      "52/52 [==============================] - 13s 243ms/step - loss: 0.3333 - accuracy: 0.8531 - val_loss: 1.7592 - val_accuracy: 0.5681\n",
      "Epoch 27/120\n",
      "52/52 [==============================] - 13s 259ms/step - loss: 0.3238 - accuracy: 0.8631 - val_loss: 1.9483 - val_accuracy: 0.5316\n",
      "Epoch 28/120\n",
      "52/52 [==============================] - 13s 247ms/step - loss: 0.3027 - accuracy: 0.8753 - val_loss: 1.6438 - val_accuracy: 0.5730\n",
      "Epoch 29/120\n",
      "52/52 [==============================] - 13s 241ms/step - loss: 0.3105 - accuracy: 0.8683 - val_loss: 1.7186 - val_accuracy: 0.5961\n",
      "Epoch 30/120\n",
      "52/52 [==============================] - 13s 247ms/step - loss: 0.2705 - accuracy: 0.8811 - val_loss: 1.5277 - val_accuracy: 0.6034\n",
      "Epoch 31/120\n",
      "52/52 [==============================] - 12s 237ms/step - loss: 0.2745 - accuracy: 0.8808 - val_loss: 1.5036 - val_accuracy: 0.6083\n",
      "Epoch 32/120\n",
      "52/52 [==============================] - 12s 238ms/step - loss: 0.2840 - accuracy: 0.8796 - val_loss: 1.5976 - val_accuracy: 0.5876\n",
      "Epoch 33/120\n",
      "52/52 [==============================] - 12s 240ms/step - loss: 0.2284 - accuracy: 0.9072 - val_loss: 1.8066 - val_accuracy: 0.5803\n",
      "Epoch 34/120\n",
      "52/52 [==============================] - 13s 245ms/step - loss: 0.2507 - accuracy: 0.8939 - val_loss: 1.8491 - val_accuracy: 0.5961\n",
      "Epoch 35/120\n",
      "52/52 [==============================] - 13s 243ms/step - loss: 0.2319 - accuracy: 0.9075 - val_loss: 1.8694 - val_accuracy: 0.5937\n",
      "Epoch 36/120\n",
      "52/52 [==============================] - 12s 239ms/step - loss: 0.2183 - accuracy: 0.9091 - val_loss: 1.4759 - val_accuracy: 0.6277\n",
      "Epoch 37/120\n",
      "52/52 [==============================] - 13s 249ms/step - loss: 0.1995 - accuracy: 0.9142 - val_loss: 1.4860 - val_accuracy: 0.6399\n",
      "Epoch 38/120\n",
      "52/52 [==============================] - 13s 248ms/step - loss: 0.1888 - accuracy: 0.9240 - val_loss: 1.6488 - val_accuracy: 0.6058\n",
      "Epoch 39/120\n",
      "52/52 [==============================] - 13s 251ms/step - loss: 0.2011 - accuracy: 0.9112 - val_loss: 1.8538 - val_accuracy: 0.6071\n",
      "Epoch 40/120\n",
      "52/52 [==============================] - 13s 246ms/step - loss: 0.1972 - accuracy: 0.9191 - val_loss: 1.6943 - val_accuracy: 0.6119\n",
      "Epoch 41/120\n",
      "52/52 [==============================] - 13s 243ms/step - loss: 0.1762 - accuracy: 0.9243 - val_loss: 2.2111 - val_accuracy: 0.5547\n",
      "Epoch 42/120\n",
      "52/52 [==============================] - 13s 248ms/step - loss: 0.1825 - accuracy: 0.9185 - val_loss: 1.9218 - val_accuracy: 0.5900\n",
      "Epoch 43/120\n",
      "52/52 [==============================] - 13s 241ms/step - loss: 0.1736 - accuracy: 0.9252 - val_loss: 2.1718 - val_accuracy: 0.5815\n",
      "Epoch 44/120\n",
      "52/52 [==============================] - 13s 249ms/step - loss: 0.1566 - accuracy: 0.9307 - val_loss: 2.0495 - val_accuracy: 0.6144\n",
      "Epoch 45/120\n",
      "52/52 [==============================] - 13s 257ms/step - loss: 0.1698 - accuracy: 0.9294 - val_loss: 1.7820 - val_accuracy: 0.6010\n",
      "Epoch 46/120\n",
      "52/52 [==============================] - 13s 257ms/step - loss: 0.1526 - accuracy: 0.9386 - val_loss: 1.7081 - val_accuracy: 0.6314\n",
      "Epoch 47/120\n",
      "52/52 [==============================] - 12s 235ms/step - loss: 0.1294 - accuracy: 0.9443 - val_loss: 1.8565 - val_accuracy: 0.6095\n",
      "Epoch 48/120\n",
      "52/52 [==============================] - 12s 235ms/step - loss: 0.1477 - accuracy: 0.9370 - val_loss: 1.8270 - val_accuracy: 0.6058\n",
      "Epoch 49/120\n",
      "52/52 [==============================] - 12s 236ms/step - loss: 0.1401 - accuracy: 0.9410 - val_loss: 1.9821 - val_accuracy: 0.6326\n",
      "Epoch 50/120\n",
      "52/52 [==============================] - 13s 242ms/step - loss: 0.1395 - accuracy: 0.9398 - val_loss: 1.7512 - val_accuracy: 0.6399\n",
      "Epoch 51/120\n",
      "52/52 [==============================] - 12s 237ms/step - loss: 0.1288 - accuracy: 0.9465 - val_loss: 2.1241 - val_accuracy: 0.5912\n",
      "Epoch 52/120\n",
      "52/52 [==============================] - 12s 238ms/step - loss: 0.1658 - accuracy: 0.9288 - val_loss: 1.9568 - val_accuracy: 0.6022\n",
      "Epoch 53/120\n",
      "52/52 [==============================] - 13s 243ms/step - loss: 0.1523 - accuracy: 0.9413 - val_loss: 1.9748 - val_accuracy: 0.6010\n",
      "Epoch 54/120\n",
      "52/52 [==============================] - 13s 241ms/step - loss: 0.1315 - accuracy: 0.9516 - val_loss: 1.5823 - val_accuracy: 0.6375\n",
      "Epoch 55/120\n",
      "52/52 [==============================] - 12s 239ms/step - loss: 0.1167 - accuracy: 0.9523 - val_loss: 1.6668 - val_accuracy: 0.6350\n",
      "Epoch 56/120\n",
      "52/52 [==============================] - 13s 252ms/step - loss: 0.1340 - accuracy: 0.9413 - val_loss: 1.7486 - val_accuracy: 0.6387\n",
      "Epoch 57/120\n"
     ]
    },
    {
     "name": "stdout",
     "output_type": "stream",
     "text": [
      "52/52 [==============================] - 13s 241ms/step - loss: 0.1139 - accuracy: 0.9547 - val_loss: 1.7447 - val_accuracy: 0.6484\n",
      "Epoch 58/120\n",
      "52/52 [==============================] - 13s 248ms/step - loss: 0.1145 - accuracy: 0.9507 - val_loss: 1.9597 - val_accuracy: 0.6569\n",
      "Epoch 59/120\n",
      "52/52 [==============================] - 12s 239ms/step - loss: 0.1108 - accuracy: 0.9519 - val_loss: 2.5901 - val_accuracy: 0.5754\n",
      "Epoch 60/120\n",
      "52/52 [==============================] - 13s 241ms/step - loss: 0.1397 - accuracy: 0.9425 - val_loss: 1.9537 - val_accuracy: 0.6302\n",
      "Epoch 61/120\n",
      "52/52 [==============================] - 12s 240ms/step - loss: 0.1141 - accuracy: 0.9577 - val_loss: 2.0169 - val_accuracy: 0.6557\n",
      "Epoch 62/120\n",
      "52/52 [==============================] - 13s 241ms/step - loss: 0.1187 - accuracy: 0.9468 - val_loss: 1.7019 - val_accuracy: 0.6703\n",
      "Epoch 63/120\n",
      "52/52 [==============================] - 13s 242ms/step - loss: 0.1091 - accuracy: 0.9562 - val_loss: 1.9385 - val_accuracy: 0.6630\n",
      "Epoch 64/120\n",
      "52/52 [==============================] - 13s 245ms/step - loss: 0.1063 - accuracy: 0.9507 - val_loss: 1.7355 - val_accuracy: 0.6800\n",
      "Epoch 65/120\n",
      "52/52 [==============================] - 13s 247ms/step - loss: 0.1006 - accuracy: 0.9586 - val_loss: 2.5126 - val_accuracy: 0.6058\n",
      "Epoch 66/120\n",
      "52/52 [==============================] - 13s 255ms/step - loss: 0.1202 - accuracy: 0.9550 - val_loss: 1.8788 - val_accuracy: 0.6156\n",
      "Epoch 67/120\n",
      "52/52 [==============================] - 13s 255ms/step - loss: 0.0919 - accuracy: 0.9662 - val_loss: 1.7554 - val_accuracy: 0.6545\n",
      "Epoch 68/120\n",
      "52/52 [==============================] - 13s 248ms/step - loss: 0.1111 - accuracy: 0.9571 - val_loss: 2.4003 - val_accuracy: 0.5876\n",
      "Epoch 69/120\n",
      "52/52 [==============================] - 13s 249ms/step - loss: 0.0992 - accuracy: 0.9608 - val_loss: 1.7853 - val_accuracy: 0.6800\n",
      "Epoch 70/120\n",
      "52/52 [==============================] - 13s 257ms/step - loss: 0.1005 - accuracy: 0.9626 - val_loss: 1.8012 - val_accuracy: 0.6922\n",
      "Epoch 71/120\n",
      "52/52 [==============================] - 13s 256ms/step - loss: 0.1180 - accuracy: 0.9553 - val_loss: 2.0493 - val_accuracy: 0.6314\n",
      "Epoch 72/120\n",
      "52/52 [==============================] - 13s 246ms/step - loss: 0.1270 - accuracy: 0.9529 - val_loss: 2.0646 - val_accuracy: 0.6204\n",
      "Epoch 73/120\n",
      "52/52 [==============================] - 13s 244ms/step - loss: 0.0978 - accuracy: 0.9592 - val_loss: 1.6419 - val_accuracy: 0.6849\n",
      "Epoch 74/120\n",
      "52/52 [==============================] - 14s 266ms/step - loss: 0.0990 - accuracy: 0.9577 - val_loss: 1.6396 - val_accuracy: 0.6995\n",
      "Epoch 75/120\n",
      "52/52 [==============================] - 14s 262ms/step - loss: 0.0739 - accuracy: 0.9690 - val_loss: 1.7983 - val_accuracy: 0.6837\n",
      "Epoch 76/120\n",
      "52/52 [==============================] - 12s 225ms/step - loss: 0.0800 - accuracy: 0.9678 - val_loss: 1.9110 - val_accuracy: 0.6922\n",
      "Epoch 77/120\n",
      "52/52 [==============================] - 12s 236ms/step - loss: 0.0922 - accuracy: 0.9662 - val_loss: 2.0662 - val_accuracy: 0.6813\n",
      "Epoch 78/120\n",
      "52/52 [==============================] - 12s 236ms/step - loss: 0.0942 - accuracy: 0.9608 - val_loss: 2.0122 - val_accuracy: 0.6618\n",
      "Epoch 79/120\n",
      "52/52 [==============================] - 13s 253ms/step - loss: 0.0773 - accuracy: 0.9687 - val_loss: 2.0162 - val_accuracy: 0.6606\n",
      "Epoch 80/120\n",
      "52/52 [==============================] - 13s 241ms/step - loss: 0.0806 - accuracy: 0.9659 - val_loss: 2.0413 - val_accuracy: 0.6569\n",
      "Epoch 81/120\n",
      "52/52 [==============================] - 13s 245ms/step - loss: 0.0966 - accuracy: 0.9605 - val_loss: 2.1017 - val_accuracy: 0.6740\n",
      "Epoch 82/120\n",
      "52/52 [==============================] - 13s 244ms/step - loss: 0.0914 - accuracy: 0.9653 - val_loss: 2.1084 - val_accuracy: 0.6533\n",
      "Epoch 83/120\n",
      "52/52 [==============================] - 13s 240ms/step - loss: 0.0847 - accuracy: 0.9690 - val_loss: 1.8492 - val_accuracy: 0.6752\n",
      "Epoch 84/120\n",
      "52/52 [==============================] - 13s 241ms/step - loss: 0.0856 - accuracy: 0.9656 - val_loss: 1.9267 - val_accuracy: 0.6764\n",
      "Epoch 85/120\n",
      "52/52 [==============================] - 12s 233ms/step - loss: 0.0915 - accuracy: 0.9632 - val_loss: 1.9591 - val_accuracy: 0.6618\n",
      "Epoch 86/120\n",
      "52/52 [==============================] - 13s 249ms/step - loss: 0.0748 - accuracy: 0.9684 - val_loss: 1.7557 - val_accuracy: 0.6788\n",
      "Epoch 87/120\n",
      "52/52 [==============================] - 12s 234ms/step - loss: 0.0789 - accuracy: 0.9708 - val_loss: 1.9516 - val_accuracy: 0.6606\n",
      "Epoch 88/120\n",
      "52/52 [==============================] - 13s 242ms/step - loss: 0.0743 - accuracy: 0.9717 - val_loss: 2.1358 - val_accuracy: 0.6594\n",
      "Epoch 89/120\n",
      "52/52 [==============================] - 13s 241ms/step - loss: 0.0578 - accuracy: 0.9769 - val_loss: 2.1213 - val_accuracy: 0.6776\n",
      "Epoch 90/120\n",
      "52/52 [==============================] - 12s 235ms/step - loss: 0.0800 - accuracy: 0.9684 - val_loss: 2.0506 - val_accuracy: 0.6594\n",
      "Epoch 91/120\n",
      "52/52 [==============================] - 12s 224ms/step - loss: 0.0750 - accuracy: 0.9702 - val_loss: 1.8747 - val_accuracy: 0.6764\n",
      "Epoch 92/120\n",
      "52/52 [==============================] - 12s 232ms/step - loss: 0.0639 - accuracy: 0.9741 - val_loss: 2.3059 - val_accuracy: 0.6521\n",
      "Epoch 93/120\n",
      "52/52 [==============================] - 12s 235ms/step - loss: 0.0720 - accuracy: 0.9729 - val_loss: 1.7683 - val_accuracy: 0.6849\n",
      "Epoch 94/120\n",
      "52/52 [==============================] - 13s 244ms/step - loss: 0.0849 - accuracy: 0.9684 - val_loss: 2.3192 - val_accuracy: 0.6204\n",
      "Epoch 95/120\n",
      "52/52 [==============================] - 13s 245ms/step - loss: 0.0855 - accuracy: 0.9681 - val_loss: 1.8432 - val_accuracy: 0.6800\n",
      "Epoch 96/120\n",
      "52/52 [==============================] - 13s 240ms/step - loss: 0.0751 - accuracy: 0.9726 - val_loss: 2.0324 - val_accuracy: 0.6788\n",
      "Epoch 97/120\n",
      "52/52 [==============================] - 12s 240ms/step - loss: 0.1101 - accuracy: 0.9656 - val_loss: 1.9711 - val_accuracy: 0.6630\n",
      "Epoch 98/120\n",
      "52/52 [==============================] - 13s 242ms/step - loss: 0.0865 - accuracy: 0.9684 - val_loss: 2.0856 - val_accuracy: 0.6606\n",
      "Epoch 99/120\n",
      "52/52 [==============================] - 13s 242ms/step - loss: 0.0848 - accuracy: 0.9687 - val_loss: 2.0214 - val_accuracy: 0.6484\n",
      "Epoch 100/120\n",
      "52/52 [==============================] - 13s 244ms/step - loss: 0.0829 - accuracy: 0.9681 - val_loss: 2.3856 - val_accuracy: 0.6265\n",
      "Epoch 101/120\n",
      "52/52 [==============================] - 13s 245ms/step - loss: 0.0746 - accuracy: 0.9732 - val_loss: 2.2864 - val_accuracy: 0.6375\n",
      "Epoch 102/120\n",
      "52/52 [==============================] - 12s 240ms/step - loss: 0.0763 - accuracy: 0.9720 - val_loss: 2.1646 - val_accuracy: 0.6691\n",
      "Epoch 103/120\n",
      "52/52 [==============================] - 13s 247ms/step - loss: 0.0741 - accuracy: 0.9714 - val_loss: 2.0661 - val_accuracy: 0.6618\n",
      "Epoch 104/120\n",
      "52/52 [==============================] - 13s 242ms/step - loss: 0.0727 - accuracy: 0.9702 - val_loss: 2.1582 - val_accuracy: 0.6618\n",
      "Epoch 105/120\n",
      "52/52 [==============================] - 12s 240ms/step - loss: 0.0738 - accuracy: 0.9720 - val_loss: 2.0122 - val_accuracy: 0.6995\n",
      "Epoch 106/120\n",
      "52/52 [==============================] - 13s 241ms/step - loss: 0.0598 - accuracy: 0.9799 - val_loss: 2.2647 - val_accuracy: 0.6788\n",
      "Epoch 107/120\n",
      "52/52 [==============================] - 13s 244ms/step - loss: 0.0569 - accuracy: 0.9796 - val_loss: 1.9602 - val_accuracy: 0.6995\n",
      "Epoch 108/120\n",
      "52/52 [==============================] - 13s 243ms/step - loss: 0.0491 - accuracy: 0.9814 - val_loss: 1.9538 - val_accuracy: 0.7044\n",
      "Epoch 109/120\n",
      "52/52 [==============================] - 12s 237ms/step - loss: 0.0561 - accuracy: 0.9778 - val_loss: 2.2012 - val_accuracy: 0.7056\n",
      "Epoch 110/120\n",
      "52/52 [==============================] - 12s 238ms/step - loss: 0.0474 - accuracy: 0.9814 - val_loss: 1.9649 - val_accuracy: 0.6934\n",
      "Epoch 111/120\n",
      "52/52 [==============================] - 12s 239ms/step - loss: 0.0693 - accuracy: 0.9745 - val_loss: 1.8712 - val_accuracy: 0.6946\n",
      "Epoch 112/120\n",
      "52/52 [==============================] - 12s 237ms/step - loss: 0.0480 - accuracy: 0.9808 - val_loss: 1.8799 - val_accuracy: 0.7019\n",
      "Epoch 113/120\n"
     ]
    },
    {
     "name": "stdout",
     "output_type": "stream",
     "text": [
      "52/52 [==============================] - 13s 245ms/step - loss: 0.0505 - accuracy: 0.9808 - val_loss: 2.0309 - val_accuracy: 0.6752\n",
      "Epoch 114/120\n",
      "52/52 [==============================] - 13s 254ms/step - loss: 0.0476 - accuracy: 0.9821 - val_loss: 2.1070 - val_accuracy: 0.6788\n",
      "Epoch 115/120\n",
      "52/52 [==============================] - 13s 246ms/step - loss: 0.0712 - accuracy: 0.9729 - val_loss: 2.3663 - val_accuracy: 0.6691\n",
      "Epoch 116/120\n",
      "52/52 [==============================] - 12s 238ms/step - loss: 0.0587 - accuracy: 0.9775 - val_loss: 2.2679 - val_accuracy: 0.6655\n",
      "Epoch 117/120\n",
      "52/52 [==============================] - 13s 250ms/step - loss: 0.0524 - accuracy: 0.9814 - val_loss: 2.3321 - val_accuracy: 0.6752\n",
      "Epoch 118/120\n",
      "52/52 [==============================] - 12s 240ms/step - loss: 0.0551 - accuracy: 0.9799 - val_loss: 2.6287 - val_accuracy: 0.6472\n",
      "Epoch 119/120\n",
      "52/52 [==============================] - 13s 249ms/step - loss: 0.0558 - accuracy: 0.9796 - val_loss: 2.1987 - val_accuracy: 0.6825\n",
      "Epoch 120/120\n",
      "52/52 [==============================] - 12s 238ms/step - loss: 0.0557 - accuracy: 0.9769 - val_loss: 2.2441 - val_accuracy: 0.6715\n"
     ]
    }
   ],
   "source": [
    "NUM_EPOCHS = 120\n",
    "history = model.fit(X_train, y_train, validation_data=(X_val, y_val), batch_size=64, epochs=NUM_EPOCHS)\n"
   ]
  },
  {
   "cell_type": "code",
   "execution_count": 17,
   "id": "3af63741",
   "metadata": {},
   "outputs": [
    {
     "data": {
      "image/png": "[encoded data removed]",
      "text/plain": [
       "<Figure size 864x432 with 2 Axes>"
      ]
     },
     "metadata": {
      "needs_background": "light"
     },
     "output_type": "display_data"
    }
   ],
   "source": [
    "plot_history(history)"
   ]
  },
  {
   "cell_type": "markdown",
   "id": "c4556ec3",
   "metadata": {},
   "source": [
    "## Evaluation"
   ]
  },
  {
   "cell_type": "code",
   "execution_count": 18,
   "id": "9f5876b7",
   "metadata": {},
   "outputs": [
    {
     "name": "stdout",
     "output_type": "stream",
     "text": [
      "43/43 - 2s - loss: 2.0813 - accuracy: 0.6776 - 2s/epoch - 36ms/step\n"
     ]
    }
   ],
   "source": [
    "test_loss, test_acc = model.evaluate(X_test, y_test, verbose=2)"
   ]
  },
  {
   "cell_type": "code",
   "execution_count": 20,
   "id": "c05642da",
   "metadata": {},
   "outputs": [],
   "source": [
    "if '.DS_Store' in os.listdir(dataset_path):\n",
    "        os.remove(f'{dataset_path}/.DS_Store')\n",
    "\n",
    "languages = os.listdir(dataset_path)"
   ]
  },
  {
   "cell_type": "code",
   "execution_count": 21,
   "id": "473e0952",
   "metadata": {
    "scrolled": true
   },
   "outputs": [
    {
     "name": "stdout",
     "output_type": "stream",
     "text": [
      "43/43 [==============================] - 2s 34ms/step\n"
     ]
    },
    {
     "data": {
      "image/png": "[encoded data removed]",
      "text/plain": [
       "<Figure size 720x576 with 2 Axes>"
      ]
     },
     "metadata": {
      "needs_background": "light"
     },
     "output_type": "display_data"
    }
   ],
   "source": [
    "plot_confusion_matrix(model, X_test, languages)"
   ]
  },
  {
   "attachments": {},
   "cell_type": "markdown",
   "id": "a5ad9225",
   "metadata": {},
   "source": [
    "# References:\n",
    "\n",
    "Mikhailava, V.; Leshnichaia, M.; Bogach, N.; Lezhenin, I.; Blake, J.; Pyshkin, E. Language Accent Detection with CNN Using Sparse Data from a Crowd-Sourced Speech Archive. Mathematics 2022, 10, 2913. https://doi.org/10.3390/ math10162913 "
   ]
  },
  {
   "cell_type": "code",
   "execution_count": null,
   "id": "f1d013a5",
   "metadata": {},
   "outputs": [],
   "source": []
  }
 ],
 "metadata": {
  "kernelspec": {
   "display_name": "Python 3 (ipykernel)",
   "language": "python",
   "name": "python3"
  },
  "language_info": {
   "codemirror_mode": {
    "name": "ipython",
    "version": 3
   },
   "file_extension": ".py",
   "mimetype": "text/x-python",
   "name": "python",
   "nbconvert_exporter": "python",
   "pygments_lexer": "ipython3",
   "version": "3.8.10"
  }
 },
 "nbformat": 4,
 "nbformat_minor": 5
}
