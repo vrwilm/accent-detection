{
 "cells": [
  {
   "cell_type": "code",
   "execution_count": 146,
   "id": "bee4cfbf",
   "metadata": {},
   "outputs": [],
   "source": [
    "import json\n",
    "from sklearn.model_selection import train_test_split\n",
    "from tensorflow.keras.models import Sequential\n",
    "from tensorflow.keras.layers import Conv2D, Dense, Flatten, MaxPooling2D, BatchNormalization, Dropout\n",
    "from tensorflow.keras.optimizers import Adam\n",
    "import tensorflow as tf\n",
    "from tensorflow.keras import layers\n",
    "from tensorflow.keras import models\n",
    "\n",
    "import numpy as np\n",
    "import matplotlib.pyplot as plt\n",
    "import seaborn as sns"
   ]
  },
  {
   "cell_type": "code",
   "execution_count": 20,
   "id": "15a27519",
   "metadata": {},
   "outputs": [],
   "source": [
    "JSON_PATH = \"./data/stft_2022-12-02.json\"\n",
    "\n",
    "with open(JSON_PATH, \"r\") as fp:\n",
    "    data_l = json.load(fp)"
   ]
  },
  {
   "cell_type": "code",
   "execution_count": 21,
   "id": "98a17fce",
   "metadata": {},
   "outputs": [
    {
     "data": {
      "text/plain": [
       "{'method': 'stft',\n",
       " 'duration': 23,\n",
       " 'n_fft': 512,\n",
       " 'sample_rate': 16000,\n",
       " 'trim': 'True',\n",
       " 'zero-pad': 'True'}"
      ]
     },
     "execution_count": 21,
     "metadata": {},
     "output_type": "execute_result"
    }
   ],
   "source": [
    "data_l[\"process_info\"]"
   ]
  },
  {
   "cell_type": "code",
   "execution_count": 196,
   "id": "4d126083",
   "metadata": {},
   "outputs": [],
   "source": [
    "DATASET_PATH = \"./data/filtered\"\n",
    "if '.DS_Store' in os.listdir(DATASET_PATH):\n",
    "    os.remove(f'{DATASET_PATH}/.DS_Store')\n",
    "\n",
    "languages = os.listdir(DATASET_PATH)"
   ]
  },
  {
   "cell_type": "code",
   "execution_count": 22,
   "id": "61d32704",
   "metadata": {},
   "outputs": [],
   "source": [
    "def prepare_datasets(data, method, test_size, validation_size):\n",
    "    \"\"\"\n",
    "    Loads data and splits it into train, validation and test sets\n",
    "    \"\"\"\n",
    "\n",
    "    # load data\n",
    "    X = np.array(data[method])\n",
    "    y = np.array(data[\"labels\"])\n",
    "\n",
    "    # create train, validation and test split\n",
    "    X_train, X_test, y_train, y_test = train_test_split(X, y, test_size=test_size)\n",
    "    X_train, X_validation, y_train, y_validation = train_test_split(X_train, y_train, test_size=validation_size)\n",
    "\n",
    "    # add an axis to input sets (aka channel for image)\n",
    "    X_train = X_train[..., np.newaxis]\n",
    "    X_validation = X_validation[..., np.newaxis]\n",
    "    X_test = X_test[..., np.newaxis]\n",
    "\n",
    "    return X_train, X_validation, X_test, y_train, y_validation, y_test"
   ]
  },
  {
   "cell_type": "code",
   "execution_count": 23,
   "id": "5c2263a9",
   "metadata": {},
   "outputs": [],
   "source": [
    "X_train, X_val, X_test, y_train, y_val, y_test = prepare_datasets(data_l, \"stft\", 0.25, 0.2)"
   ]
  },
  {
   "cell_type": "code",
   "execution_count": 24,
   "id": "d676a17a",
   "metadata": {},
   "outputs": [
    {
     "data": {
      "text/plain": [
       "((84, 257, 3963, 1), (21, 257, 3963, 1), (35, 257, 3963, 1))"
      ]
     },
     "execution_count": 24,
     "metadata": {},
     "output_type": "execute_result"
    }
   ],
   "source": [
    "# shape (`batch_size`, `height`, `width`, `channels`)\n",
    "X_train.shape, X_val.shape, X_test.shape"
   ]
  },
  {
   "cell_type": "code",
   "execution_count": 137,
   "id": "5cbeeb24",
   "metadata": {},
   "outputs": [],
   "source": [
    "def plot_history(history):\n",
    "    \"\"\"\n",
    "    Plots accuracy/loss for training/validation set as a function of the epochs\n",
    "        :param history: Training history of model\n",
    "    \"\"\"\n",
    "\n",
    "    fig, axs = plt.subplots(2)\n",
    "\n",
    "    # create accuracy sublpot\n",
    "    axs[0].plot(history.history[\"accuracy\"], label=\"train accuracy\")\n",
    "    axs[0].plot(history.history[\"val_accuracy\"], label=\"val accuracy\")\n",
    "    axs[0].set_ylabel(\"Accuracy\")\n",
    "    axs[0].legend(loc=\"upper right\")\n",
    "    axs[0].set_title(\"Accuracy eval\")\n",
    "\n",
    "    # create error sublpot\n",
    "    axs[1].plot(history.history[\"loss\"], label=\"train error\")\n",
    "    axs[1].plot(history.history[\"val_loss\"], label=\"val error\")\n",
    "    axs[1].set_ylabel(\"Error\")\n",
    "    axs[1].set_xlabel(\"Epoch\")\n",
    "    axs[1].legend(loc=\"lower right\")\n",
    "    axs[1].set_title(\"Error eval\")\n",
    "\n",
    "    plt.show()"
   ]
  },
  {
   "cell_type": "code",
   "execution_count": 138,
   "id": "55549995",
   "metadata": {},
   "outputs": [],
   "source": [
    "def plot_confusion_matrix(model, X_test, languages):\n",
    "    \"\"\"\n",
    "    Plots confusion matrix for model prediction on test \n",
    "    \"\"\"\n",
    "\n",
    "    y_pred = model.predict(X_test)\n",
    "\n",
    "    y_pred = np.argmax(y_pred, axis=1)\n",
    "\n",
    "    y_true = y_test\n",
    "\n",
    "    confusion_mtx = tf.math.confusion_matrix(y_true, y_pred)\n",
    "\n",
    "    plt.figure(figsize=(10, 8))\n",
    "    sns.heatmap(confusion_mtx,\n",
    "                xticklabels=languages,\n",
    "                yticklabels=languages,\n",
    "                annot=True, fmt='g')\n",
    "    plt.xlabel('Prediction')\n",
    "    plt.ylabel('Label')\n",
    "    plt.show()"
   ]
  },
  {
   "cell_type": "markdown",
   "id": "2a40162e",
   "metadata": {},
   "source": [
    "# Training: CNN v1"
   ]
  },
  {
   "cell_type": "markdown",
   "id": "fc61c174",
   "metadata": {},
   "source": [
    "the following architecture is taken from [Sound of AI tutorial](https://github.com/musikalkemist/DeepLearningForAudioWithPython/blob/master/16-%20How%20to%20implement%20a%20CNN%20for%20music%20genre%20classification/code/cnn_genre_classifier.py) on music genre classification"
   ]
  },
  {
   "cell_type": "code",
   "execution_count": 25,
   "id": "dade3c54",
   "metadata": {},
   "outputs": [
    {
     "data": {
      "text/plain": [
       "(257, 3963, 1)"
      ]
     },
     "execution_count": 25,
     "metadata": {},
     "output_type": "execute_result"
    }
   ],
   "source": [
    "input_shape = X_train.shape[1:]\n",
    "input_shape"
   ]
  },
  {
   "cell_type": "code",
   "execution_count": 26,
   "id": "1c3e3a2b",
   "metadata": {},
   "outputs": [],
   "source": [
    "NUM_LABELS = 4\n",
    "\n",
    "model = Sequential()\n",
    "\n",
    "# 1st conv layer\n",
    "model.add(Conv2D(32, (3, 3), activation='relu', input_shape=input_shape))\n",
    "model.add(MaxPooling2D((3, 3), strides=(2, 2), padding='same'))\n",
    "model.add(BatchNormalization())\n",
    "\n",
    "# 2nd conv layer\n",
    "model.add(Conv2D(32, (3, 3), activation='relu'))\n",
    "model.add(MaxPooling2D((3, 3), strides=(2, 2), padding='same'))\n",
    "model.add(BatchNormalization())\n",
    "\n",
    "# 3rd conv layer\n",
    "model.add(Conv2D(32, (2, 2), activation='relu'))\n",
    "model.add(MaxPooling2D((2, 2), strides=(2, 2), padding='same'))\n",
    "model.add(BatchNormalization())\n",
    "\n",
    "# flatten output and feed it into dense layer\n",
    "model.add(Flatten())\n",
    "model.add(Dense(64, activation='relu'))\n",
    "model.add(Dropout(0.3))\n",
    "\n",
    "# output layer\n",
    "model.add(Dense(NUM_LABELS, activation='softmax'))"
   ]
  },
  {
   "cell_type": "code",
   "execution_count": 29,
   "id": "b625f4a9",
   "metadata": {},
   "outputs": [
    {
     "name": "stdout",
     "output_type": "stream",
     "text": [
      "Model: \"sequential_3\"\n",
      "_________________________________________________________________\n",
      " Layer (type)                Output Shape              Param #   \n",
      "=================================================================\n",
      " conv2d_4 (Conv2D)           (None, 255, 3961, 32)     320       \n",
      "                                                                 \n",
      " max_pooling2d (MaxPooling2D  (None, 128, 1981, 32)    0         \n",
      " )                                                               \n",
      "                                                                 \n",
      " batch_normalization (BatchN  (None, 128, 1981, 32)    128       \n",
      " ormalization)                                                   \n",
      "                                                                 \n",
      " conv2d_5 (Conv2D)           (None, 126, 1979, 32)     9248      \n",
      "                                                                 \n",
      " max_pooling2d_1 (MaxPooling  (None, 63, 990, 32)      0         \n",
      " 2D)                                                             \n",
      "                                                                 \n",
      " batch_normalization_1 (Batc  (None, 63, 990, 32)      128       \n",
      " hNormalization)                                                 \n",
      "                                                                 \n",
      " conv2d_6 (Conv2D)           (None, 62, 989, 32)       4128      \n",
      "                                                                 \n",
      " max_pooling2d_2 (MaxPooling  (None, 31, 495, 32)      0         \n",
      " 2D)                                                             \n",
      "                                                                 \n",
      " batch_normalization_2 (Batc  (None, 31, 495, 32)      128       \n",
      " hNormalization)                                                 \n",
      "                                                                 \n",
      " flatten_2 (Flatten)         (None, 491040)            0         \n",
      "                                                                 \n",
      " dense_3 (Dense)             (None, 64)                31426624  \n",
      "                                                                 \n",
      " dropout (Dropout)           (None, 64)                0         \n",
      "                                                                 \n",
      " dense_4 (Dense)             (None, 4)                 260       \n",
      "                                                                 \n",
      "=================================================================\n",
      "Total params: 31,440,964\n",
      "Trainable params: 31,440,772\n",
      "Non-trainable params: 192\n",
      "_________________________________________________________________\n"
     ]
    }
   ],
   "source": [
    "optimiser = Adam(learning_rate=0.0001)\n",
    "model.compile(optimizer=optimiser,\n",
    "                  loss='sparse_categorical_crossentropy',\n",
    "                  metrics=['accuracy'])\n",
    "\n",
    "model.summary()"
   ]
  },
  {
   "cell_type": "code",
   "execution_count": 30,
   "id": "4df043c3",
   "metadata": {},
   "outputs": [
    {
     "name": "stdout",
     "output_type": "stream",
     "text": [
      "Epoch 1/15\n",
      "3/3 [==============================] - 69s 16s/step - loss: 5.8725 - accuracy: 0.2381 - val_loss: 114.5830 - val_accuracy: 0.1905\n",
      "Epoch 2/15\n",
      "3/3 [==============================] - 44s 13s/step - loss: 2.0198 - accuracy: 0.6786 - val_loss: 133.5969 - val_accuracy: 0.1905\n",
      "Epoch 3/15\n",
      "3/3 [==============================] - 45s 14s/step - loss: 0.2804 - accuracy: 0.8571 - val_loss: 149.2482 - val_accuracy: 0.1905\n",
      "Epoch 4/15\n",
      "3/3 [==============================] - 45s 13s/step - loss: 0.5698 - accuracy: 0.8571 - val_loss: 156.3426 - val_accuracy: 0.1905\n",
      "Epoch 5/15\n",
      "3/3 [==============================] - 42s 13s/step - loss: 0.1097 - accuracy: 0.9524 - val_loss: 156.0983 - val_accuracy: 0.1905\n",
      "Epoch 6/15\n",
      "3/3 [==============================] - 54s 13s/step - loss: 0.1950 - accuracy: 0.9643 - val_loss: 150.6835 - val_accuracy: 0.3333\n",
      "Epoch 7/15\n",
      "3/3 [==============================] - 42s 13s/step - loss: 0.2783 - accuracy: 0.9167 - val_loss: 150.8352 - val_accuracy: 0.2857\n",
      "Epoch 8/15\n",
      "3/3 [==============================] - 42s 13s/step - loss: 0.2827 - accuracy: 0.9762 - val_loss: 148.1862 - val_accuracy: 0.2857\n",
      "Epoch 9/15\n",
      "3/3 [==============================] - 53s 13s/step - loss: 0.1952 - accuracy: 0.9048 - val_loss: 141.0429 - val_accuracy: 0.2857\n",
      "Epoch 10/15\n",
      "3/3 [==============================] - 42s 13s/step - loss: 0.1043 - accuracy: 0.9405 - val_loss: 132.3175 - val_accuracy: 0.2857\n",
      "Epoch 11/15\n",
      "3/3 [==============================] - 41s 13s/step - loss: 0.0107 - accuracy: 1.0000 - val_loss: 124.5324 - val_accuracy: 0.3333\n",
      "Epoch 12/15\n",
      "3/3 [==============================] - 62s 18s/step - loss: 0.2672 - accuracy: 0.9167 - val_loss: 117.5544 - val_accuracy: 0.2857\n",
      "Epoch 13/15\n",
      "3/3 [==============================] - 41s 13s/step - loss: 0.0759 - accuracy: 0.9762 - val_loss: 110.2113 - val_accuracy: 0.2381\n",
      "Epoch 14/15\n",
      "3/3 [==============================] - 43s 14s/step - loss: 0.1378 - accuracy: 0.9643 - val_loss: 107.2118 - val_accuracy: 0.3333\n",
      "Epoch 15/15\n",
      "3/3 [==============================] - 52s 13s/step - loss: 0.1815 - accuracy: 0.9643 - val_loss: 114.2029 - val_accuracy: 0.2857\n"
     ]
    }
   ],
   "source": [
    "NUM_EPOCHS = 15\n",
    "history = model.fit(X_train, y_train, validation_data=(X_val, y_val), batch_size=32, epochs=NUM_EPOCHS)"
   ]
  },
  {
   "cell_type": "code",
   "execution_count": 169,
   "id": "4712e477",
   "metadata": {},
   "outputs": [
    {
     "data": {
      "image/png": "[encoded data removed]",
      "text/plain": [
       "<Figure size 432x288 with 2 Axes>"
      ]
     },
     "metadata": {
      "needs_background": "light"
     },
     "output_type": "display_data"
    }
   ],
   "source": [
    "plot_history(history)"
   ]
  },
  {
   "cell_type": "markdown",
   "id": "70cfd9e7",
   "metadata": {},
   "source": [
    "## Evaluation"
   ]
  },
  {
   "cell_type": "code",
   "execution_count": 31,
   "id": "9f5876b7",
   "metadata": {},
   "outputs": [
    {
     "name": "stdout",
     "output_type": "stream",
     "text": [
      "2/2 - 3s - loss: 96.4437 - accuracy: 0.2857 - 3s/epoch - 1s/step\n"
     ]
    }
   ],
   "source": [
    "test_loss, test_acc = model.evaluate(X_test, y_test, verbose=2)"
   ]
  },
  {
   "cell_type": "code",
   "execution_count": 139,
   "id": "b6e6e0db",
   "metadata": {},
   "outputs": [
    {
     "name": "stdout",
     "output_type": "stream",
     "text": [
      "2/2 [==============================] - 0s 6ms/step\n"
     ]
    },
    {
     "data": {
      "image/png": "[encoded data removed]",
      "text/plain": [
       "<Figure size 720x576 with 2 Axes>"
      ]
     },
     "metadata": {
      "needs_background": "light"
     },
     "output_type": "display_data"
    }
   ],
   "source": [
    "plot_confusion_matrix(model, X_test, languages)"
   ]
  },
  {
   "cell_type": "markdown",
   "id": "c0a89186",
   "metadata": {},
   "source": [
    "# Training - CNN v2\n",
    "\n",
    "the following architecture is taken from [Tensorflow tutorial](https://www.tensorflow.org/tutorials/audio/simple_audio) on keywords (e.g. go, stop, left...) classification."
   ]
  },
  {
   "cell_type": "code",
   "execution_count": 186,
   "id": "ff0e0c4b",
   "metadata": {},
   "outputs": [],
   "source": [
    "def build_model(input_shape,num_labels):\n",
    "    # Instantiate the `tf.keras.layers.Normalization` layer.\n",
    "    norm_layer = layers.Normalization()\n",
    "    # Fit the state of the layer to the spectrograms\n",
    "    # with `Normalization.adapt`.\n",
    "    norm_layer.adapt(data=X_train)\n",
    "\n",
    "    model = models.Sequential([\n",
    "        layers.Input(shape=input_shape),\n",
    "        # Downsample the input.\n",
    "        layers.Resizing(32, 32),\n",
    "        # Normalize.\n",
    "        norm_layer,\n",
    "        layers.Conv2D(32, 3, activation='relu'),\n",
    "        layers.Conv2D(64, 3, activation='relu'),\n",
    "        layers.MaxPooling2D(),\n",
    "        layers.Dropout(0.25),\n",
    "        layers.Flatten(),\n",
    "        layers.Dense(128, activation='relu'),\n",
    "        layers.Dropout(0.5),\n",
    "        layers.Dense(num_labels, activation=\"softmax\"),\n",
    "    ])\n",
    "\n",
    "    return model"
   ]
  },
  {
   "cell_type": "code",
   "execution_count": 187,
   "id": "3ed2d1ef",
   "metadata": {},
   "outputs": [
    {
     "name": "stdout",
     "output_type": "stream",
     "text": [
      "Input shape: (257, 3963, 1)\n",
      "Model: \"sequential_10\"\n",
      "_________________________________________________________________\n",
      " Layer (type)                Output Shape              Param #   \n",
      "=================================================================\n",
      " resizing_9 (Resizing)       (None, 32, 32, 1)         0         \n",
      "                                                                 \n",
      " normalization_9 (Normalizat  (None, 32, 32, 1)        3         \n",
      " ion)                                                            \n",
      "                                                                 \n",
      " conv2d_20 (Conv2D)          (None, 30, 30, 32)        320       \n",
      "                                                                 \n",
      " conv2d_21 (Conv2D)          (None, 28, 28, 64)        18496     \n",
      "                                                                 \n",
      " max_pooling2d_9 (MaxPooling  (None, 14, 14, 64)       0         \n",
      " 2D)                                                             \n",
      "                                                                 \n",
      " dropout_18 (Dropout)        (None, 14, 14, 64)        0         \n",
      "                                                                 \n",
      " flatten_10 (Flatten)        (None, 12544)             0         \n",
      "                                                                 \n",
      " dense_20 (Dense)            (None, 128)               1605760   \n",
      "                                                                 \n",
      " dropout_19 (Dropout)        (None, 128)               0         \n",
      "                                                                 \n",
      " dense_21 (Dense)            (None, 4)                 516       \n",
      "                                                                 \n",
      "=================================================================\n",
      "Total params: 1,625,095\n",
      "Trainable params: 1,625,092\n",
      "Non-trainable params: 3\n",
      "_________________________________________________________________\n"
     ]
    }
   ],
   "source": [
    "input_shape = X_train.shape[1:]\n",
    "\n",
    "print('Input shape:', input_shape)\n",
    "num_labels = 4\n",
    "\n",
    "model = build_model(input_shape, num_labels)\n",
    "model.summary()"
   ]
  },
  {
   "cell_type": "code",
   "execution_count": 188,
   "id": "d3d7dccf",
   "metadata": {},
   "outputs": [],
   "source": [
    "optimiser = Adam(learning_rate=0.001)\n",
    "model.compile(optimizer=optimiser,\n",
    "                  loss='sparse_categorical_crossentropy',\n",
    "                  metrics=['accuracy'])"
   ]
  },
  {
   "cell_type": "code",
   "execution_count": 189,
   "id": "84a0250e",
   "metadata": {},
   "outputs": [
    {
     "name": "stdout",
     "output_type": "stream",
     "text": [
      "Epoch 1/10\n",
      "3/3 [==============================] - 2s 250ms/step - loss: 1.5313 - accuracy: 0.2500 - val_loss: 1.6739 - val_accuracy: 0.2381\n",
      "Epoch 2/10\n",
      "3/3 [==============================] - 0s 128ms/step - loss: 1.5939 - accuracy: 0.3095 - val_loss: 1.4851 - val_accuracy: 0.1905\n",
      "Epoch 3/10\n",
      "3/3 [==============================] - 0s 127ms/step - loss: 1.2903 - accuracy: 0.3452 - val_loss: 1.4232 - val_accuracy: 0.1905\n",
      "Epoch 4/10\n",
      "3/3 [==============================] - 0s 131ms/step - loss: 1.2012 - accuracy: 0.4643 - val_loss: 1.4197 - val_accuracy: 0.3333\n",
      "Epoch 5/10\n",
      "3/3 [==============================] - 0s 172ms/step - loss: 1.1459 - accuracy: 0.5476 - val_loss: 1.4323 - val_accuracy: 0.3333\n",
      "Epoch 6/10\n",
      "3/3 [==============================] - 0s 126ms/step - loss: 1.0886 - accuracy: 0.5952 - val_loss: 1.4349 - val_accuracy: 0.2857\n",
      "Epoch 7/10\n",
      "3/3 [==============================] - 0s 120ms/step - loss: 0.8979 - accuracy: 0.7738 - val_loss: 1.4783 - val_accuracy: 0.2381\n",
      "Epoch 8/10\n",
      "3/3 [==============================] - 0s 121ms/step - loss: 0.7244 - accuracy: 0.8333 - val_loss: 1.5723 - val_accuracy: 0.1905\n",
      "Epoch 9/10\n",
      "3/3 [==============================] - 0s 117ms/step - loss: 0.6768 - accuracy: 0.8095 - val_loss: 1.6781 - val_accuracy: 0.1429\n",
      "Epoch 10/10\n",
      "3/3 [==============================] - 0s 110ms/step - loss: 0.5768 - accuracy: 0.8214 - val_loss: 1.8365 - val_accuracy: 0.2381\n"
     ]
    }
   ],
   "source": [
    "EPOCHS = 10\n",
    "history = model.fit(\n",
    "    X_train, y_train,\n",
    "    validation_data=(X_val, y_val),\n",
    "    epochs=EPOCHS,\n",
    ")"
   ]
  },
  {
   "cell_type": "code",
   "execution_count": 190,
   "id": "e35f1ffe",
   "metadata": {},
   "outputs": [
    {
     "data": {
      "image/png": "[encoded data removed]",
      "text/plain": [
       "<Figure size 432x288 with 2 Axes>"
      ]
     },
     "metadata": {
      "needs_background": "light"
     },
     "output_type": "display_data"
    }
   ],
   "source": [
    "plot_history(history)"
   ]
  },
  {
   "cell_type": "markdown",
   "id": "6a04c8ec",
   "metadata": {},
   "source": [
    "From history plots, looks like 2-4 epochs is enough. Then starts overfitting"
   ]
  },
  {
   "cell_type": "code",
   "execution_count": 193,
   "id": "4d99224c",
   "metadata": {},
   "outputs": [
    {
     "name": "stdout",
     "output_type": "stream",
     "text": [
      "Epoch 1/4\n",
      "3/3 [==============================] - 2s 294ms/step - loss: 1.5629 - accuracy: 0.2500 - val_loss: 1.8899 - val_accuracy: 0.1905\n",
      "Epoch 2/4\n",
      "3/3 [==============================] - 0s 148ms/step - loss: 1.6032 - accuracy: 0.3452 - val_loss: 1.4779 - val_accuracy: 0.2381\n",
      "Epoch 3/4\n",
      "3/3 [==============================] - 0s 145ms/step - loss: 1.3167 - accuracy: 0.3929 - val_loss: 1.4069 - val_accuracy: 0.2857\n",
      "Epoch 4/4\n",
      "3/3 [==============================] - 0s 137ms/step - loss: 1.1437 - accuracy: 0.5238 - val_loss: 1.4236 - val_accuracy: 0.0952\n"
     ]
    }
   ],
   "source": [
    "model = build_model(input_shape, num_labels)\n",
    "optimiser = Adam(learning_rate=0.001)\n",
    "model.compile(optimizer=optimiser,\n",
    "                  loss='sparse_categorical_crossentropy',\n",
    "                  metrics=['accuracy'])\n",
    "\n",
    "EPOCHS = 4\n",
    "history = model.fit(\n",
    "    X_train, y_train,\n",
    "    validation_data=(X_val, y_val),\n",
    "    epochs=EPOCHS,\n",
    ")"
   ]
  },
  {
   "cell_type": "markdown",
   "id": "c49666af",
   "metadata": {},
   "source": [
    "## Evaluation"
   ]
  },
  {
   "cell_type": "code",
   "execution_count": 194,
   "id": "30badcb9",
   "metadata": {},
   "outputs": [
    {
     "name": "stdout",
     "output_type": "stream",
     "text": [
      "2/2 - 0s - loss: 1.3331 - accuracy: 0.4571 - 120ms/epoch - 60ms/step\n"
     ]
    }
   ],
   "source": [
    "test_loss, test_acc = model.evaluate(X_test, y_test, verbose=2)"
   ]
  },
  {
   "cell_type": "markdown",
   "id": "a4385577",
   "metadata": {},
   "source": [
    "## Confusion Matrix"
   ]
  },
  {
   "cell_type": "code",
   "execution_count": 195,
   "id": "044d0e0c",
   "metadata": {},
   "outputs": [
    {
     "name": "stdout",
     "output_type": "stream",
     "text": [
      "2/2 [==============================] - 0s 6ms/step\n"
     ]
    },
    {
     "data": {
      "image/png": "[encoded data removed]",
      "text/plain": [
       "<Figure size 720x576 with 2 Axes>"
      ]
     },
     "metadata": {
      "needs_background": "light"
     },
     "output_type": "display_data"
    }
   ],
   "source": [
    "plot_confusion_matrix(model, X_test, languages)"
   ]
  },
  {
   "cell_type": "code",
   "execution_count": null,
   "id": "5240e989",
   "metadata": {},
   "outputs": [],
   "source": []
  }
 ],
 "metadata": {
  "kernelspec": {
   "display_name": "Python 3 (ipykernel)",
   "language": "python",
   "name": "python3"
  },
  "language_info": {
   "codemirror_mode": {
    "name": "ipython",
    "version": 3
   },
   "file_extension": ".py",
   "mimetype": "text/x-python",
   "name": "python",
   "nbconvert_exporter": "python",
   "pygments_lexer": "ipython3",
   "version": "3.8.10"
  }
 },
 "nbformat": 4,
 "nbformat_minor": 5
}
