{
 "cells": [
  {
   "cell_type": "code",
   "execution_count": 1,
   "id": "bee4cfbf",
   "metadata": {},
   "outputs": [
    {
     "name": "stderr",
     "output_type": "stream",
     "text": [
      "2022-12-01 22:04:49.798602: I tensorflow/core/platform/cpu_feature_guard.cc:193] This TensorFlow binary is optimized with oneAPI Deep Neural Network Library (oneDNN) to use the following CPU instructions in performance-critical operations:  AVX2 FMA\n",
      "To enable them in other operations, rebuild TensorFlow with the appropriate compiler flags.\n"
     ]
    }
   ],
   "source": [
    "import json\n",
    "from sklearn.model_selection import train_test_split\n",
    "from tensorflow.keras.models import Sequential\n",
    "from tensorflow.keras.layers import Conv2D, Dense, Flatten, MaxPooling2D, BatchNormalization, Dropout\n",
    "\n",
    "import numpy as np"
   ]
  },
  {
   "cell_type": "code",
   "execution_count": 2,
   "id": "15a27519",
   "metadata": {},
   "outputs": [],
   "source": [
    "JSON_PATH = \"./data/stft_data_16sec.json\"\n",
    "\n",
    "with open(JSON_PATH, \"r\") as fp:\n",
    "    data_l = json.load(fp)"
   ]
  },
  {
   "cell_type": "code",
   "execution_count": 4,
   "id": "61d32704",
   "metadata": {},
   "outputs": [],
   "source": [
    "def prepare_datasets(test_size, validation_size):\n",
    "    \"\"\"Loads data and splits it into train, validation and test sets.\n",
    "    :param test_size (float): Value in [0, 1] indicating percentage of data set to allocate to test split\n",
    "    :param validation_size (float): Value in [0, 1] indicating percentage of train set to allocate to validation split\n",
    "    :return X_train (ndarray): Input training set\n",
    "    :return X_validation (ndarray): Input validation set\n",
    "    :return X_test (ndarray): Input test set\n",
    "    :return y_train (ndarray): Target training set\n",
    "    :return y_validation (ndarray): Target validation set\n",
    "    :return y_test (ndarray): Target test set\n",
    "    \"\"\"\n",
    "\n",
    "    # load data\n",
    "    X = np.array(data_l[\"stft\"])\n",
    "    y = np.array(data_l[\"labels\"])\n",
    "\n",
    "    # create train, validation and test split\n",
    "    X_train, X_test, y_train, y_test = train_test_split(X, y, test_size=test_size)\n",
    "    X_train, X_validation, y_train, y_validation = train_test_split(X_train, y_train, test_size=validation_size)\n",
    "\n",
    "    # add an axis to input sets\n",
    "    X_train = X_train[..., np.newaxis]\n",
    "    X_validation = X_validation[..., np.newaxis]\n",
    "    X_test = X_test[..., np.newaxis]\n",
    "\n",
    "    return X_train, X_validation, X_test, y_train, y_validation, y_test"
   ]
  },
  {
   "cell_type": "code",
   "execution_count": 5,
   "id": "5c2263a9",
   "metadata": {},
   "outputs": [],
   "source": [
    "X_train, X_val, X_test, y_train, y_val, y_test = prepare_datasets(0.25, 0.2)"
   ]
  },
  {
   "cell_type": "code",
   "execution_count": 6,
   "id": "d676a17a",
   "metadata": {},
   "outputs": [
    {
     "data": {
      "text/plain": [
       "((84, 257, 2757, 1), (21, 257, 2757, 1), (35, 257, 2757, 1))"
      ]
     },
     "execution_count": 6,
     "metadata": {},
     "output_type": "execute_result"
    }
   ],
   "source": [
    "X_train.shape, X_val.shape, X_test.shape"
   ]
  },
  {
   "cell_type": "code",
   "execution_count": 7,
   "id": "dade3c54",
   "metadata": {},
   "outputs": [
    {
     "data": {
      "text/plain": [
       "(257, 2757, 1)"
      ]
     },
     "execution_count": 7,
     "metadata": {},
     "output_type": "execute_result"
    }
   ],
   "source": [
    "input_shape = X_train.shape[1:]\n",
    "input_shape"
   ]
  },
  {
   "cell_type": "code",
   "execution_count": 36,
   "id": "1c3e3a2b",
   "metadata": {},
   "outputs": [],
   "source": [
    "NUM_LABELS = 4\n",
    "\n",
    "model = Sequential()\n",
    "\n",
    "# 1st conv layer\n",
    "model.add(Conv2D(32, (3, 3), activation='relu', input_shape=input_shape))\n",
    "model.add(MaxPooling2D((3, 3), strides=(2, 2), padding='same'))\n",
    "model.add(BatchNormalization())\n",
    "\n",
    "# 2nd conv layer\n",
    "model.add(Conv2D(32, (3, 3), activation='relu'))\n",
    "model.add(MaxPooling2D((3, 3), strides=(2, 2), padding='same'))\n",
    "model.add(BatchNormalization())\n",
    "\n",
    "# 3rd conv layer\n",
    "model.add(Conv2D(32, (2, 2), activation='relu'))\n",
    "model.add(MaxPooling2D((2, 2), strides=(2, 2), padding='same'))\n",
    "model.add(BatchNormalization())\n",
    "\n",
    "# flatten output and feed it into dense layer\n",
    "model.add(Flatten())\n",
    "model.add(Dense(64, activation='relu'))\n",
    "model.add(Dropout(0.3))\n",
    "\n",
    "# output layer\n",
    "model.add(Dense(NUM_LABELS, activation='softmax'))"
   ]
  },
  {
   "cell_type": "code",
   "execution_count": 37,
   "id": "b625f4a9",
   "metadata": {},
   "outputs": [
    {
     "name": "stdout",
     "output_type": "stream",
     "text": [
      "Model: \"sequential_4\"\n",
      "_________________________________________________________________\n",
      " Layer (type)                Output Shape              Param #   \n",
      "=================================================================\n",
      " conv2d_9 (Conv2D)           (None, 255, 2755, 32)     320       \n",
      "                                                                 \n",
      " max_pooling2d_9 (MaxPooling  (None, 128, 1378, 32)    0         \n",
      " 2D)                                                             \n",
      "                                                                 \n",
      " batch_normalization_9 (Batc  (None, 128, 1378, 32)    128       \n",
      " hNormalization)                                                 \n",
      "                                                                 \n",
      " conv2d_10 (Conv2D)          (None, 126, 1376, 32)     9248      \n",
      "                                                                 \n",
      " max_pooling2d_10 (MaxPoolin  (None, 63, 688, 32)      0         \n",
      " g2D)                                                            \n",
      "                                                                 \n",
      " batch_normalization_10 (Bat  (None, 63, 688, 32)      128       \n",
      " chNormalization)                                                \n",
      "                                                                 \n",
      " conv2d_11 (Conv2D)          (None, 62, 687, 32)       4128      \n",
      "                                                                 \n",
      " max_pooling2d_11 (MaxPoolin  (None, 31, 344, 32)      0         \n",
      " g2D)                                                            \n",
      "                                                                 \n",
      " batch_normalization_11 (Bat  (None, 31, 344, 32)      128       \n",
      " chNormalization)                                                \n",
      "                                                                 \n",
      " flatten_4 (Flatten)         (None, 341248)            0         \n",
      "                                                                 \n",
      " dense_10 (Dense)            (None, 64)                21839936  \n",
      "                                                                 \n",
      " dropout_3 (Dropout)         (None, 64)                0         \n",
      "                                                                 \n",
      " dense_11 (Dense)            (None, 4)                 260       \n",
      "                                                                 \n",
      "=================================================================\n",
      "Total params: 21,854,276\n",
      "Trainable params: 21,854,084\n",
      "Non-trainable params: 192\n",
      "_________________________________________________________________\n"
     ]
    }
   ],
   "source": [
    "optimiser = keras.optimizers.Adam(learning_rate=0.0001)\n",
    "model.compile(optimizer=optimiser,\n",
    "                  loss='sparse_categorical_crossentropy',\n",
    "                  metrics=['accuracy'])\n",
    "\n",
    "model.summary()"
   ]
  },
  {
   "cell_type": "code",
   "execution_count": 38,
   "id": "4df043c3",
   "metadata": {},
   "outputs": [
    {
     "name": "stdout",
     "output_type": "stream",
     "text": [
      "Epoch 1/20\n",
      "3/3 [==============================] - 39s 9s/step - loss: 5.0330 - accuracy: 0.2857 - val_loss: 86.1350 - val_accuracy: 0.3810\n",
      "Epoch 2/20\n",
      "3/3 [==============================] - 28s 9s/step - loss: 1.8165 - accuracy: 0.7143 - val_loss: 128.6978 - val_accuracy: 0.3810\n",
      "Epoch 3/20\n",
      "3/3 [==============================] - 32s 11s/step - loss: 1.0179 - accuracy: 0.7500 - val_loss: 117.4970 - val_accuracy: 0.3810\n",
      "Epoch 4/20\n",
      "3/3 [==============================] - 38s 13s/step - loss: 0.7465 - accuracy: 0.7857 - val_loss: 106.9606 - val_accuracy: 0.3810\n",
      "Epoch 5/20\n",
      "3/3 [==============================] - 29s 9s/step - loss: 0.5315 - accuracy: 0.8214 - val_loss: 95.7362 - val_accuracy: 0.3810\n",
      "Epoch 6/20\n",
      "3/3 [==============================] - 42s 10s/step - loss: 0.3109 - accuracy: 0.8929 - val_loss: 88.3377 - val_accuracy: 0.3810\n",
      "Epoch 7/20\n",
      "3/3 [==============================] - 41s 9s/step - loss: 0.3637 - accuracy: 0.8571 - val_loss: 83.0050 - val_accuracy: 0.3810\n",
      "Epoch 8/20\n",
      "3/3 [==============================] - 29s 9s/step - loss: 0.3718 - accuracy: 0.8810 - val_loss: 78.2391 - val_accuracy: 0.3810\n",
      "Epoch 9/20\n",
      "3/3 [==============================] - 33s 9s/step - loss: 0.3305 - accuracy: 0.8690 - val_loss: 73.9513 - val_accuracy: 0.3810\n",
      "Epoch 10/20\n",
      "3/3 [==============================] - 28s 8s/step - loss: 0.3073 - accuracy: 0.8810 - val_loss: 70.1755 - val_accuracy: 0.3810\n",
      "Epoch 11/20\n",
      "3/3 [==============================] - 27s 8s/step - loss: 0.2297 - accuracy: 0.8810 - val_loss: 66.8225 - val_accuracy: 0.3810\n",
      "Epoch 12/20\n",
      "3/3 [==============================] - 27s 9s/step - loss: 0.2167 - accuracy: 0.9048 - val_loss: 63.7566 - val_accuracy: 0.3810\n",
      "Epoch 13/20\n",
      "3/3 [==============================] - 27s 8s/step - loss: 0.2229 - accuracy: 0.9167 - val_loss: 60.5782 - val_accuracy: 0.3810\n",
      "Epoch 14/20\n",
      "3/3 [==============================] - 27s 9s/step - loss: 0.2612 - accuracy: 0.8690 - val_loss: 57.5750 - val_accuracy: 0.3810\n",
      "Epoch 15/20\n",
      "3/3 [==============================] - 27s 8s/step - loss: 0.4548 - accuracy: 0.8810 - val_loss: 57.4278 - val_accuracy: 0.3810\n",
      "Epoch 16/20\n",
      "3/3 [==============================] - 27s 8s/step - loss: 0.3274 - accuracy: 0.8333 - val_loss: 56.7520 - val_accuracy: 0.3810\n",
      "Epoch 17/20\n",
      "3/3 [==============================] - 26s 8s/step - loss: 0.2380 - accuracy: 0.8810 - val_loss: 55.6753 - val_accuracy: 0.3810\n",
      "Epoch 18/20\n",
      "3/3 [==============================] - 28s 8s/step - loss: 0.2061 - accuracy: 0.8929 - val_loss: 54.2300 - val_accuracy: 0.3810\n",
      "Epoch 19/20\n",
      "3/3 [==============================] - 29s 9s/step - loss: 0.2509 - accuracy: 0.8929 - val_loss: 46.1254 - val_accuracy: 0.3810\n",
      "Epoch 20/20\n",
      "3/3 [==============================] - 27s 8s/step - loss: 0.2636 - accuracy: 0.8929 - val_loss: 38.7393 - val_accuracy: 0.3333\n"
     ]
    }
   ],
   "source": [
    "history = model.fit(X_train, y_train, validation_data=(X_val, y_val), batch_size=32, epochs=20)"
   ]
  },
  {
   "cell_type": "code",
   "execution_count": 39,
   "id": "9f5876b7",
   "metadata": {},
   "outputs": [
    {
     "name": "stdout",
     "output_type": "stream",
     "text": [
      "2/2 - 2s - loss: 52.8144 - accuracy: 0.2286 - 2s/epoch - 1s/step\n"
     ]
    }
   ],
   "source": [
    "test_loss, test_acc = model.evaluate(X_test, y_test, verbose=2)"
   ]
  },
  {
   "cell_type": "code",
   "execution_count": null,
   "id": "6539436b",
   "metadata": {},
   "outputs": [],
   "source": []
  }
 ],
 "metadata": {
  "kernelspec": {
   "display_name": "Python 3 (ipykernel)",
   "language": "python",
   "name": "python3"
  },
  "language_info": {
   "codemirror_mode": {
    "name": "ipython",
    "version": 3
   },
   "file_extension": ".py",
   "mimetype": "text/x-python",
   "name": "python",
   "nbconvert_exporter": "python",
   "pygments_lexer": "ipython3",
   "version": "3.8.10"
  }
 },
 "nbformat": 4,
 "nbformat_minor": 5
}
