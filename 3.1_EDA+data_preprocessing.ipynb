{
 "cells": [
  {
   "cell_type": "code",
   "execution_count": 2,
   "id": "d21ca965",
   "metadata": {},
   "outputs": [
    {
     "name": "stderr",
     "output_type": "stream",
     "text": [
      "2022-12-01 18:16:26.033868: I tensorflow/core/platform/cpu_feature_guard.cc:193] This TensorFlow binary is optimized with oneAPI Deep Neural Network Library (oneDNN) to use the following CPU instructions in performance-critical operations:  AVX2 FMA\n",
      "To enable them in other operations, rebuild TensorFlow with the appropriate compiler flags.\n"
     ]
    }
   ],
   "source": [
    "import os\n",
    "from glob import glob\n",
    "from shutil import copyfile, move\n",
    "from collections import defaultdict\n",
    "import pandas as pd"
   ]
  },
  {
   "cell_type": "markdown",
   "id": "043c8b3c",
   "metadata": {},
   "source": [
    "Preprocessing dilemmas:\n",
    "    \n",
    "\n",
    "1. Should we balance the dataset?\n",
    "2. Should we filter by country (for Germany that results in having only 35 audio files)?\n",
    "3. We need to make tracks of the same size - should we limit the duration to the minimum duration based on the dataset? or do zero-padding?\n",
    "4. We can try chopping tracks into segments which will help to increase the dataset size and also solve the problem with #3 (having tracks of same size) -> but will this help in case of accents?\n",
    "\n"
   ]
  },
  {
   "cell_type": "code",
   "execution_count": 3,
   "id": "c7d3be1b",
   "metadata": {},
   "outputs": [
    {
     "name": "stdout",
     "output_type": "stream",
     "text": [
      "['.DS_Store', 'original', 'stft_data_16sec.json', 'filtered', 'processed']\n",
      "['.DS_Store', 'original', 'stft_data_16sec.json', 'filtered', 'processed']\n"
     ]
    }
   ],
   "source": [
    "# move data to \"original\" folder\n",
    "print(os.listdir(\"./data/\"))\n",
    "if not os.path.exists(\"./data/original\") and not os.path.exists(\"./data/filtered\"):\n",
    "    #\n",
    "    for folder in os.listdir(\"./data/\")[1:]:\n",
    "        move(f\"./data/{folder}\", f\"./data/original/{folder}\")\n",
    "\n",
    "print(os.listdir(\"./data/\"))"
   ]
  },
  {
   "cell_type": "code",
   "execution_count": 4,
   "id": "7f03c36d",
   "metadata": {},
   "outputs": [],
   "source": [
    "audio_files = glob(\"./data/original/*/*.wav\")"
   ]
  },
  {
   "cell_type": "markdown",
   "id": "de17417b",
   "metadata": {},
   "source": [
    "# Dataset statistics"
   ]
  },
  {
   "cell_type": "code",
   "execution_count": 5,
   "id": "88405768",
   "metadata": {},
   "outputs": [],
   "source": [
    "def load_wav_16k_mono(filename):\n",
    "    # Load encoded wav file\n",
    "    file_contents = tf.io.read_file(filename)\n",
    "    # Decode wav (tensors by channels) \n",
    "    wav, sample_rate = tf.audio.decode_wav(file_contents, desired_channels=1)\n",
    "    # Removes trailing axis\n",
    "    wav = tf.squeeze(wav, axis=-1)\n",
    "    sample_rate = tf.cast(sample_rate, dtype=tf.int64)\n",
    "    # Goes from 22050 Hz to 16000 Hz - amplitude of the audio signal\n",
    "    wav = tfio.audio.resample(wav, rate_in=sample_rate, rate_out=16000)\n",
    "    return wav"
   ]
  },
  {
   "cell_type": "code",
   "execution_count": 6,
   "id": "2ceac7b5",
   "metadata": {},
   "outputs": [],
   "source": [
    "def get_lang_dict(dirpath):\n",
    "    lang_dict = defaultdict(list)\n",
    "    audio_files = glob(dirpath)\n",
    "\n",
    "    for file in audio_files:\n",
    "        lang = file.split(\"/\")[3]\n",
    "        tensor_wave = load_wav_16k_mono(file)\n",
    "        lang_dict[lang].append(len(tensor_wave))\n",
    "    return lang_dict"
   ]
  },
  {
   "cell_type": "code",
   "execution_count": 7,
   "id": "52bb7d43",
   "metadata": {},
   "outputs": [],
   "source": [
    "def get_stats(dirpath):\n",
    "    '''\n",
    "    returns statistics for two dataframes:\n",
    "    df_stats_frames = duration measured in number of frames\n",
    "    df_stats_duration = duration measured in seconds \n",
    "    '''\n",
    "    lang_dict = get_lang_dict(dirpath)\n",
    "    df_stats_frames = pd.DataFrame(index=['count', 'mean', 'std', 'min', '25%', '50%', '75%', 'max'], columns=[lang for lang in lang_dict])\n",
    "    df_stats_duration = pd.DataFrame(index=['count', 'mean', 'std', 'min', '25%', '50%', '75%', 'max'], columns=[lang for lang in lang_dict])\n",
    "    for lang in lang_dict:\n",
    "        df_audio = pd.DataFrame({lang: lang_dict[lang]})\n",
    "        duration_len = [l/16000 for l in lang_dict[lang]]\n",
    "        df_audio_duration = pd.DataFrame({lang: duration_len}) \n",
    "        df_stats_frames[lang] = df_audio.describe()\n",
    "        df_stats_duration[lang] = df_audio_duration.describe()\n",
    "    return df_stats_frames, df_stats_duration"
   ]
  },
  {
   "cell_type": "code",
   "execution_count": 8,
   "id": "12cee7b2",
   "metadata": {},
   "outputs": [
    {
     "name": "stderr",
     "output_type": "stream",
     "text": [
      "2022-12-01 18:16:46.138396: I tensorflow/core/platform/cpu_feature_guard.cc:193] This TensorFlow binary is optimized with oneAPI Deep Neural Network Library (oneDNN) to use the following CPU instructions in performance-critical operations:  AVX2 FMA\n",
      "To enable them in other operations, rebuild TensorFlow with the appropriate compiler flags.\n",
      "2022-12-01 18:16:46.347351: I tensorflow_io/core/kernels/cpu_check.cc:128] Your CPU supports instructions that this TensorFlow IO binary was not compiled to use: AVX2 FMA\n"
     ]
    },
    {
     "name": "stdout",
     "output_type": "stream",
     "text": [
      "WARNING:tensorflow:5 out of the last 5 calls to <function pfor.<locals>.f at 0x13a60e4c0> triggered tf.function retracing. Tracing is expensive and the excessive number of tracings could be due to (1) creating @tf.function repeatedly in a loop, (2) passing tensors with different shapes, (3) passing Python objects instead of tensors. For (1), please define your @tf.function outside of the loop. For (2), @tf.function has reduce_retracing=True option that can avoid unnecessary retracing. For (3), please refer to https://www.tensorflow.org/guide/function#controlling_retracing and https://www.tensorflow.org/api_docs/python/tf/function for  more details.\n",
      "WARNING:tensorflow:6 out of the last 6 calls to <function pfor.<locals>.f at 0x13a60e280> triggered tf.function retracing. Tracing is expensive and the excessive number of tracings could be due to (1) creating @tf.function repeatedly in a loop, (2) passing tensors with different shapes, (3) passing Python objects instead of tensors. For (1), please define your @tf.function outside of the loop. For (2), @tf.function has reduce_retracing=True option that can avoid unnecessary retracing. For (3), please refer to https://www.tensorflow.org/guide/function#controlling_retracing and https://www.tensorflow.org/api_docs/python/tf/function for  more details.\n"
     ]
    }
   ],
   "source": [
    "ORIGINAL_DATASET_PATH = \"./data/original/*/*.wav\"\n",
    "df_stats_frames, df_stats_duration = get_stats(ORIGINAL_DATASET_PATH)"
   ]
  },
  {
   "cell_type": "code",
   "execution_count": 9,
   "id": "85b98773",
   "metadata": {},
   "outputs": [
    {
     "data": {
      "text/html": [
       "<div>\n",
       "<style scoped>\n",
       "    .dataframe tbody tr th:only-of-type {\n",
       "        vertical-align: middle;\n",
       "    }\n",
       "\n",
       "    .dataframe tbody tr th {\n",
       "        vertical-align: top;\n",
       "    }\n",
       "\n",
       "    .dataframe thead th {\n",
       "        text-align: right;\n",
       "    }\n",
       "</style>\n",
       "<table border=\"1\" class=\"dataframe\">\n",
       "  <thead>\n",
       "    <tr style=\"text-align: right;\">\n",
       "      <th></th>\n",
       "      <th>german</th>\n",
       "      <th>mandarin</th>\n",
       "      <th>russian</th>\n",
       "      <th>english</th>\n",
       "    </tr>\n",
       "  </thead>\n",
       "  <tbody>\n",
       "    <tr>\n",
       "      <th>count</th>\n",
       "      <td>45.000000</td>\n",
       "      <td>156.000000</td>\n",
       "      <td>81.000000</td>\n",
       "      <td>321.000000</td>\n",
       "    </tr>\n",
       "    <tr>\n",
       "      <th>mean</th>\n",
       "      <td>24.603707</td>\n",
       "      <td>30.816357</td>\n",
       "      <td>29.573198</td>\n",
       "      <td>22.602022</td>\n",
       "    </tr>\n",
       "    <tr>\n",
       "      <th>std</th>\n",
       "      <td>3.010575</td>\n",
       "      <td>6.798004</td>\n",
       "      <td>8.871542</td>\n",
       "      <td>3.430256</td>\n",
       "    </tr>\n",
       "    <tr>\n",
       "      <th>min</th>\n",
       "      <td>19.229125</td>\n",
       "      <td>18.924250</td>\n",
       "      <td>18.896687</td>\n",
       "      <td>16.460500</td>\n",
       "    </tr>\n",
       "    <tr>\n",
       "      <th>25%</th>\n",
       "      <td>22.824687</td>\n",
       "      <td>25.486313</td>\n",
       "      <td>23.447125</td>\n",
       "      <td>20.286750</td>\n",
       "    </tr>\n",
       "    <tr>\n",
       "      <th>50%</th>\n",
       "      <td>24.412375</td>\n",
       "      <td>29.745625</td>\n",
       "      <td>27.433250</td>\n",
       "      <td>22.119812</td>\n",
       "    </tr>\n",
       "    <tr>\n",
       "      <th>75%</th>\n",
       "      <td>26.038625</td>\n",
       "      <td>34.685141</td>\n",
       "      <td>33.418312</td>\n",
       "      <td>24.244187</td>\n",
       "    </tr>\n",
       "    <tr>\n",
       "      <th>max</th>\n",
       "      <td>34.014812</td>\n",
       "      <td>55.590000</td>\n",
       "      <td>66.142000</td>\n",
       "      <td>41.670375</td>\n",
       "    </tr>\n",
       "  </tbody>\n",
       "</table>\n",
       "</div>"
      ],
      "text/plain": [
       "          german    mandarin    russian     english\n",
       "count  45.000000  156.000000  81.000000  321.000000\n",
       "mean   24.603707   30.816357  29.573198   22.602022\n",
       "std     3.010575    6.798004   8.871542    3.430256\n",
       "min    19.229125   18.924250  18.896687   16.460500\n",
       "25%    22.824687   25.486313  23.447125   20.286750\n",
       "50%    24.412375   29.745625  27.433250   22.119812\n",
       "75%    26.038625   34.685141  33.418312   24.244187\n",
       "max    34.014812   55.590000  66.142000   41.670375"
      ]
     },
     "execution_count": 9,
     "metadata": {},
     "output_type": "execute_result"
    }
   ],
   "source": [
    "df_stats_duration"
   ]
  },
  {
   "cell_type": "markdown",
   "id": "b4a92ac4",
   "metadata": {},
   "source": [
    "Number of files per language is very varying - ranging from 45 audio clips for German to 156 for Mandarin. \n",
    "The clips duration is also very different - from about 16 sec for English, up to 66 sec for Russian.\n",
    "\n",
    "Preprocessing decisions:\n",
    "1. limit number of audio files per language to 45 to avoid imbalanced dataset\n",
    "2. ensure the file duration is 16 seconds (skip those that are less than 16, trim if longer)"
   ]
  },
  {
   "cell_type": "code",
   "execution_count": 10,
   "id": "af4d895b",
   "metadata": {},
   "outputs": [
    {
     "data": {
      "text/html": [
       "<div>\n",
       "<style scoped>\n",
       "    .dataframe tbody tr th:only-of-type {\n",
       "        vertical-align: middle;\n",
       "    }\n",
       "\n",
       "    .dataframe tbody tr th {\n",
       "        vertical-align: top;\n",
       "    }\n",
       "\n",
       "    .dataframe thead th {\n",
       "        text-align: right;\n",
       "    }\n",
       "</style>\n",
       "<table border=\"1\" class=\"dataframe\">\n",
       "  <thead>\n",
       "    <tr style=\"text-align: right;\">\n",
       "      <th></th>\n",
       "      <th>german</th>\n",
       "      <th>mandarin</th>\n",
       "      <th>russian</th>\n",
       "      <th>english</th>\n",
       "    </tr>\n",
       "  </thead>\n",
       "  <tbody>\n",
       "    <tr>\n",
       "      <th>count</th>\n",
       "      <td>45.000000</td>\n",
       "      <td>156.000000</td>\n",
       "      <td>8.100000e+01</td>\n",
       "      <td>321.000000</td>\n",
       "    </tr>\n",
       "    <tr>\n",
       "      <th>mean</th>\n",
       "      <td>393659.311111</td>\n",
       "      <td>493061.711538</td>\n",
       "      <td>4.731712e+05</td>\n",
       "      <td>361632.352025</td>\n",
       "    </tr>\n",
       "    <tr>\n",
       "      <th>std</th>\n",
       "      <td>48169.197338</td>\n",
       "      <td>108768.058246</td>\n",
       "      <td>1.419447e+05</td>\n",
       "      <td>54884.094414</td>\n",
       "    </tr>\n",
       "    <tr>\n",
       "      <th>min</th>\n",
       "      <td>307666.000000</td>\n",
       "      <td>302788.000000</td>\n",
       "      <td>3.023470e+05</td>\n",
       "      <td>263368.000000</td>\n",
       "    </tr>\n",
       "    <tr>\n",
       "      <th>25%</th>\n",
       "      <td>365195.000000</td>\n",
       "      <td>407781.000000</td>\n",
       "      <td>3.751540e+05</td>\n",
       "      <td>324588.000000</td>\n",
       "    </tr>\n",
       "    <tr>\n",
       "      <th>50%</th>\n",
       "      <td>390598.000000</td>\n",
       "      <td>475930.000000</td>\n",
       "      <td>4.389320e+05</td>\n",
       "      <td>353917.000000</td>\n",
       "    </tr>\n",
       "    <tr>\n",
       "      <th>75%</th>\n",
       "      <td>416618.000000</td>\n",
       "      <td>554962.250000</td>\n",
       "      <td>5.346930e+05</td>\n",
       "      <td>387907.000000</td>\n",
       "    </tr>\n",
       "    <tr>\n",
       "      <th>max</th>\n",
       "      <td>544237.000000</td>\n",
       "      <td>889440.000000</td>\n",
       "      <td>1.058272e+06</td>\n",
       "      <td>666726.000000</td>\n",
       "    </tr>\n",
       "  </tbody>\n",
       "</table>\n",
       "</div>"
      ],
      "text/plain": [
       "              german       mandarin       russian        english\n",
       "count      45.000000     156.000000  8.100000e+01     321.000000\n",
       "mean   393659.311111  493061.711538  4.731712e+05  361632.352025\n",
       "std     48169.197338  108768.058246  1.419447e+05   54884.094414\n",
       "min    307666.000000  302788.000000  3.023470e+05  263368.000000\n",
       "25%    365195.000000  407781.000000  3.751540e+05  324588.000000\n",
       "50%    390598.000000  475930.000000  4.389320e+05  353917.000000\n",
       "75%    416618.000000  554962.250000  5.346930e+05  387907.000000\n",
       "max    544237.000000  889440.000000  1.058272e+06  666726.000000"
      ]
     },
     "execution_count": 10,
     "metadata": {},
     "output_type": "execute_result"
    }
   ],
   "source": [
    "df_stats_frames"
   ]
  },
  {
   "cell_type": "markdown",
   "id": "25587d26",
   "metadata": {},
   "source": [
    "# Filter by country"
   ]
  },
  {
   "cell_type": "code",
   "execution_count": 13,
   "id": "dda67f5d",
   "metadata": {},
   "outputs": [],
   "source": [
    "def filter_by_country(countries, audio_files):\n",
    "    for file in audio_files:\n",
    "        lang = file.split(\"/\")[3]\n",
    "        filename = file.split(\"/\")[-1]\n",
    "        country = filename.split(\"_\")[-1].split(\".wav\")[0]\n",
    "        if country in countries:\n",
    "            dst = f\"./data/filtered/{lang}\"\n",
    "            if not os.path.exists(dst):\n",
    "                os.makedirs(dst)\n",
    "            copyfile(file, f\"{dst}/{filename}\")"
   ]
  },
  {
   "cell_type": "code",
   "execution_count": 14,
   "id": "6ab4983c",
   "metadata": {},
   "outputs": [],
   "source": [
    "countries = [\"russia\", \"germany\", \"usa\", \"china\"]\n",
    "audio_files = glob(\"./data/original/*/*.wav\")\n",
    "\n",
    "if not os.path.exists(\"./data/filtered\"):\n",
    "    filter_by_country(countries, audio_files)"
   ]
  },
  {
   "cell_type": "code",
   "execution_count": 15,
   "id": "c086c7f6",
   "metadata": {},
   "outputs": [],
   "source": [
    "FILTERED_DATASET_PATH = \"./data/filtered/*/*.wav\"\n",
    "df_stats_frames, df_stats_duration = get_stats(FILTERED_DATASET_PATH)"
   ]
  },
  {
   "cell_type": "code",
   "execution_count": 16,
   "id": "0a674ea1",
   "metadata": {},
   "outputs": [
    {
     "data": {
      "text/html": [
       "<div>\n",
       "<style scoped>\n",
       "    .dataframe tbody tr th:only-of-type {\n",
       "        vertical-align: middle;\n",
       "    }\n",
       "\n",
       "    .dataframe tbody tr th {\n",
       "        vertical-align: top;\n",
       "    }\n",
       "\n",
       "    .dataframe thead th {\n",
       "        text-align: right;\n",
       "    }\n",
       "</style>\n",
       "<table border=\"1\" class=\"dataframe\">\n",
       "  <thead>\n",
       "    <tr style=\"text-align: right;\">\n",
       "      <th></th>\n",
       "      <th>german</th>\n",
       "      <th>mandarin</th>\n",
       "      <th>russian</th>\n",
       "      <th>english</th>\n",
       "    </tr>\n",
       "  </thead>\n",
       "  <tbody>\n",
       "    <tr>\n",
       "      <th>count</th>\n",
       "      <td>35.000000</td>\n",
       "      <td>35.000000</td>\n",
       "      <td>35.000000</td>\n",
       "      <td>35.000000</td>\n",
       "    </tr>\n",
       "    <tr>\n",
       "      <th>mean</th>\n",
       "      <td>24.662941</td>\n",
       "      <td>29.925100</td>\n",
       "      <td>30.194914</td>\n",
       "      <td>23.623271</td>\n",
       "    </tr>\n",
       "    <tr>\n",
       "      <th>std</th>\n",
       "      <td>3.140721</td>\n",
       "      <td>7.596608</td>\n",
       "      <td>8.254043</td>\n",
       "      <td>3.492605</td>\n",
       "    </tr>\n",
       "    <tr>\n",
       "      <th>min</th>\n",
       "      <td>19.997688</td>\n",
       "      <td>19.751500</td>\n",
       "      <td>18.896687</td>\n",
       "      <td>16.474438</td>\n",
       "    </tr>\n",
       "    <tr>\n",
       "      <th>25%</th>\n",
       "      <td>22.681250</td>\n",
       "      <td>24.804094</td>\n",
       "      <td>24.393062</td>\n",
       "      <td>21.428312</td>\n",
       "    </tr>\n",
       "    <tr>\n",
       "      <th>50%</th>\n",
       "      <td>24.412375</td>\n",
       "      <td>29.044375</td>\n",
       "      <td>27.834125</td>\n",
       "      <td>23.266375</td>\n",
       "    </tr>\n",
       "    <tr>\n",
       "      <th>75%</th>\n",
       "      <td>26.252812</td>\n",
       "      <td>32.165219</td>\n",
       "      <td>36.628219</td>\n",
       "      <td>25.771375</td>\n",
       "    </tr>\n",
       "    <tr>\n",
       "      <th>max</th>\n",
       "      <td>34.014812</td>\n",
       "      <td>55.590000</td>\n",
       "      <td>53.257375</td>\n",
       "      <td>31.362063</td>\n",
       "    </tr>\n",
       "  </tbody>\n",
       "</table>\n",
       "</div>"
      ],
      "text/plain": [
       "          german   mandarin    russian    english\n",
       "count  35.000000  35.000000  35.000000  35.000000\n",
       "mean   24.662941  29.925100  30.194914  23.623271\n",
       "std     3.140721   7.596608   8.254043   3.492605\n",
       "min    19.997688  19.751500  18.896687  16.474438\n",
       "25%    22.681250  24.804094  24.393062  21.428312\n",
       "50%    24.412375  29.044375  27.834125  23.266375\n",
       "75%    26.252812  32.165219  36.628219  25.771375\n",
       "max    34.014812  55.590000  53.257375  31.362063"
      ]
     },
     "execution_count": 16,
     "metadata": {},
     "output_type": "execute_result"
    }
   ],
   "source": [
    "df_stats_duration"
   ]
  },
  {
   "cell_type": "markdown",
   "id": "c8697e34",
   "metadata": {},
   "source": [
    "## Downsample for balanced dataset"
   ]
  },
  {
   "cell_type": "code",
   "execution_count": 19,
   "id": "3acca4c2",
   "metadata": {},
   "outputs": [
    {
     "data": {
      "text/plain": [
       "['german', 'mandarin', 'russian', 'english']"
      ]
     },
     "execution_count": 19,
     "metadata": {},
     "output_type": "execute_result"
    }
   ],
   "source": [
    "languages = os.listdir(\"./data/original\")\n",
    "languages"
   ]
  },
  {
   "cell_type": "code",
   "execution_count": 20,
   "id": "f6bd755f",
   "metadata": {},
   "outputs": [
    {
     "data": {
      "text/plain": [
       "35"
      ]
     },
     "execution_count": 20,
     "metadata": {},
     "output_type": "execute_result"
    }
   ],
   "source": [
    "min_num = int(df_stats_duration.T['count'].min())\n",
    "min_num"
   ]
  },
  {
   "cell_type": "code",
   "execution_count": 21,
   "id": "622ff3df",
   "metadata": {},
   "outputs": [],
   "source": [
    "def downsample(min_num):\n",
    "    for lang in languages:\n",
    "        files_per_lang = glob(f\"./data/filtered/{lang}/*.wav\")\n",
    "        for i, file in enumerate(files_per_lang):\n",
    "            if i >= min_num:\n",
    "                os.remove(file)"
   ]
  },
  {
   "cell_type": "code",
   "execution_count": null,
   "id": "4a853524",
   "metadata": {},
   "outputs": [],
   "source": [
    "# downsample(min_num)"
   ]
  },
  {
   "cell_type": "code",
   "execution_count": 10,
   "id": "30dad051",
   "metadata": {},
   "outputs": [],
   "source": [
    "FILTERED_DATASET_PATH = \"./data/filtered/*/*.wav\"\n",
    "df_stats_frames, df_stats_duration = get_stats(FILTERED_DATASET_PATH)"
   ]
  },
  {
   "cell_type": "code",
   "execution_count": 11,
   "id": "491a87f2",
   "metadata": {},
   "outputs": [
    {
     "data": {
      "text/html": [
       "<div>\n",
       "<style scoped>\n",
       "    .dataframe tbody tr th:only-of-type {\n",
       "        vertical-align: middle;\n",
       "    }\n",
       "\n",
       "    .dataframe tbody tr th {\n",
       "        vertical-align: top;\n",
       "    }\n",
       "\n",
       "    .dataframe thead th {\n",
       "        text-align: right;\n",
       "    }\n",
       "</style>\n",
       "<table border=\"1\" class=\"dataframe\">\n",
       "  <thead>\n",
       "    <tr style=\"text-align: right;\">\n",
       "      <th></th>\n",
       "      <th>german</th>\n",
       "      <th>mandarin</th>\n",
       "      <th>russian</th>\n",
       "      <th>english</th>\n",
       "    </tr>\n",
       "  </thead>\n",
       "  <tbody>\n",
       "    <tr>\n",
       "      <th>count</th>\n",
       "      <td>35.000000</td>\n",
       "      <td>35.000000</td>\n",
       "      <td>35.000000</td>\n",
       "      <td>35.000000</td>\n",
       "    </tr>\n",
       "    <tr>\n",
       "      <th>mean</th>\n",
       "      <td>24.662941</td>\n",
       "      <td>29.925100</td>\n",
       "      <td>30.194914</td>\n",
       "      <td>23.623271</td>\n",
       "    </tr>\n",
       "    <tr>\n",
       "      <th>std</th>\n",
       "      <td>3.140721</td>\n",
       "      <td>7.596608</td>\n",
       "      <td>8.254043</td>\n",
       "      <td>3.492605</td>\n",
       "    </tr>\n",
       "    <tr>\n",
       "      <th>min</th>\n",
       "      <td>19.997688</td>\n",
       "      <td>19.751500</td>\n",
       "      <td>18.896687</td>\n",
       "      <td>16.474438</td>\n",
       "    </tr>\n",
       "    <tr>\n",
       "      <th>25%</th>\n",
       "      <td>22.681250</td>\n",
       "      <td>24.804094</td>\n",
       "      <td>24.393062</td>\n",
       "      <td>21.428312</td>\n",
       "    </tr>\n",
       "    <tr>\n",
       "      <th>50%</th>\n",
       "      <td>24.412375</td>\n",
       "      <td>29.044375</td>\n",
       "      <td>27.834125</td>\n",
       "      <td>23.266375</td>\n",
       "    </tr>\n",
       "    <tr>\n",
       "      <th>75%</th>\n",
       "      <td>26.252812</td>\n",
       "      <td>32.165219</td>\n",
       "      <td>36.628219</td>\n",
       "      <td>25.771375</td>\n",
       "    </tr>\n",
       "    <tr>\n",
       "      <th>max</th>\n",
       "      <td>34.014812</td>\n",
       "      <td>55.590000</td>\n",
       "      <td>53.257375</td>\n",
       "      <td>31.362063</td>\n",
       "    </tr>\n",
       "  </tbody>\n",
       "</table>\n",
       "</div>"
      ],
      "text/plain": [
       "          german   mandarin    russian    english\n",
       "count  35.000000  35.000000  35.000000  35.000000\n",
       "mean   24.662941  29.925100  30.194914  23.623271\n",
       "std     3.140721   7.596608   8.254043   3.492605\n",
       "min    19.997688  19.751500  18.896687  16.474438\n",
       "25%    22.681250  24.804094  24.393062  21.428312\n",
       "50%    24.412375  29.044375  27.834125  23.266375\n",
       "75%    26.252812  32.165219  36.628219  25.771375\n",
       "max    34.014812  55.590000  53.257375  31.362063"
      ]
     },
     "execution_count": 11,
     "metadata": {},
     "output_type": "execute_result"
    }
   ],
   "source": [
    "df_stats_duration"
   ]
  },
  {
   "cell_type": "code",
   "execution_count": null,
   "id": "a6bee23b",
   "metadata": {},
   "outputs": [],
   "source": [
    "min_duration = int(df_stats_duration.T['min'].min())\n",
    "min_duration"
   ]
  }
 ],
 "metadata": {
  "kernelspec": {
   "display_name": "Python 3 (ipykernel)",
   "language": "python",
   "name": "python3"
  },
  "language_info": {
   "codemirror_mode": {
    "name": "ipython",
    "version": 3
   },
   "file_extension": ".py",
   "mimetype": "text/x-python",
   "name": "python",
   "nbconvert_exporter": "python",
   "pygments_lexer": "ipython3",
   "version": "3.8.10"
  }
 },
 "nbformat": 4,
 "nbformat_minor": 5
}
