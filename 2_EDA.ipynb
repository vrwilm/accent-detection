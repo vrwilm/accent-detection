{
 "cells": [
  {
   "cell_type": "markdown",
   "id": "7f6962c5",
   "metadata": {},
   "source": [
    "![./img/sp_tiny.png](./img/sp_tiny.png)\n",
    "<h1><center>Accent Detection: <br>\n",
    "Signal Processing  + CNN</center></h1>\n",
    "<h3><center>Part 2: Exploring the dataset</center></h3>\n",
    "<center>Group 2: Katerina Bosko and Victor Wilm\n",
    "<center>Northeastern University, CS6140"
   ]
  },
  {
   "cell_type": "code",
   "execution_count": 1,
   "id": "83e6546f",
   "metadata": {},
   "outputs": [],
   "source": [
    "import os\n",
    "from glob import glob\n",
    "from collections import defaultdict\n",
    "import pandas as pd\n",
    "import librosa\n",
    "import matplotlib.pyplot as plt\n",
    "from ipywidgets import IntProgress"
   ]
  },
  {
   "cell_type": "markdown",
   "id": "de17417b",
   "metadata": {},
   "source": [
    "# Dataset statistics\n",
    "\n",
    "In this notebook, we do some explorative data analysis (EDA) to find out the number of audio tracks per language ins the two chosen languages sets and see the duration distribution per language."
   ]
  },
  {
   "cell_type": "code",
   "execution_count": 2,
   "id": "527fcc37",
   "metadata": {},
   "outputs": [],
   "source": [
    "def get_lang_dicts(dataset_path):\n",
    "    '''\n",
    "    input:\n",
    "        dataset_path: path to dataset, e.g. \"./data/lang_set_1\"\n",
    "    returns two dictionaries\n",
    "    - lang_dict_frames: languages as keys, duration in frames as values\n",
    "    - lang_dict_seconds: languages as keys, duration in seconds as values\n",
    "    '''\n",
    "    audio_files = glob(f\"{dataset_path}/*/*.wav\")\n",
    "    # instantiate the progress bar\n",
    "    f = IntProgress(min=0, max=len(audio_files)) \n",
    "    display(f) # display the bar\n",
    "    \n",
    "    #get languages\n",
    "    if '.DS_Store' in os.listdir(dataset_path):\n",
    "        os.remove(f'{dataset_path}/.DS_Store')\n",
    "\n",
    "    languages = os.listdir(dataset_path)\n",
    "\n",
    "    lang_dict_frames = defaultdict(list)\n",
    "    lang_dict_seconds = defaultdict(list)\n",
    "\n",
    "    for file in audio_files:\n",
    "        f.value += 1\n",
    "        lang_pos = len(dataset_path.split(\"/\"))\n",
    "        lang = file.split(\"/\")[lang_pos]\n",
    "        signal, sample_rate = librosa.load(file, mono=True)\n",
    "        \n",
    "        duration_in_frames = len(signal)\n",
    "        lang_dict_frames[lang].append(duration_in_frames) \n",
    "        \n",
    "        duration_in_sec = librosa.get_duration(y=signal)\n",
    "        lang_dict_seconds[lang].append(duration_in_sec)\n",
    "        \n",
    "    return lang_dict_frames, lang_dict_seconds"
   ]
  },
  {
   "cell_type": "code",
   "execution_count": 9,
   "id": "636371b5",
   "metadata": {},
   "outputs": [],
   "source": [
    "def get_stats(lang_dict):\n",
    "    '''\n",
    "    expects input in the form returned by get_lang_dicts()\n",
    "    returns dataset statistics\n",
    "    '''\n",
    "    df_stats = pd.DataFrame(index=['count', 'mean', 'std', 'min', '25%', '50%', '75%', 'max'], columns=[lang for lang in lang_dict])\n",
    "    for lang in lang_dict:\n",
    "        df = pd.DataFrame({lang: lang_dict[lang]})\n",
    "        df_stats[lang] = df.describe()\n",
    "    return df_stats"
   ]
  },
  {
   "cell_type": "code",
   "execution_count": 4,
   "id": "d4675a06",
   "metadata": {},
   "outputs": [],
   "source": [
    "def plot_num_files_per_language(df_stats):\n",
    "    '''\n",
    "    expects input in the form returned by get_stats()\n",
    "    '''\n",
    "    x = df_stats.columns\n",
    "    y = df_stats.T['count']\n",
    "    plt.bar(x, y)\n",
    "    plt.xlabel(\"Languages\")\n",
    "    plt.ylabel(\"Number of audio files\")\n",
    "    plt.title(\"Number of audio files per language\")\n",
    "    plt.show()"
   ]
  },
  {
   "cell_type": "code",
   "execution_count": 19,
   "id": "3ff3d65b",
   "metadata": {},
   "outputs": [],
   "source": [
    "def plot_boxplot_duration(lang_dict):\n",
    "    '''expects input in the form returned by get_lang_dicts()'''\n",
    "    values = [lang_dict[lang] for lang in lang_dict]  \n",
    "    fig, ax = plt.subplots()\n",
    "    ax.boxplot(values)\n",
    "    num_ticks = range(1, len(lang_dict)+1)\n",
    "    plt.xticks(num_ticks, lang_dict.keys(), rotation=90)\n",
    "    plt.ylabel(\"sec\")\n",
    "    plt.title(\"Duration distribution per language\")\n",
    "    plt.show()"
   ]
  },
  {
   "cell_type": "markdown",
   "id": "3273b41a",
   "metadata": {},
   "source": [
    "# Languages Set 1: \n",
    "## English, Russian, German, Mandarin"
   ]
  },
  {
   "cell_type": "code",
   "execution_count": 7,
   "id": "6b94562c",
   "metadata": {},
   "outputs": [
    {
     "data": {
      "application/vnd.jupyter.widget-view+json": {
       "model_id": "ce7fb105008a4159b5841241577c8aa8",
       "version_major": 2,
       "version_minor": 0
      },
      "text/plain": [
       "IntProgress(value=0, max=933)"
      ]
     },
     "metadata": {},
     "output_type": "display_data"
    }
   ],
   "source": [
    "L1_DATASET_PATH = \"./data/lang_set_1\"\n",
    "lang_dict_frames, lang_dict_seconds = get_lang_dicts(L1_DATASET_PATH)"
   ]
  },
  {
   "cell_type": "code",
   "execution_count": 10,
   "id": "4fedf646",
   "metadata": {},
   "outputs": [
    {
     "data": {
      "image/png": "[encoded data removed]",
      "text/plain": [
       "<Figure size 432x288 with 1 Axes>"
      ]
     },
     "metadata": {
      "needs_background": "light"
     },
     "output_type": "display_data"
    }
   ],
   "source": [
    "df_stats_in_sec = get_stats(lang_dict_seconds)\n",
    "plot_num_files_per_language(df_stats_in_sec)"
   ]
  },
  {
   "cell_type": "code",
   "execution_count": 20,
   "id": "fbcc6dfd",
   "metadata": {},
   "outputs": [
    {
     "data": {
      "image/png": "[encoded data removed]",
      "text/plain": [
       "<Figure size 432x288 with 1 Axes>"
      ]
     },
     "metadata": {
      "needs_background": "light"
     },
     "output_type": "display_data"
    }
   ],
   "source": [
    "plot_boxplot_duration(lang_dict_seconds)"
   ]
  },
  {
   "cell_type": "code",
   "execution_count": 12,
   "id": "b4a506ee",
   "metadata": {},
   "outputs": [
    {
     "data": {
      "text/html": [
       "<div>\n",
       "<style scoped>\n",
       "    .dataframe tbody tr th:only-of-type {\n",
       "        vertical-align: middle;\n",
       "    }\n",
       "\n",
       "    .dataframe tbody tr th {\n",
       "        vertical-align: top;\n",
       "    }\n",
       "\n",
       "    .dataframe thead th {\n",
       "        text-align: right;\n",
       "    }\n",
       "</style>\n",
       "<table border=\"1\" class=\"dataframe\">\n",
       "  <thead>\n",
       "    <tr style=\"text-align: right;\">\n",
       "      <th></th>\n",
       "      <th>german</th>\n",
       "      <th>mandarin</th>\n",
       "      <th>russian</th>\n",
       "      <th>english</th>\n",
       "    </tr>\n",
       "  </thead>\n",
       "  <tbody>\n",
       "    <tr>\n",
       "      <th>count</th>\n",
       "      <td>45.000000</td>\n",
       "      <td>156.000000</td>\n",
       "      <td>81.000000</td>\n",
       "      <td>651.000000</td>\n",
       "    </tr>\n",
       "    <tr>\n",
       "      <th>mean</th>\n",
       "      <td>24.603744</td>\n",
       "      <td>30.816396</td>\n",
       "      <td>29.573240</td>\n",
       "      <td>23.041864</td>\n",
       "    </tr>\n",
       "    <tr>\n",
       "      <th>std</th>\n",
       "      <td>3.010577</td>\n",
       "      <td>6.798003</td>\n",
       "      <td>8.871543</td>\n",
       "      <td>3.894148</td>\n",
       "    </tr>\n",
       "    <tr>\n",
       "      <th>min</th>\n",
       "      <td>19.229161</td>\n",
       "      <td>18.924263</td>\n",
       "      <td>18.896735</td>\n",
       "      <td>16.460544</td>\n",
       "    </tr>\n",
       "    <tr>\n",
       "      <th>25%</th>\n",
       "      <td>22.824717</td>\n",
       "      <td>25.486338</td>\n",
       "      <td>23.447166</td>\n",
       "      <td>20.542404</td>\n",
       "    </tr>\n",
       "    <tr>\n",
       "      <th>50%</th>\n",
       "      <td>24.412426</td>\n",
       "      <td>29.745669</td>\n",
       "      <td>27.433288</td>\n",
       "      <td>22.291156</td>\n",
       "    </tr>\n",
       "    <tr>\n",
       "      <th>75%</th>\n",
       "      <td>26.038639</td>\n",
       "      <td>34.685181</td>\n",
       "      <td>33.418322</td>\n",
       "      <td>24.864853</td>\n",
       "    </tr>\n",
       "    <tr>\n",
       "      <th>max</th>\n",
       "      <td>34.014830</td>\n",
       "      <td>55.590023</td>\n",
       "      <td>66.142041</td>\n",
       "      <td>43.409887</td>\n",
       "    </tr>\n",
       "  </tbody>\n",
       "</table>\n",
       "</div>"
      ],
      "text/plain": [
       "          german    mandarin    russian     english\n",
       "count  45.000000  156.000000  81.000000  651.000000\n",
       "mean   24.603744   30.816396  29.573240   23.041864\n",
       "std     3.010577    6.798003   8.871543    3.894148\n",
       "min    19.229161   18.924263  18.896735   16.460544\n",
       "25%    22.824717   25.486338  23.447166   20.542404\n",
       "50%    24.412426   29.745669  27.433288   22.291156\n",
       "75%    26.038639   34.685181  33.418322   24.864853\n",
       "max    34.014830   55.590023  66.142041   43.409887"
      ]
     },
     "execution_count": 12,
     "metadata": {},
     "output_type": "execute_result"
    }
   ],
   "source": [
    "df_stats_in_sec"
   ]
  },
  {
   "cell_type": "markdown",
   "id": "b4a92ac4",
   "metadata": {},
   "source": [
    "Number of files per language is very varying - ranging from 45 audio clips for German to 651 for English. \n",
    "The audio file durations are also very different - from about 16 sec for English, up to 66 sec for Russian."
   ]
  },
  {
   "cell_type": "markdown",
   "id": "32cdde1e",
   "metadata": {},
   "source": [
    "# Languages Set 2: \n",
    "## English, Russian, Arabic, French"
   ]
  },
  {
   "cell_type": "code",
   "execution_count": 13,
   "id": "71b886ad",
   "metadata": {},
   "outputs": [
    {
     "data": {
      "application/vnd.jupyter.widget-view+json": {
       "model_id": "9d12f9b749444e3aae7a99be719f2957",
       "version_major": 2,
       "version_minor": 0
      },
      "text/plain": [
       "IntProgress(value=0, max=687)"
      ]
     },
     "metadata": {},
     "output_type": "display_data"
    }
   ],
   "source": [
    "L2_DATASET_PATH = \"./data/lang_set_2\"\n",
    "lang_dict_frames_2, lang_dict_seconds_2 = get_lang_dicts(L2_DATASET_PATH)"
   ]
  },
  {
   "cell_type": "code",
   "execution_count": 22,
   "id": "af4d895b",
   "metadata": {},
   "outputs": [
    {
     "data": {
      "image/png": "[encoded data removed]",
      "text/plain": [
       "<Figure size 432x288 with 1 Axes>"
      ]
     },
     "metadata": {
      "needs_background": "light"
     },
     "output_type": "display_data"
    }
   ],
   "source": [
    "df_stats_in_sec_2 = get_stats(lang_dict_seconds_2)\n",
    "plot_num_files_per_language(df_stats_in_sec_2)"
   ]
  },
  {
   "cell_type": "code",
   "execution_count": 21,
   "id": "a0523ba6",
   "metadata": {},
   "outputs": [
    {
     "data": {
      "image/png": "[encoded data removed]",
      "text/plain": [
       "<Figure size 432x288 with 1 Axes>"
      ]
     },
     "metadata": {
      "needs_background": "light"
     },
     "output_type": "display_data"
    }
   ],
   "source": [
    "plot_boxplot_duration(lang_dict_seconds_2)"
   ]
  },
  {
   "cell_type": "code",
   "execution_count": 16,
   "id": "10fc64e6",
   "metadata": {},
   "outputs": [
    {
     "data": {
      "text/html": [
       "<div>\n",
       "<style scoped>\n",
       "    .dataframe tbody tr th:only-of-type {\n",
       "        vertical-align: middle;\n",
       "    }\n",
       "\n",
       "    .dataframe tbody tr th {\n",
       "        vertical-align: top;\n",
       "    }\n",
       "\n",
       "    .dataframe thead th {\n",
       "        text-align: right;\n",
       "    }\n",
       "</style>\n",
       "<table border=\"1\" class=\"dataframe\">\n",
       "  <thead>\n",
       "    <tr style=\"text-align: right;\">\n",
       "      <th></th>\n",
       "      <th>russian</th>\n",
       "      <th>english</th>\n",
       "      <th>french</th>\n",
       "      <th>arabic</th>\n",
       "    </tr>\n",
       "  </thead>\n",
       "  <tbody>\n",
       "    <tr>\n",
       "      <th>count</th>\n",
       "      <td>81.000000</td>\n",
       "      <td>321.000000</td>\n",
       "      <td>85.000000</td>\n",
       "      <td>200.000000</td>\n",
       "    </tr>\n",
       "    <tr>\n",
       "      <th>mean</th>\n",
       "      <td>29.573240</td>\n",
       "      <td>22.602061</td>\n",
       "      <td>27.429930</td>\n",
       "      <td>34.155488</td>\n",
       "    </tr>\n",
       "    <tr>\n",
       "      <th>std</th>\n",
       "      <td>8.871543</td>\n",
       "      <td>3.430254</td>\n",
       "      <td>5.769204</td>\n",
       "      <td>10.996224</td>\n",
       "    </tr>\n",
       "    <tr>\n",
       "      <th>min</th>\n",
       "      <td>18.896735</td>\n",
       "      <td>16.460544</td>\n",
       "      <td>17.774240</td>\n",
       "      <td>18.618866</td>\n",
       "    </tr>\n",
       "    <tr>\n",
       "      <th>25%</th>\n",
       "      <td>23.447166</td>\n",
       "      <td>20.286757</td>\n",
       "      <td>22.941315</td>\n",
       "      <td>27.185646</td>\n",
       "    </tr>\n",
       "    <tr>\n",
       "      <th>50%</th>\n",
       "      <td>27.433288</td>\n",
       "      <td>22.119864</td>\n",
       "      <td>26.643447</td>\n",
       "      <td>31.875102</td>\n",
       "    </tr>\n",
       "    <tr>\n",
       "      <th>75%</th>\n",
       "      <td>33.418322</td>\n",
       "      <td>24.244218</td>\n",
       "      <td>30.069841</td>\n",
       "      <td>38.288537</td>\n",
       "    </tr>\n",
       "    <tr>\n",
       "      <th>max</th>\n",
       "      <td>66.142041</td>\n",
       "      <td>41.670385</td>\n",
       "      <td>46.643084</td>\n",
       "      <td>91.325714</td>\n",
       "    </tr>\n",
       "  </tbody>\n",
       "</table>\n",
       "</div>"
      ],
      "text/plain": [
       "         russian     english     french      arabic\n",
       "count  81.000000  321.000000  85.000000  200.000000\n",
       "mean   29.573240   22.602061  27.429930   34.155488\n",
       "std     8.871543    3.430254   5.769204   10.996224\n",
       "min    18.896735   16.460544  17.774240   18.618866\n",
       "25%    23.447166   20.286757  22.941315   27.185646\n",
       "50%    27.433288   22.119864  26.643447   31.875102\n",
       "75%    33.418322   24.244218  30.069841   38.288537\n",
       "max    66.142041   41.670385  46.643084   91.325714"
      ]
     },
     "execution_count": 16,
     "metadata": {},
     "output_type": "execute_result"
    }
   ],
   "source": [
    "df_stats_in_sec_2"
   ]
  },
  {
   "cell_type": "markdown",
   "id": "d6ac58b6",
   "metadata": {},
   "source": [
    "# Conclusion"
   ]
  },
  {
   "attachments": {},
   "cell_type": "markdown",
   "id": "737d6b23",
   "metadata": {},
   "source": [
    "EDA showed that:\n",
    "1) the dataset is very imbalanced, some languages having far more audio tracks than others. <br>\n",
    "2) the audio tracks have varying duration, in other words the signal length is different for each audio track.\n",
    "\n",
    "But numpy doesn’t support ragged arrays, so we need to find a way to make audio tracks of the same size.\n",
    "\n",
    "\n",
    "When working on this project, we faced the following **preprocessing dilemmas**:\n",
    "    \n",
    "1. Should we balance the dataset?\n",
    "2. Should we filter by country as described in the project proposal (for Germany that results in having only 35 audio files)?\n",
    "3. We need to make audio tracks of the same size:\n",
    "    - should we limit the duration to the minimum duration based on the dataset? \n",
    "    - or do zero-padding for shorter audio tracks?\n",
    "    - or do both: limit to some average duration and do zero-padding if shorter?\n",
    "4. Should we chop audio tracks into segments? This would help to increase the dataset size and also solve the problem with #3 (having tracks of same size). But how to decide upon the correct size of segments?"
   ]
  }
 ],
 "metadata": {
  "kernelspec": {
   "display_name": "Python 3 (ipykernel)",
   "language": "python",
   "name": "python3"
  },
  "language_info": {
   "codemirror_mode": {
    "name": "ipython",
    "version": 3
   },
   "file_extension": ".py",
   "mimetype": "text/x-python",
   "name": "python",
   "nbconvert_exporter": "python",
   "pygments_lexer": "ipython3",
   "version": "3.8.10"
  }
 },
 "nbformat": 4,
 "nbformat_minor": 5
}
