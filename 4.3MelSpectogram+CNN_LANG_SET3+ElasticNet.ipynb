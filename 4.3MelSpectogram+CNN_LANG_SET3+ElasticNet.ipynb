{
 "cells": [
  {
   "cell_type": "code",
   "execution_count": 14,
   "id": "f81a713e",
   "metadata": {},
   "outputs": [
    {
     "name": "stdout",
     "output_type": "stream",
     "text": [
      "Num GPUs Available:  0\n"
     ]
    }
   ],
   "source": [
    "import os\n",
    "from glob import glob\n",
    "from ipywidgets import IntProgress\n",
    "import json\n",
    "\n",
    "from sklearn.preprocessing import StandardScaler\n",
    "from sklearn.model_selection import train_test_split\n",
    "\n",
    "from keras.callbacks import EarlyStopping\n",
    "from tensorflow.keras.models import Sequential\n",
    "from tensorflow.keras.layers import Conv2D, Dense, Flatten, MaxPooling2D, BatchNormalization, Dropout\n",
    "from tensorflow.keras.optimizers import Adam\n",
    "import tensorflow as tf\n",
    "from tensorflow.keras import regularizers\n",
    "\n",
    "import librosa\n",
    "import numpy as np\n",
    "import matplotlib.pyplot as plt\n",
    "import seaborn as sns\n",
    "\n",
    "# Set the seed value for experiment reproducibility\n",
    "seed = 36\n",
    "tf.random.set_seed(seed)\n",
    "np.random.seed(seed)\n",
    "print(\"Num GPUs Available: \", len(tf.config.list_physical_devices('GPU')))"
   ]
  },
  {
   "cell_type": "markdown",
   "id": "cea82bdd",
   "metadata": {},
   "source": [
    "# Notes\n",
    "\n",
    "## STFT window size\n",
    "https://librosa.org/doc/latest/generated/librosa.stft.html#librosa.stft\n",
    "\n",
    "n_fft = length of the windowed signal after padding with zeros. The number of rows in the STFT matrix D is (1 + n_fft/2). **The default value, n_fft=2048 samples**, corresponds to a physical duration of 93 milliseconds at a sample rate of 22050 Hz, i.e. the default sample rate in librosa. This value is well adapted for **music signals**. However, in **speech processing, the recommended value is 512**, corresponding to 23 milliseconds at a sample rate of 22050 Hz. In any case, we recommend setting n_fft to a power of two for optimizing the speed of the fast Fourier transform (FFT) algorithm."
   ]
  },
  {
   "cell_type": "markdown",
   "id": "7832fb61",
   "metadata": {},
   "source": [
    "## Preprocessing decisions:\n",
    "(UPDATE)\n",
    "\n",
    "1. Do not trim leading and trailing silence from an audio signal (below 20 db is considered as silence)\n",
    "2. Cut signal to a specified duration (FRAME_SIZE = 85)\n",
    "3. STFT/MFCC window size = 512 "
   ]
  },
  {
   "cell_type": "code",
   "execution_count": 15,
   "id": "fb59d636",
   "metadata": {},
   "outputs": [
    {
     "name": "stdout",
     "output_type": "stream",
     "text": [
      "num audio files for ENGLISH: 200\n",
      "num audio files for ARABIC: 200\n"
     ]
    }
   ],
   "source": [
    "dataset_path = \"./data/\"\n",
    "MAX_NUM_FILES = 45 if dataset_path == \"./data/original\" else 200\n",
    "\n",
    "languages = os.listdir(dataset_path)\n",
    "\n",
    "# FILTER TO JUST ARABIC, ENGLISH, CHINESE, and SPANISH\n",
    "languages = [lang for lang in languages if lang in [\"arabic\", \"english\", \"chinese\", \"spanish\"]]\n",
    "lang_mapping = {l: i for i, l in enumerate(languages)}\n",
    "\n",
    "\n",
    "audio_files_by_lang = {}\n",
    "# limit to max num\n",
    "for lang in languages:\n",
    "    audio_files_by_lang[lang] = glob(f\"{dataset_path}/{lang}/*.wav\")[:MAX_NUM_FILES]\n",
    "    print(f\"num audio files for {lang.upper()}: {len(audio_files_by_lang[lang])}\")\n",
    "\n",
    "audio_files = [file for lang_files in audio_files_by_lang.values() for file in lang_files]"
   ]
  },
  {
   "cell_type": "code",
   "execution_count": 16,
   "id": "a9e36c67",
   "metadata": {},
   "outputs": [
    {
     "data": {
      "text/plain": [
       "((64, 2105), (64, 2104.90234375))"
      ]
     },
     "execution_count": 16,
     "metadata": {},
     "output_type": "execute_result"
    }
   ],
   "source": [
    "# 1 file example\n",
    "file = audio_files[1]\n",
    "n_fft = 512\n",
    "WIN_LENGTH = n_fft\n",
    "HOP_LENGTH = n_fft // 2\n",
    "N_MELS = 64\n",
    "sample_rate = 22050\n",
    "\n",
    "signal, sample_rate = librosa.load(file, sr=sample_rate)\n",
    "mel_sp = librosa.feature.melspectrogram(y=signal, sr=sample_rate, n_mels=N_MELS, \n",
    "                                        hop_length=HOP_LENGTH, win_length=WIN_LENGTH, power=1.0)\n",
    "mel_sp.shape, (N_MELS, len(signal)/HOP_LENGTH)"
   ]
  },
  {
   "cell_type": "code",
   "execution_count": 17,
   "id": "4d47d0d6",
   "metadata": {},
   "outputs": [],
   "source": [
    "# def extract_features_mfcc_by_frame_size(dataset_path, MAX_NUM_FILES=45, FRAME_SIZE=75, sample_rate=22050, n_fft=512, num_mfcc=13):\n",
    "#     hop_length = n_fft // 2\n",
    "    \n",
    "#     if '.DS_Store' in os.listdir(dataset_path):\n",
    "#         os.remove(f'{dataset_path}/.DS_Store')\n",
    "\n",
    "#     languages = os.listdir(dataset_path)\n",
    "#     lang_mapping = {l: i for i, l in enumerate(languages)}\n",
    "\n",
    "\n",
    "#     audio_files_by_lang = {}\n",
    "#     # limit to MAX_NUM_FILES for each lang\n",
    "#     for lang in languages:\n",
    "#         audio_files_by_lang[lang] = glob(f\"{dataset_path}/{lang}/*.wav\")[:MAX_NUM_FILES]\n",
    "#         print(f\"num audio files for {lang.upper()}: {len(audio_files_by_lang[lang])}\")\n",
    "\n",
    "#     audio_files = [file for lang_files in audio_files_by_lang.values() for file in lang_files]\n",
    "    \n",
    "#     # instantiate the progress bar\n",
    "#     f = IntProgress(min=0, max=len(audio_files)) \n",
    "#     display(f) # display the bar\n",
    "\n",
    "\n",
    "#     X = []\n",
    "#     y = []\n",
    "#     for file in audio_files:\n",
    "#         f.value += 1\n",
    "#         lang_pos = len(dataset_path.split(\"/\"))\n",
    "#         lang = file.split(\"/\")[lang_pos]\n",
    "        \n",
    "#         signal, sample_rate = librosa.load(file, mono=True)\n",
    "        \n",
    "#         mfcc = librosa.feature.mfcc(y=signal, sr=sample_rate, n_mfcc=num_mfcc, n_fft=n_fft, hop_length=hop_length)\n",
    "#         mfcc_norm_vector = []\n",
    "#         for i in range(mfcc.shape[0]):\n",
    "#             mfcc_norm = StandardScaler().fit_transform(mfcc[i, :].reshape(-1, 1)).reshape(-1)\n",
    "#             mfcc_norm_vector.append(mfcc_norm)\n",
    "\n",
    "#         features = np.vstack(mfcc_norm_vector)\n",
    "#         # features shape (num_mfcc, math.ceil(signal_len/n_fft))\n",
    "#         # print(\"mfcc_norm -> features.shape\", features.shape)\n",
    "\n",
    "#         segments = []\n",
    "#         labels = []\n",
    "#         for frame_start in range(0, int(features.shape[1] / FRAME_SIZE)):\n",
    "#             features_cut = features[:, frame_start * FRAME_SIZE:(frame_start + 1) * FRAME_SIZE]\n",
    "#             # features_cut shape (num_mfcc, frame_size)\n",
    "#             # print(\"features_cut.shape\", features_cut.shape)\n",
    "#             segments.append(features_cut)\n",
    "#             # print(\"segments len per file\")\n",
    "#             labels.append(lang_mapping[lang])\n",
    "#         X_per_lang = np.vstack(segments)\n",
    "#         y_per_lang = np.vstack(labels)\n",
    "#         X.append(X_per_lang)\n",
    "#         y.append(y_per_lang)\n",
    " \n",
    "#     X = np.vstack(X)\n",
    "#     y = np.vstack(y)\n",
    "\n",
    "#     X = X.reshape(y.shape[0], -1, X.shape[1])\n",
    "#     print(X.shape, y.shape)\n",
    "#     return X, y "
   ]
  },
  {
   "cell_type": "code",
   "execution_count": 18,
   "id": "37973025",
   "metadata": {},
   "outputs": [],
   "source": [
    "def extract_melspectogram_by_frame_size(dataset_path, win_len, hop_len, MAX_NUM_FILES=45, FRAME_SIZE=75, sample_rate=22050):\n",
    "    \n",
    "    if '.DS_Store' in os.listdir(dataset_path):\n",
    "        os.remove(f'{dataset_path}/.DS_Store')\n",
    "\n",
    "    languages = os.listdir(dataset_path)\n",
    "    languages = [lang for lang in languages if lang in [\"arabic\", \"english\", \"chinese\", \"spanish\"]]\n",
    "    lang_mapping = {l: i for i, l in enumerate(languages)}\n",
    "\n",
    "\n",
    "    audio_files_by_lang = {}\n",
    "    # limit to MAX_NUM_FILES for each lang\n",
    "    for lang in languages:\n",
    "        audio_files_by_lang[lang] = glob(f\"{dataset_path}/{lang}/*.wav\")[:MAX_NUM_FILES]\n",
    "        print(f\"num audio files for {lang.upper()}: {len(audio_files_by_lang[lang])}\")\n",
    "\n",
    "    audio_files = [file for lang_files in audio_files_by_lang.values() for file in lang_files]\n",
    "    \n",
    "    # instantiate the progress bar\n",
    "    f = IntProgress(min=0, max=len(audio_files)) \n",
    "    display(f) # display the bar\n",
    "\n",
    "\n",
    "    X = []\n",
    "    y = []\n",
    "    for file in audio_files:\n",
    "        f.value += 1\n",
    "        lang_pos = len(dataset_path.split(\"/\"))\n",
    "        lang = file.split(\"/\")[lang_pos]\n",
    "        \n",
    "        signal, _ = librosa.load(file, sr=sample_rate)\n",
    "        # mel_sp shape (n_mels, len(signal)/hop_length)\n",
    "        mel_sp = librosa.feature.melspectrogram(y=signal, sr=sample_rate, n_mels=N_MELS, hop_length=hop_len,\n",
    "                                           win_length=win_len, power=1.0)\n",
    "        \n",
    "        # standardize along N_MELS axis\n",
    "        mel_sp_norm_vector = []\n",
    "        for i in range(mel_sp.shape[0]):\n",
    "            mel_sp_norm = StandardScaler().fit_transform(mel_sp[i, :].reshape(-1, 1)).reshape(-1)\n",
    "            mel_sp_norm_vector.append(mel_sp_norm)\n",
    "\n",
    "        features = np.vstack(mel_sp_norm_vector)\n",
    "  \n",
    "        segments = []\n",
    "        labels = []\n",
    "        for frame_start in range(0, int(features.shape[1] / FRAME_SIZE)):\n",
    "            features_cut = features[:, frame_start * FRAME_SIZE:(frame_start + 1) * FRAME_SIZE]\n",
    "            # features_cut shape (num_mfcc, frame_size)\n",
    "            # print(\"features_cut.shape\", features_cut.shape)\n",
    "            segments.append(features_cut)\n",
    "            # print(\"segments len per file\")\n",
    "            labels.append(lang_mapping[lang])\n",
    "        X_per_lang = np.vstack(segments)\n",
    "        y_per_lang = np.vstack(labels)\n",
    "        X.append(X_per_lang)\n",
    "        y.append(y_per_lang)\n",
    " \n",
    "    X = np.vstack(X)\n",
    "    y = np.vstack(y)\n",
    "\n",
    "    X = X.reshape(y.shape[0], -1, X.shape[1])\n",
    "    print(X.shape, y.shape)\n",
    "    return X, y "
   ]
  },
  {
   "cell_type": "markdown",
   "id": "84215a8c",
   "metadata": {},
   "source": [
    "# 2. MFCC"
   ]
  },
  {
   "cell_type": "code",
   "execution_count": 19,
   "id": "a146a04a",
   "metadata": {},
   "outputs": [
    {
     "data": {
      "text/plain": [
       "(551, 220)"
      ]
     },
     "execution_count": 19,
     "metadata": {},
     "output_type": "execute_result"
    }
   ],
   "source": [
    "SAMPLE_RATE = 22050\n",
    "N_MELS = 64\n",
    "OVERLAP_MS = 10\n",
    "WIN_LENGTH_MS = 25\n",
    "HOP_LENGTH = int(SAMPLE_RATE * 0.001 * OVERLAP_MS)  # [10 ms overlap]\n",
    "WIN_LENGTH = int(SAMPLE_RATE * 0.001 * WIN_LENGTH_MS)  # [25 ms window length]\n",
    "# N_FFT = int(SAMPLE_RATE * 0.001 * WIN_LENGTH)  # [25 ms window length]\n",
    "FRAME_SIZE = 75  # 30 / 50 / 70 / 100 / 150 / 200 / 300 / 500 [Size of feature segment]\n",
    "\n",
    "WIN_LENGTH,HOP_LENGTH"
   ]
  },
  {
   "cell_type": "code",
   "execution_count": 20,
   "id": "a6f06233",
   "metadata": {},
   "outputs": [],
   "source": [
    "# DATASET_PATH = \"./data/\"\n",
    "# MAX_NUM_FILES = 45 if dataset_path == \"./data/original\" else 200\n",
    "# X, y = extract_features_mfcc_by_frame_size(DATASET_PATH, MAX_NUM_FILES=MAX_NUM_FILES)\n",
    "# X, y = extract_melspectogram_by_frame_size(DATASET_PATH, WIN_LENGTH, HOP_LENGTH, MAX_NUM_FILES=MAX_NUM_FILES, FRAME_SIZE=FRAME_SIZE)\n",
    "\n",
    "# save the features\n",
    "# np.save(f\"./data/X_{FRAME_SIZE}.npy\", X)\n",
    "# np.save(f\"./data/y_{FRAME_SIZE}.npy\", y)\n",
    "\n",
    "# load the features\n",
    "X = np.load(f\"./X_{FRAME_SIZE}.npy\")\n",
    "y = np.load(f\"./y_{FRAME_SIZE}.npy\")\n"
   ]
  },
  {
   "cell_type": "code",
   "execution_count": 21,
   "id": "9bee9e5d",
   "metadata": {},
   "outputs": [
    {
     "data": {
      "text/plain": [
       "((31541, 64, 75), (31541, 1))"
      ]
     },
     "execution_count": 21,
     "metadata": {},
     "output_type": "execute_result"
    }
   ],
   "source": [
    "X.shape, y.shape"
   ]
  },
  {
   "cell_type": "code",
   "execution_count": 22,
   "id": "69a61450",
   "metadata": {},
   "outputs": [],
   "source": [
    "# data = {\"x\": X.tolist(), \"y\": y.tolist(), \"x_shape\": X.shape, \"y_shape\": y.shape}\n",
    "# JSON_PATH = \"./data/mfcc_segmentedafter_oldlang.json\"\n",
    "\n",
    "# with open(JSON_PATH, \"w\") as fp:\n",
    "#     json.dump(data, fp, indent=4)"
   ]
  },
  {
   "cell_type": "markdown",
   "id": "e8af74b0",
   "metadata": {},
   "source": [
    "## Splitting into Train, Validation, Test"
   ]
  },
  {
   "cell_type": "code",
   "execution_count": 23,
   "id": "7b2f5805",
   "metadata": {},
   "outputs": [],
   "source": [
    "def prepare_datasets(X, y, test_size, validation_size):\n",
    "    \"\"\"\n",
    "    Loads data and splits it into train, validation and test sets\n",
    "    \"\"\"\n",
    "\n",
    "    # create train, validation and test split\n",
    "    X_train, X_test, y_train, y_test = train_test_split(X, y, test_size=test_size, random_state=1234)\n",
    "    X_train, X_validation, y_train, y_validation = train_test_split(X_train, y_train, test_size=validation_size, random_state=1234)\n",
    "\n",
    "    # add an axis to input sets (aka channel for image)\n",
    "    X_train = X_train[..., np.newaxis]\n",
    "    X_validation = X_validation[..., np.newaxis]\n",
    "    X_test = X_test[..., np.newaxis]\n",
    "\n",
    "    return X_train, X_validation, X_test, y_train, y_validation, y_test"
   ]
  },
  {
   "cell_type": "code",
   "execution_count": 24,
   "id": "4b0c3880",
   "metadata": {},
   "outputs": [],
   "source": [
    "X_train, X_val, X_test, y_train, y_val, y_test = prepare_datasets(X, y, 0.25, 0.2)"
   ]
  },
  {
   "cell_type": "code",
   "execution_count": 25,
   "id": "10043bd5",
   "metadata": {},
   "outputs": [
    {
     "data": {
      "text/plain": [
       "((18924, 64, 75, 1), (4731, 64, 75, 1), (7886, 64, 75, 1))"
      ]
     },
     "execution_count": 25,
     "metadata": {},
     "output_type": "execute_result"
    }
   ],
   "source": [
    "# shape (`batch_size`, `height`, `width`, `channels`)\n",
    "X_train.shape, X_val.shape, X_test.shape"
   ]
  },
  {
   "cell_type": "markdown",
   "id": "09c23b9b",
   "metadata": {},
   "source": [
    "# CNN"
   ]
  },
  {
   "cell_type": "code",
   "execution_count": 26,
   "id": "204644ab",
   "metadata": {},
   "outputs": [],
   "source": [
    "def plot_history(history):\n",
    "    \"\"\"\n",
    "    Plots accuracy/loss for training/validation set as a function of the epochs\n",
    "    \"\"\"\n",
    "\n",
    "    fig, ax = plt.subplots(figsize=(12,6), ncols=2)\n",
    "\n",
    "    # accuracy sublpot\n",
    "    ax[0].plot(history.history[\"accuracy\"], label=\"train accuracy\")\n",
    "    ax[0].plot(history.history[\"val_accuracy\"], label=\"val accuracy\")\n",
    "    ax[0].set_ylabel(\"Accuracy\")\n",
    "    ax[1].set_xlabel(\"Epoch\")\n",
    "    ax[0].set_ylim([0,1])\n",
    "    ax[0].set_title(\"Accuracy\")\n",
    "\n",
    "    # loss sublpot\n",
    "    ax[1].plot(history.history[\"loss\"], label=\"train error\")\n",
    "    ax[1].plot(history.history[\"val_loss\"], label=\"val error\")\n",
    "    ax[1].set_ylabel(\"Error\")\n",
    "    ax[1].set_xlabel(\"Epoch\")\n",
    "    ax[1].set_title(\"Loss\")\n",
    "    plt.legend()\n",
    "\n",
    "    plt.show()"
   ]
  },
  {
   "cell_type": "code",
   "execution_count": 27,
   "id": "cd713316",
   "metadata": {},
   "outputs": [],
   "source": [
    "def plot_confusion_matrix(model, X_test, languages):\n",
    "    \"\"\"\n",
    "    Plots confusion matrix for model prediction on test \n",
    "    \"\"\"\n",
    "\n",
    "    y_pred = model.predict(X_test)\n",
    "\n",
    "    y_pred = np.argmax(y_pred, axis=1)\n",
    "\n",
    "    y_true = y_test\n",
    "\n",
    "    confusion_mtx = tf.math.confusion_matrix(y_true, y_pred)\n",
    "\n",
    "    plt.figure(figsize=(10, 8))\n",
    "    sns.heatmap(confusion_mtx,\n",
    "                xticklabels=languages,\n",
    "                yticklabels=languages,\n",
    "                annot=True, fmt='g')\n",
    "    plt.xlabel('Prediction')\n",
    "    plt.ylabel('Label')\n",
    "    plt.show()"
   ]
  },
  {
   "cell_type": "code",
   "execution_count": 28,
   "id": "6ff7e5ab",
   "metadata": {},
   "outputs": [
    {
     "data": {
      "text/plain": [
       "(64, 75, 1)"
      ]
     },
     "execution_count": 28,
     "metadata": {},
     "output_type": "execute_result"
    }
   ],
   "source": [
    "input_shape = X_train.shape[1:]\n",
    "input_shape"
   ]
  },
  {
   "cell_type": "code",
   "execution_count": 29,
   "id": "128aaa85",
   "metadata": {},
   "outputs": [],
   "source": [
    "NUM_LABELS = 4\n",
    "\n",
    "tf.keras.backend.clear_session()\n",
    "model = Sequential()\n",
    "\n",
    "# 1st conv layer\n",
    "model.add(Conv2D(32, (3, 3), activation='relu', input_shape=input_shape, kernel_regularizer=regularizers.L1L2(l1=1e-6, l2=1e-6)))\n",
    "model.add(BatchNormalization())\n",
    "model.add(MaxPooling2D((3, 3), strides=(2, 2), padding='same'))\n",
    "# model.add(MaxPooling2D())\n",
    "\n",
    "# 2nd conv layer\n",
    "model.add(Conv2D(64, (3, 3), activation='relu'))\n",
    "model.add(BatchNormalization())\n",
    "model.add(MaxPooling2D((3, 3), strides=(2, 2), padding='same'))\n",
    "# model.add(MaxPooling2D())\n",
    "model.add(Dropout(0.1))\n",
    "\n",
    "# flatten output and feed it into dense layer\n",
    "model.add(Flatten())\n",
    "model.add(Dense(128, activation='relu'))\n",
    "model.add(Dropout(0.1))\n",
    "\n",
    "# output layer\n",
    "model.add(Dense(NUM_LABELS, activation='softmax'))"
   ]
  },
  {
   "cell_type": "code",
   "execution_count": 30,
   "id": "16d8a755",
   "metadata": {},
   "outputs": [
    {
     "name": "stdout",
     "output_type": "stream",
     "text": [
      "Model: \"sequential\"\n",
      "_________________________________________________________________\n",
      "Layer (type)                 Output Shape              Param #   \n",
      "=================================================================\n",
      "conv2d (Conv2D)              (None, 62, 73, 32)        320       \n",
      "_________________________________________________________________\n",
      "batch_normalization (BatchNo (None, 62, 73, 32)        128       \n",
      "_________________________________________________________________\n",
      "max_pooling2d (MaxPooling2D) (None, 31, 37, 32)        0         \n",
      "_________________________________________________________________\n",
      "conv2d_1 (Conv2D)            (None, 29, 35, 64)        18496     \n",
      "_________________________________________________________________\n",
      "batch_normalization_1 (Batch (None, 29, 35, 64)        256       \n",
      "_________________________________________________________________\n",
      "max_pooling2d_1 (MaxPooling2 (None, 15, 18, 64)        0         \n",
      "_________________________________________________________________\n",
      "dropout (Dropout)            (None, 15, 18, 64)        0         \n",
      "_________________________________________________________________\n",
      "flatten (Flatten)            (None, 17280)             0         \n",
      "_________________________________________________________________\n",
      "dense (Dense)                (None, 128)               2211968   \n",
      "_________________________________________________________________\n",
      "dropout_1 (Dropout)          (None, 128)               0         \n",
      "_________________________________________________________________\n",
      "dense_1 (Dense)              (None, 4)                 516       \n",
      "=================================================================\n",
      "Total params: 2,231,684\n",
      "Trainable params: 2,231,492\n",
      "Non-trainable params: 192\n",
      "_________________________________________________________________\n"
     ]
    }
   ],
   "source": [
    "# https://www.tensorflow.org/api_docs/python/tf/keras/optimizers/Adam\n",
    "# default values: lr=0.001 beta_1=0.9 beta_2=0.999 as in paper\n",
    "optimiser = Adam()\n",
    "model.compile(optimizer=optimiser,\n",
    "                  loss='sparse_categorical_crossentropy',\n",
    "                  metrics=['accuracy'])\n",
    "\n",
    "model.summary()"
   ]
  },
  {
   "cell_type": "markdown",
   "id": "30f339c3",
   "metadata": {},
   "source": [
    "From paper: \n",
    "\n",
    "\"The training stopped when the change in accuracy was at least 0.5% for an interval of 20 epochs or when 300 epochs were reached among five accents, and 170 epochs in other cases.\""
   ]
  },
  {
   "cell_type": "code",
   "execution_count": 31,
   "id": "f7671159",
   "metadata": {},
   "outputs": [
    {
     "name": "stdout",
     "output_type": "stream",
     "text": [
      "Epoch 1/120\n"
     ]
    },
    {
     "name": "stderr",
     "output_type": "stream",
     "text": [
      "2022-12-12 21:19:53.225775: I tensorflow/compiler/mlir/mlir_graph_optimization_pass.cc:185] None of the MLIR Optimization Passes are enabled (registered 2)\n",
      "2022-12-12 21:19:53.229582: W tensorflow/core/platform/profile_utils/cpu_utils.cc:128] Failed to get CPU frequency: 0 Hz\n"
     ]
    },
    {
     "name": "stdout",
     "output_type": "stream",
     "text": [
      "296/296 [==============================] - 22s 72ms/step - loss: 1.5669 - accuracy: 0.2944 - val_loss: 10.2014 - val_accuracy: 0.2640\n",
      "Epoch 2/120\n",
      "296/296 [==============================] - 22s 73ms/step - loss: 1.3469 - accuracy: 0.3083 - val_loss: 1.5651 - val_accuracy: 0.3048\n",
      "Epoch 3/120\n",
      "296/296 [==============================] - 21s 70ms/step - loss: 1.3197 - accuracy: 0.3249 - val_loss: 1.3342 - val_accuracy: 0.3295\n",
      "Epoch 4/120\n",
      "296/296 [==============================] - 20s 69ms/step - loss: 1.3061 - accuracy: 0.3443 - val_loss: 1.3054 - val_accuracy: 0.3585\n",
      "Epoch 5/120\n",
      "296/296 [==============================] - 21s 69ms/step - loss: 1.2752 - accuracy: 0.3769 - val_loss: 1.2602 - val_accuracy: 0.3803\n",
      "Epoch 6/120\n",
      "296/296 [==============================] - 21s 72ms/step - loss: 1.2350 - accuracy: 0.4043 - val_loss: 1.2427 - val_accuracy: 0.4060\n",
      "Epoch 7/120\n",
      "296/296 [==============================] - 22s 74ms/step - loss: 1.1586 - accuracy: 0.4463 - val_loss: 1.2163 - val_accuracy: 0.4665\n",
      "Epoch 8/120\n",
      "296/296 [==============================] - 23s 76ms/step - loss: 1.0937 - accuracy: 0.5113 - val_loss: 1.1961 - val_accuracy: 0.4779\n",
      "Epoch 9/120\n",
      "296/296 [==============================] - 21s 71ms/step - loss: 1.0133 - accuracy: 0.5528 - val_loss: 1.1132 - val_accuracy: 0.5350\n",
      "Epoch 10/120\n",
      "296/296 [==============================] - 21s 70ms/step - loss: 0.9415 - accuracy: 0.5926 - val_loss: 1.0085 - val_accuracy: 0.5582\n",
      "Epoch 11/120\n",
      "296/296 [==============================] - 23s 76ms/step - loss: 0.8724 - accuracy: 0.6253 - val_loss: 1.0084 - val_accuracy: 0.5897\n",
      "Epoch 12/120\n",
      "296/296 [==============================] - 21s 72ms/step - loss: 0.8054 - accuracy: 0.6613 - val_loss: 1.0866 - val_accuracy: 0.5732\n",
      "Epoch 13/120\n",
      "296/296 [==============================] - 22s 75ms/step - loss: 0.7621 - accuracy: 0.6790 - val_loss: 1.1292 - val_accuracy: 0.5405\n",
      "Epoch 14/120\n",
      "296/296 [==============================] - 21s 70ms/step - loss: 0.7055 - accuracy: 0.7077 - val_loss: 1.3792 - val_accuracy: 0.5616\n",
      "Epoch 15/120\n",
      "296/296 [==============================] - 22s 75ms/step - loss: 0.6681 - accuracy: 0.7268 - val_loss: 0.9280 - val_accuracy: 0.6375\n",
      "Epoch 16/120\n",
      "296/296 [==============================] - 23s 78ms/step - loss: 0.6323 - accuracy: 0.7410 - val_loss: 0.9266 - val_accuracy: 0.6341\n",
      "Epoch 17/120\n",
      "296/296 [==============================] - 23s 77ms/step - loss: 0.5840 - accuracy: 0.7687 - val_loss: 0.9232 - val_accuracy: 0.6610\n",
      "Epoch 18/120\n",
      "296/296 [==============================] - 23s 77ms/step - loss: 0.5580 - accuracy: 0.7773 - val_loss: 0.9794 - val_accuracy: 0.6440\n",
      "Epoch 19/120\n",
      "296/296 [==============================] - 23s 78ms/step - loss: 0.5344 - accuracy: 0.7922 - val_loss: 0.9011 - val_accuracy: 0.6760\n",
      "Epoch 20/120\n",
      "296/296 [==============================] - 21s 72ms/step - loss: 0.5042 - accuracy: 0.8055 - val_loss: 1.0313 - val_accuracy: 0.6684\n",
      "Epoch 21/120\n",
      "296/296 [==============================] - 21s 70ms/step - loss: 0.4848 - accuracy: 0.8102 - val_loss: 1.0006 - val_accuracy: 0.6652\n",
      "Epoch 22/120\n",
      "296/296 [==============================] - 20s 68ms/step - loss: 0.4562 - accuracy: 0.8265 - val_loss: 1.0400 - val_accuracy: 0.6749\n",
      "Epoch 23/120\n",
      "296/296 [==============================] - 21s 71ms/step - loss: 0.4381 - accuracy: 0.8337 - val_loss: 0.8368 - val_accuracy: 0.7108\n",
      "Epoch 24/120\n",
      "296/296 [==============================] - 21s 72ms/step - loss: 0.4275 - accuracy: 0.8402 - val_loss: 0.9518 - val_accuracy: 0.6960\n",
      "Epoch 25/120\n",
      "296/296 [==============================] - 21s 71ms/step - loss: 0.4000 - accuracy: 0.8535 - val_loss: 1.2012 - val_accuracy: 0.6572\n",
      "Epoch 26/120\n",
      "296/296 [==============================] - 21s 72ms/step - loss: 0.3915 - accuracy: 0.8581 - val_loss: 0.9392 - val_accuracy: 0.7092\n",
      "Epoch 27/120\n",
      "296/296 [==============================] - 21s 72ms/step - loss: 0.3717 - accuracy: 0.8664 - val_loss: 1.3262 - val_accuracy: 0.6550\n",
      "Epoch 28/120\n",
      "296/296 [==============================] - 21s 73ms/step - loss: 0.3590 - accuracy: 0.8721 - val_loss: 0.9451 - val_accuracy: 0.7077\n",
      "Epoch 29/120\n",
      "296/296 [==============================] - 21s 72ms/step - loss: 0.3542 - accuracy: 0.8746 - val_loss: 0.9688 - val_accuracy: 0.7146\n",
      "Epoch 30/120\n",
      "296/296 [==============================] - 20s 69ms/step - loss: 0.3282 - accuracy: 0.8863 - val_loss: 0.9553 - val_accuracy: 0.6920\n",
      "Epoch 31/120\n",
      "296/296 [==============================] - 21s 69ms/step - loss: 0.3201 - accuracy: 0.8878 - val_loss: 0.9853 - val_accuracy: 0.6960\n",
      "Epoch 32/120\n",
      "296/296 [==============================] - 21s 70ms/step - loss: 0.3259 - accuracy: 0.8882 - val_loss: 0.9734 - val_accuracy: 0.7187\n",
      "Epoch 33/120\n",
      "296/296 [==============================] - 21s 73ms/step - loss: 0.3026 - accuracy: 0.8961 - val_loss: 1.0219 - val_accuracy: 0.7168\n",
      "Epoch 34/120\n",
      "296/296 [==============================] - 21s 71ms/step - loss: 0.3011 - accuracy: 0.8979 - val_loss: 1.0311 - val_accuracy: 0.7174\n",
      "Epoch 35/120\n",
      "296/296 [==============================] - 21s 71ms/step - loss: 0.3011 - accuracy: 0.8953 - val_loss: 2.3322 - val_accuracy: 0.6060\n",
      "Epoch 36/120\n",
      "296/296 [==============================] - 21s 71ms/step - loss: 0.2913 - accuracy: 0.9025 - val_loss: 1.0403 - val_accuracy: 0.7252\n",
      "Epoch 37/120\n",
      "296/296 [==============================] - 21s 72ms/step - loss: 0.2772 - accuracy: 0.9077 - val_loss: 0.9424 - val_accuracy: 0.7379\n",
      "Epoch 38/120\n",
      "296/296 [==============================] - 21s 72ms/step - loss: 0.2636 - accuracy: 0.9130 - val_loss: 0.9421 - val_accuracy: 0.7284\n",
      "Epoch 39/120\n",
      "296/296 [==============================] - 21s 71ms/step - loss: 0.2624 - accuracy: 0.9138 - val_loss: 1.0732 - val_accuracy: 0.7343\n",
      "Epoch 40/120\n",
      "296/296 [==============================] - 21s 72ms/step - loss: 0.2491 - accuracy: 0.9180 - val_loss: 0.9682 - val_accuracy: 0.7474\n",
      "Epoch 41/120\n",
      "296/296 [==============================] - 21s 72ms/step - loss: 0.2460 - accuracy: 0.9167 - val_loss: 0.9703 - val_accuracy: 0.7394\n",
      "Epoch 42/120\n",
      "296/296 [==============================] - 21s 71ms/step - loss: 0.2343 - accuracy: 0.9226 - val_loss: 1.0207 - val_accuracy: 0.7193\n",
      "Epoch 43/120\n",
      "296/296 [==============================] - 21s 71ms/step - loss: 0.2343 - accuracy: 0.9233 - val_loss: 1.0121 - val_accuracy: 0.6927\n",
      "Epoch 44/120\n",
      "296/296 [==============================] - 21s 72ms/step - loss: 0.2149 - accuracy: 0.9290 - val_loss: 0.9114 - val_accuracy: 0.7571\n",
      "Epoch 45/120\n",
      "296/296 [==============================] - 23s 76ms/step - loss: 0.2109 - accuracy: 0.9333 - val_loss: 0.8831 - val_accuracy: 0.7624\n",
      "Epoch 46/120\n",
      "296/296 [==============================] - 21s 70ms/step - loss: 0.2153 - accuracy: 0.9310 - val_loss: 0.9479 - val_accuracy: 0.7489\n",
      "Epoch 47/120\n",
      "296/296 [==============================] - 22s 74ms/step - loss: 0.2041 - accuracy: 0.9339 - val_loss: 1.0137 - val_accuracy: 0.7607\n",
      "Epoch 48/120\n",
      "296/296 [==============================] - 21s 70ms/step - loss: 0.2028 - accuracy: 0.9343 - val_loss: 1.0964 - val_accuracy: 0.7026\n",
      "Epoch 49/120\n",
      "296/296 [==============================] - 22s 74ms/step - loss: 0.1913 - accuracy: 0.9382 - val_loss: 0.9207 - val_accuracy: 0.7662\n",
      "Epoch 50/120\n",
      "296/296 [==============================] - 21s 71ms/step - loss: 0.1765 - accuracy: 0.9428 - val_loss: 0.9768 - val_accuracy: 0.7622\n",
      "Epoch 51/120\n",
      "296/296 [==============================] - 21s 71ms/step - loss: 0.1808 - accuracy: 0.9417 - val_loss: 1.0930 - val_accuracy: 0.7599\n",
      "Epoch 52/120\n",
      "296/296 [==============================] - 21s 71ms/step - loss: 0.1684 - accuracy: 0.9472 - val_loss: 1.1908 - val_accuracy: 0.7383\n",
      "Epoch 53/120\n",
      "296/296 [==============================] - 21s 71ms/step - loss: 0.1615 - accuracy: 0.9496 - val_loss: 1.3388 - val_accuracy: 0.7191\n",
      "Epoch 54/120\n",
      "296/296 [==============================] - 22s 74ms/step - loss: 0.1535 - accuracy: 0.9513 - val_loss: 0.9191 - val_accuracy: 0.7715\n",
      "Epoch 55/120\n",
      "296/296 [==============================] - 21s 72ms/step - loss: 0.1447 - accuracy: 0.9556 - val_loss: 0.9031 - val_accuracy: 0.7690\n",
      "Epoch 56/120\n",
      "296/296 [==============================] - 21s 71ms/step - loss: 0.1379 - accuracy: 0.9575 - val_loss: 0.8724 - val_accuracy: 0.7850\n",
      "Epoch 57/120\n",
      "296/296 [==============================] - 21s 71ms/step - loss: 0.1462 - accuracy: 0.9568 - val_loss: 0.8211 - val_accuracy: 0.7878\n",
      "Epoch 58/120\n",
      "296/296 [==============================] - 21s 71ms/step - loss: 0.1364 - accuracy: 0.9576 - val_loss: 0.8882 - val_accuracy: 0.7852\n",
      "Epoch 59/120\n",
      "296/296 [==============================] - 21s 71ms/step - loss: 0.1312 - accuracy: 0.9601 - val_loss: 1.1290 - val_accuracy: 0.7643\n",
      "Epoch 60/120\n",
      "296/296 [==============================] - 21s 71ms/step - loss: 0.1315 - accuracy: 0.9591 - val_loss: 0.8275 - val_accuracy: 0.7990\n",
      "Epoch 61/120\n",
      "296/296 [==============================] - 22s 73ms/step - loss: 0.1219 - accuracy: 0.9629 - val_loss: 0.8277 - val_accuracy: 0.7992\n",
      "Epoch 62/120\n",
      "296/296 [==============================] - 22s 74ms/step - loss: 0.1155 - accuracy: 0.9662 - val_loss: 0.7854 - val_accuracy: 0.7878\n",
      "Epoch 63/120\n",
      "296/296 [==============================] - 21s 71ms/step - loss: 0.1182 - accuracy: 0.9644 - val_loss: 1.1904 - val_accuracy: 0.7671\n",
      "Epoch 64/120\n",
      "296/296 [==============================] - 22s 74ms/step - loss: 0.1356 - accuracy: 0.9597 - val_loss: 0.9733 - val_accuracy: 0.7673\n",
      "Epoch 65/120\n",
      "296/296 [==============================] - 21s 72ms/step - loss: 0.1294 - accuracy: 0.9612 - val_loss: 0.8354 - val_accuracy: 0.7958\n",
      "Epoch 66/120\n",
      "296/296 [==============================] - 21s 71ms/step - loss: 0.1035 - accuracy: 0.9683 - val_loss: 0.8432 - val_accuracy: 0.7753\n",
      "Epoch 67/120\n",
      "296/296 [==============================] - 21s 71ms/step - loss: 0.1123 - accuracy: 0.9657 - val_loss: 1.0093 - val_accuracy: 0.7848\n",
      "Epoch 68/120\n",
      "296/296 [==============================] - 21s 72ms/step - loss: 0.1071 - accuracy: 0.9669 - val_loss: 0.9170 - val_accuracy: 0.7958\n",
      "Epoch 69/120\n",
      "296/296 [==============================] - 22s 75ms/step - loss: 0.1151 - accuracy: 0.9638 - val_loss: 0.8298 - val_accuracy: 0.8066\n",
      "Epoch 70/120\n",
      "296/296 [==============================] - 21s 72ms/step - loss: 0.1026 - accuracy: 0.9687 - val_loss: 0.9999 - val_accuracy: 0.7926\n",
      "Epoch 71/120\n",
      "296/296 [==============================] - 21s 72ms/step - loss: 0.1215 - accuracy: 0.9628 - val_loss: 0.9533 - val_accuracy: 0.7688\n",
      "Epoch 72/120\n",
      "296/296 [==============================] - 22s 73ms/step - loss: 0.1109 - accuracy: 0.9673 - val_loss: 0.9120 - val_accuracy: 0.7979\n",
      "Epoch 73/120\n",
      "296/296 [==============================] - 21s 71ms/step - loss: 0.1016 - accuracy: 0.9700 - val_loss: 0.7500 - val_accuracy: 0.8119\n",
      "Epoch 74/120\n",
      "296/296 [==============================] - 21s 71ms/step - loss: 0.0986 - accuracy: 0.9713 - val_loss: 1.1438 - val_accuracy: 0.7861\n",
      "Epoch 75/120\n",
      "296/296 [==============================] - 21s 72ms/step - loss: 0.0946 - accuracy: 0.9714 - val_loss: 1.0659 - val_accuracy: 0.7588\n",
      "Epoch 76/120\n",
      "296/296 [==============================] - 21s 73ms/step - loss: 0.0941 - accuracy: 0.9728 - val_loss: 0.8074 - val_accuracy: 0.8077\n",
      "Epoch 77/120\n",
      "296/296 [==============================] - 21s 71ms/step - loss: 0.0926 - accuracy: 0.9726 - val_loss: 0.8464 - val_accuracy: 0.8157\n",
      "Epoch 78/120\n",
      "296/296 [==============================] - 21s 70ms/step - loss: 0.0920 - accuracy: 0.9723 - val_loss: 1.0652 - val_accuracy: 0.8038\n",
      "Epoch 79/120\n",
      "296/296 [==============================] - 21s 70ms/step - loss: 0.0927 - accuracy: 0.9720 - val_loss: 0.9737 - val_accuracy: 0.7806\n",
      "Epoch 80/120\n",
      "296/296 [==============================] - 20s 69ms/step - loss: 0.0797 - accuracy: 0.9770 - val_loss: 0.7986 - val_accuracy: 0.8186\n",
      "Epoch 81/120\n",
      "296/296 [==============================] - 20s 69ms/step - loss: 0.0885 - accuracy: 0.9734 - val_loss: 1.1444 - val_accuracy: 0.7603\n",
      "Epoch 82/120\n",
      "296/296 [==============================] - 21s 71ms/step - loss: 0.0848 - accuracy: 0.9744 - val_loss: 0.8041 - val_accuracy: 0.8091\n",
      "Epoch 83/120\n",
      "296/296 [==============================] - 22s 74ms/step - loss: 0.0973 - accuracy: 0.9718 - val_loss: 0.9031 - val_accuracy: 0.7694\n",
      "Epoch 84/120\n",
      "296/296 [==============================] - 21s 72ms/step - loss: 0.0791 - accuracy: 0.9761 - val_loss: 0.9648 - val_accuracy: 0.7859\n",
      "Epoch 85/120\n",
      "296/296 [==============================] - 21s 71ms/step - loss: 0.0768 - accuracy: 0.9774 - val_loss: 1.0567 - val_accuracy: 0.7903\n",
      "Epoch 86/120\n",
      "296/296 [==============================] - 24s 80ms/step - loss: 0.0746 - accuracy: 0.9780 - val_loss: 0.8473 - val_accuracy: 0.8062\n",
      "Epoch 87/120\n",
      "296/296 [==============================] - 22s 75ms/step - loss: 0.0819 - accuracy: 0.9761 - val_loss: 1.1104 - val_accuracy: 0.7825\n",
      "Epoch 88/120\n",
      "296/296 [==============================] - 22s 74ms/step - loss: 0.0811 - accuracy: 0.9760 - val_loss: 0.9306 - val_accuracy: 0.7852\n",
      "Epoch 89/120\n",
      "296/296 [==============================] - 21s 71ms/step - loss: 0.1029 - accuracy: 0.9715 - val_loss: 1.7349 - val_accuracy: 0.7514\n",
      "Epoch 90/120\n",
      "296/296 [==============================] - 22s 75ms/step - loss: 0.0674 - accuracy: 0.9790 - val_loss: 0.8219 - val_accuracy: 0.8102\n",
      "Epoch 91/120\n",
      "296/296 [==============================] - 21s 73ms/step - loss: 0.0759 - accuracy: 0.9784 - val_loss: 0.8478 - val_accuracy: 0.8131\n",
      "Epoch 92/120\n",
      "296/296 [==============================] - 21s 72ms/step - loss: 0.0757 - accuracy: 0.9784 - val_loss: 0.9314 - val_accuracy: 0.7979\n",
      "Epoch 93/120\n",
      "296/296 [==============================] - 22s 73ms/step - loss: 0.0749 - accuracy: 0.9788 - val_loss: 0.7432 - val_accuracy: 0.8370\n",
      "Epoch 94/120\n",
      "296/296 [==============================] - 20s 68ms/step - loss: 0.0682 - accuracy: 0.9797 - val_loss: 0.9709 - val_accuracy: 0.7493\n",
      "Epoch 95/120\n",
      "296/296 [==============================] - 20s 68ms/step - loss: 0.0834 - accuracy: 0.9752 - val_loss: 1.0609 - val_accuracy: 0.7899\n",
      "Epoch 96/120\n",
      "296/296 [==============================] - 21s 70ms/step - loss: 0.0883 - accuracy: 0.9767 - val_loss: 0.9119 - val_accuracy: 0.8017\n",
      "Epoch 97/120\n",
      "296/296 [==============================] - 22s 73ms/step - loss: 0.0683 - accuracy: 0.9801 - val_loss: 0.9325 - val_accuracy: 0.7973\n",
      "Epoch 98/120\n",
      "296/296 [==============================] - 22s 73ms/step - loss: 0.0652 - accuracy: 0.9796 - val_loss: 0.8213 - val_accuracy: 0.8034\n",
      "Epoch 99/120\n",
      "296/296 [==============================] - 21s 72ms/step - loss: 0.0651 - accuracy: 0.9815 - val_loss: 0.8230 - val_accuracy: 0.8121\n",
      "Epoch 100/120\n",
      "296/296 [==============================] - 21s 73ms/step - loss: 0.0614 - accuracy: 0.9816 - val_loss: 0.7861 - val_accuracy: 0.8328\n",
      "Epoch 101/120\n",
      "296/296 [==============================] - 22s 73ms/step - loss: 0.0661 - accuracy: 0.9815 - val_loss: 1.4135 - val_accuracy: 0.7772\n",
      "Epoch 102/120\n",
      "296/296 [==============================] - 22s 75ms/step - loss: 0.0742 - accuracy: 0.9800 - val_loss: 0.8223 - val_accuracy: 0.8248\n",
      "Epoch 103/120\n",
      "296/296 [==============================] - 20s 68ms/step - loss: 0.0620 - accuracy: 0.9820 - val_loss: 0.9614 - val_accuracy: 0.8129\n",
      "Epoch 104/120\n",
      "296/296 [==============================] - 20s 68ms/step - loss: 0.0551 - accuracy: 0.9839 - val_loss: 1.1773 - val_accuracy: 0.8055\n",
      "Epoch 105/120\n",
      "296/296 [==============================] - 20s 68ms/step - loss: 0.0712 - accuracy: 0.9809 - val_loss: 0.8862 - val_accuracy: 0.7878\n",
      "Epoch 106/120\n",
      "296/296 [==============================] - 20s 68ms/step - loss: 0.0655 - accuracy: 0.9803 - val_loss: 1.1190 - val_accuracy: 0.7893\n",
      "Epoch 107/120\n",
      "296/296 [==============================] - 20s 68ms/step - loss: 0.0554 - accuracy: 0.9837 - val_loss: 0.8906 - val_accuracy: 0.8142\n",
      "Epoch 108/120\n",
      "296/296 [==============================] - 20s 69ms/step - loss: 0.0568 - accuracy: 0.9830 - val_loss: 0.8871 - val_accuracy: 0.7994\n",
      "Epoch 109/120\n",
      "296/296 [==============================] - 22s 75ms/step - loss: 0.0638 - accuracy: 0.9815 - val_loss: 0.8851 - val_accuracy: 0.7907\n",
      "Epoch 110/120\n",
      "296/296 [==============================] - 22s 73ms/step - loss: 0.0633 - accuracy: 0.9816 - val_loss: 0.8589 - val_accuracy: 0.8098\n",
      "Epoch 111/120\n",
      "296/296 [==============================] - 22s 75ms/step - loss: 0.0680 - accuracy: 0.9810 - val_loss: 0.8384 - val_accuracy: 0.8220\n",
      "Epoch 112/120\n",
      "296/296 [==============================] - 22s 76ms/step - loss: 0.0586 - accuracy: 0.9825 - val_loss: 1.8503 - val_accuracy: 0.7531\n",
      "Epoch 113/120\n",
      "296/296 [==============================] - 22s 75ms/step - loss: 0.0550 - accuracy: 0.9831 - val_loss: 0.9489 - val_accuracy: 0.7977\n",
      "Epoch 114/120\n",
      "296/296 [==============================] - 22s 75ms/step - loss: 0.0548 - accuracy: 0.9837 - val_loss: 1.2426 - val_accuracy: 0.7916\n",
      "Epoch 115/120\n",
      "296/296 [==============================] - 22s 74ms/step - loss: 0.0729 - accuracy: 0.9802 - val_loss: 1.4189 - val_accuracy: 0.7432\n",
      "Epoch 116/120\n",
      "296/296 [==============================] - 21s 71ms/step - loss: 0.0661 - accuracy: 0.9802 - val_loss: 0.8604 - val_accuracy: 0.8049\n",
      "Epoch 117/120\n",
      "296/296 [==============================] - 21s 71ms/step - loss: 0.0568 - accuracy: 0.9826 - val_loss: 0.8135 - val_accuracy: 0.8248\n",
      "Epoch 118/120\n",
      "296/296 [==============================] - 21s 71ms/step - loss: 0.0526 - accuracy: 0.9847 - val_loss: 0.8420 - val_accuracy: 0.8134\n",
      "Epoch 119/120\n",
      "296/296 [==============================] - 21s 71ms/step - loss: 0.0533 - accuracy: 0.9850 - val_loss: 0.8582 - val_accuracy: 0.8184\n",
      "Epoch 120/120\n",
      "296/296 [==============================] - 22s 74ms/step - loss: 0.0559 - accuracy: 0.9845 - val_loss: 0.9755 - val_accuracy: 0.8328\n"
     ]
    }
   ],
   "source": [
    "# consider an improvement 1% for accuracy specified by min_delta\n",
    "# es = EarlyStopping(monitor='val_accuracy', mode='auto', min_delta=1, patience=20, restore_best_weights=True, verbose=1)\n",
    "\n",
    "NUM_EPOCHS = 120\n",
    "# history = model.fit(X_train, y_train, validation_data=(X_val, y_val), batch_size=64, epochs=NUM_EPOCHS, callbacks=[es])\n",
    "history = model.fit(X_train, y_train, validation_data=(X_val, y_val), batch_size=64, epochs=NUM_EPOCHS)\n"
   ]
  },
  {
   "cell_type": "code",
   "execution_count": 36,
   "id": "3af63741",
   "metadata": {},
   "outputs": [
    {
     "data": {
      "image/png": "[encoded data removed]",
      "text/plain": [
       "<Figure size 1200x600 with 2 Axes>"
      ]
     },
     "metadata": {},
     "output_type": "display_data"
    }
   ],
   "source": [
    "plot_history(history)"
   ]
  },
  {
   "cell_type": "markdown",
   "id": "c4556ec3",
   "metadata": {},
   "source": [
    "## Evaluation"
   ]
  },
  {
   "cell_type": "code",
   "execution_count": 37,
   "id": "9f5876b7",
   "metadata": {},
   "outputs": [
    {
     "name": "stdout",
     "output_type": "stream",
     "text": [
      "247/247 - 2s - loss: 0.9261 - accuracy: 0.8430\n"
     ]
    }
   ],
   "source": [
    "test_loss, test_acc = model.evaluate(X_test, y_test, verbose=2)"
   ]
  },
  {
   "cell_type": "code",
   "execution_count": 35,
   "id": "473e0952",
   "metadata": {
    "scrolled": true
   },
   "outputs": [
    {
     "data": {
      "image/png": "[encoded data removed]",
      "text/plain": [
       "<Figure size 1000x800 with 2 Axes>"
      ]
     },
     "metadata": {},
     "output_type": "display_data"
    }
   ],
   "source": [
    "plot_confusion_matrix(model, X_test, languages)"
   ]
  }
 ],
 "metadata": {
  "kernelspec": {
   "display_name": "Python 3.8.15 ('tsf')",
   "language": "python",
   "name": "python3"
  },
  "language_info": {
   "codemirror_mode": {
    "name": "ipython",
    "version": 3
   },
   "file_extension": ".py",
   "mimetype": "text/x-python",
   "name": "python",
   "nbconvert_exporter": "python",
   "pygments_lexer": "ipython3",
   "version": "3.8.15"
  },
  "vscode": {
   "interpreter": {
    "hash": "b87f438e7ed0b8acd7e317a5fbe9172efe02f22722d75d09bce88b47e1e03864"
   }
  }
 },
 "nbformat": 4,
 "nbformat_minor": 5
}
