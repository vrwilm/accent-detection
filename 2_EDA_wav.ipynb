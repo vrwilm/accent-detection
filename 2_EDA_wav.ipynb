{
 "cells": [
  {
   "cell_type": "code",
   "execution_count": 1,
   "id": "e5b86d53",
   "metadata": {},
   "outputs": [],
   "source": [
    "import os\n",
    "from matplotlib import pyplot as plt\n",
    "import tensorflow as tf \n",
    "import tensorflow_io as tfio\n",
    "import numpy as np\n",
    "import pandas as pd\n",
    "import seaborn as sns"
   ]
  },
  {
   "cell_type": "markdown",
   "id": "930fd6d2",
   "metadata": {},
   "source": [
    "# Tutorials for this code\n",
    "\n",
    "Build a Deep Audio Classifier with Python and Tensorflow<br>\n",
    "https://www.youtube.com/watch?v=ZLIPkmmDJAc<br>\n",
    "https://github.com/nicknochnack/DeepAudioClassification/blob/main/AudioClassification.ipynb<br>\n",
    "https://www.kaggle.com/datasets/kenjee/z-by-hp-unlocked-challenge-3-signal-processing<br>\n",
    "\n",
    "Simple audio recognition: Recognizing keywords<br>\n",
    "https://www.tensorflow.org/tutorials/audio/simple_audio"
   ]
  },
  {
   "cell_type": "code",
   "execution_count": 2,
   "id": "dcd6f441",
   "metadata": {},
   "outputs": [],
   "source": [
    "#define paths to files\n",
    "RUSSIAN_FILE = os.path.join('data', 'wav', 'russian', 'russian1_male_nizhni_novgorod_russia.wav')\n",
    "ENGLISH_FILE = os.path.join('data', 'wav', 'english', 'english1_male_pittsburgh_pennsylvania_usa.wav')"
   ]
  },
  {
   "cell_type": "code",
   "execution_count": 3,
   "id": "b52ea0b7",
   "metadata": {},
   "outputs": [],
   "source": [
    "def load_wav_16k_mono(filename):\n",
    "    # Load encoded wav file\n",
    "    file_contents = tf.io.read_file(filename)\n",
    "    # Decode wav (tensors by channels) \n",
    "    wav, sample_rate = tf.audio.decode_wav(file_contents, desired_channels=1)\n",
    "    # Removes trailing axis\n",
    "    wav = tf.squeeze(wav, axis=-1)\n",
    "    sample_rate = tf.cast(sample_rate, dtype=tf.int64)\n",
    "    # Goes from 44100Hz to 16000hz - amplitude of the audio signal\n",
    "    wav = tfio.audio.resample(wav, rate_in=sample_rate, rate_out=16000)\n",
    "    return wav"
   ]
  },
  {
   "cell_type": "markdown",
   "id": "a4fb362a",
   "metadata": {},
   "source": [
    "# Tensforflow Datasets"
   ]
  },
  {
   "cell_type": "code",
   "execution_count": 4,
   "id": "339df251",
   "metadata": {},
   "outputs": [],
   "source": [
    "RUSSIAN = os.path.join('data', 'wav', 'russian')\n",
    "ENGLISH = os.path.join('data','wav', 'english')"
   ]
  },
  {
   "cell_type": "code",
   "execution_count": 5,
   "id": "072088df",
   "metadata": {},
   "outputs": [
    {
     "name": "stderr",
     "output_type": "stream",
     "text": [
      "2022-11-23 22:15:29.099426: I tensorflow/compiler/jit/xla_cpu_device.cc:41] Not creating XLA devices, tf_xla_enable_xla_devices not set\n",
      "2022-11-23 22:15:29.100041: I tensorflow/core/platform/cpu_feature_guard.cc:142] This TensorFlow binary is optimized with oneAPI Deep Neural Network Library (oneDNN) to use the following CPU instructions in performance-critical operations:  AVX2 FMA\n",
      "To enable them in other operations, rebuild TensorFlow with the appropriate compiler flags.\n"
     ]
    }
   ],
   "source": [
    "pos = tf.data.Dataset.list_files(RUSSIAN+'/*.wav')\n",
    "neg = tf.data.Dataset.list_files(ENGLISH+'/*.wav')"
   ]
  },
  {
   "cell_type": "code",
   "execution_count": 6,
   "id": "66d46600",
   "metadata": {},
   "outputs": [],
   "source": [
    "positives = tf.data.Dataset.zip((pos, tf.data.Dataset.from_tensor_slices(tf.ones(len(pos)))))\n",
    "negatives = tf.data.Dataset.zip((neg, tf.data.Dataset.from_tensor_slices(tf.zeros(len(neg)))))"
   ]
  },
  {
   "cell_type": "code",
   "execution_count": 7,
   "id": "9d6020f1",
   "metadata": {},
   "outputs": [],
   "source": [
    "data = positives.concatenate(negatives)"
   ]
  },
  {
   "cell_type": "code",
   "execution_count": 8,
   "id": "7adfb176",
   "metadata": {},
   "outputs": [
    {
     "data": {
      "text/plain": [
       "151"
      ]
     },
     "execution_count": 8,
     "metadata": {},
     "output_type": "execute_result"
    }
   ],
   "source": [
    "len(data)"
   ]
  },
  {
   "cell_type": "code",
   "execution_count": 9,
   "id": "0fdb35f2",
   "metadata": {},
   "outputs": [],
   "source": [
    "def calculate_duration(lang):\n",
    "    lengths = []\n",
    "    for file in os.listdir(os.path.join('data', 'wav', lang)):\n",
    "        tensor_wave = load_wav_16k_mono(os.path.join('data', 'wav', lang, file))\n",
    "        lengths.append(len(tensor_wave))\n",
    "    return lengths"
   ]
  },
  {
   "cell_type": "code",
   "execution_count": 10,
   "id": "2a886839",
   "metadata": {},
   "outputs": [
    {
     "name": "stderr",
     "output_type": "stream",
     "text": [
      "2022-11-23 22:15:29.335879: I tensorflow_io/core/kernels/cpu_check.cc:128] Your CPU supports instructions that this TensorFlow IO binary was not compiled to use: AVX2 FMA\n"
     ]
    }
   ],
   "source": [
    "lengths_russian = calculate_duration('russian')\n",
    "lengths_english = calculate_duration('english')"
   ]
  },
  {
   "cell_type": "markdown",
   "id": "604d63f7",
   "metadata": {},
   "source": [
    "# Mean, Max, Min"
   ]
  },
  {
   "cell_type": "code",
   "execution_count": 11,
   "id": "c0faab61",
   "metadata": {},
   "outputs": [
    {
     "data": {
      "text/html": [
       "<div>\n",
       "<style scoped>\n",
       "    .dataframe tbody tr th:only-of-type {\n",
       "        vertical-align: middle;\n",
       "    }\n",
       "\n",
       "    .dataframe tbody tr th {\n",
       "        vertical-align: top;\n",
       "    }\n",
       "\n",
       "    .dataframe thead th {\n",
       "        text-align: right;\n",
       "    }\n",
       "</style>\n",
       "<table border=\"1\" class=\"dataframe\">\n",
       "  <thead>\n",
       "    <tr style=\"text-align: right;\">\n",
       "      <th></th>\n",
       "      <th>russian</th>\n",
       "      <th>russian_sec</th>\n",
       "    </tr>\n",
       "  </thead>\n",
       "  <tbody>\n",
       "    <tr>\n",
       "      <th>count</th>\n",
       "      <td>8.100000e+01</td>\n",
       "      <td>81.000000</td>\n",
       "    </tr>\n",
       "    <tr>\n",
       "      <th>mean</th>\n",
       "      <td>4.731715e+05</td>\n",
       "      <td>29.573221</td>\n",
       "    </tr>\n",
       "    <tr>\n",
       "      <th>std</th>\n",
       "      <td>1.419447e+05</td>\n",
       "      <td>8.871547</td>\n",
       "    </tr>\n",
       "    <tr>\n",
       "      <th>min</th>\n",
       "      <td>3.023470e+05</td>\n",
       "      <td>18.896687</td>\n",
       "    </tr>\n",
       "    <tr>\n",
       "      <th>25%</th>\n",
       "      <td>3.751540e+05</td>\n",
       "      <td>23.447125</td>\n",
       "    </tr>\n",
       "    <tr>\n",
       "      <th>50%</th>\n",
       "      <td>4.389320e+05</td>\n",
       "      <td>27.433250</td>\n",
       "    </tr>\n",
       "    <tr>\n",
       "      <th>75%</th>\n",
       "      <td>5.346930e+05</td>\n",
       "      <td>33.418312</td>\n",
       "    </tr>\n",
       "    <tr>\n",
       "      <th>max</th>\n",
       "      <td>1.058272e+06</td>\n",
       "      <td>66.142000</td>\n",
       "    </tr>\n",
       "  </tbody>\n",
       "</table>\n",
       "</div>"
      ],
      "text/plain": [
       "            russian  russian_sec\n",
       "count  8.100000e+01    81.000000\n",
       "mean   4.731715e+05    29.573221\n",
       "std    1.419447e+05     8.871547\n",
       "min    3.023470e+05    18.896687\n",
       "25%    3.751540e+05    23.447125\n",
       "50%    4.389320e+05    27.433250\n",
       "75%    5.346930e+05    33.418312\n",
       "max    1.058272e+06    66.142000"
      ]
     },
     "execution_count": 11,
     "metadata": {},
     "output_type": "execute_result"
    }
   ],
   "source": [
    "df_rus = pd.DataFrame({\"russian\": lengths_russian})\n",
    "df_rus['russian_sec'] = df_rus['russian']/16000\n",
    "df_rus.describe()"
   ]
  },
  {
   "cell_type": "code",
   "execution_count": 12,
   "id": "75cca05e",
   "metadata": {},
   "outputs": [
    {
     "data": {
      "text/html": [
       "<div>\n",
       "<style scoped>\n",
       "    .dataframe tbody tr th:only-of-type {\n",
       "        vertical-align: middle;\n",
       "    }\n",
       "\n",
       "    .dataframe tbody tr th {\n",
       "        vertical-align: top;\n",
       "    }\n",
       "\n",
       "    .dataframe thead th {\n",
       "        text-align: right;\n",
       "    }\n",
       "</style>\n",
       "<table border=\"1\" class=\"dataframe\">\n",
       "  <thead>\n",
       "    <tr style=\"text-align: right;\">\n",
       "      <th></th>\n",
       "      <th>english</th>\n",
       "      <th>english_sec</th>\n",
       "    </tr>\n",
       "  </thead>\n",
       "  <tbody>\n",
       "    <tr>\n",
       "      <th>count</th>\n",
       "      <td>70.000000</td>\n",
       "      <td>70.000000</td>\n",
       "    </tr>\n",
       "    <tr>\n",
       "      <th>mean</th>\n",
       "      <td>382154.014286</td>\n",
       "      <td>23.884626</td>\n",
       "    </tr>\n",
       "    <tr>\n",
       "      <th>std</th>\n",
       "      <td>60585.867666</td>\n",
       "      <td>3.786617</td>\n",
       "    </tr>\n",
       "    <tr>\n",
       "      <th>min</th>\n",
       "      <td>263368.000000</td>\n",
       "      <td>16.460500</td>\n",
       "    </tr>\n",
       "    <tr>\n",
       "      <th>25%</th>\n",
       "      <td>340660.500000</td>\n",
       "      <td>21.291281</td>\n",
       "    </tr>\n",
       "    <tr>\n",
       "      <th>50%</th>\n",
       "      <td>379742.000000</td>\n",
       "      <td>23.733875</td>\n",
       "    </tr>\n",
       "    <tr>\n",
       "      <th>75%</th>\n",
       "      <td>409988.250000</td>\n",
       "      <td>25.624266</td>\n",
       "    </tr>\n",
       "    <tr>\n",
       "      <th>max</th>\n",
       "      <td>575584.000000</td>\n",
       "      <td>35.974000</td>\n",
       "    </tr>\n",
       "  </tbody>\n",
       "</table>\n",
       "</div>"
      ],
      "text/plain": [
       "             english  english_sec\n",
       "count      70.000000    70.000000\n",
       "mean   382154.014286    23.884626\n",
       "std     60585.867666     3.786617\n",
       "min    263368.000000    16.460500\n",
       "25%    340660.500000    21.291281\n",
       "50%    379742.000000    23.733875\n",
       "75%    409988.250000    25.624266\n",
       "max    575584.000000    35.974000"
      ]
     },
     "execution_count": 12,
     "metadata": {},
     "output_type": "execute_result"
    }
   ],
   "source": [
    "df_eng = pd.DataFrame({\"english\": lengths_english})\n",
    "df_eng['english_sec'] = df_eng['english']/16000\n",
    "df_eng.describe()"
   ]
  },
  {
   "cell_type": "code",
   "execution_count": 13,
   "id": "982c689f",
   "metadata": {},
   "outputs": [],
   "source": [
    "# def preprocess(file_path, label): \n",
    "#     wav = load_wav_16k_mono(file_path)\n",
    "#     spectrogram = tf.signal.stft(wav, frame_length=150, frame_step=16000)\n",
    "#     spectrogram = tf.abs(spectrogram)\n",
    "#     spectrogram = tf.expand_dims(spectrogram, axis=2)\n",
    "#     return spectrogram, label"
   ]
  },
  {
   "cell_type": "code",
   "execution_count": 14,
   "id": "c413b0c9",
   "metadata": {},
   "outputs": [
    {
     "data": {
      "text/plain": [
       "1058272"
      ]
     },
     "execution_count": 14,
     "metadata": {},
     "output_type": "execute_result"
    }
   ],
   "source": [
    "max(df_rus['russian'].max(), df_eng['english'].max())"
   ]
  },
  {
   "cell_type": "code",
   "execution_count": 15,
   "id": "1906ab03",
   "metadata": {},
   "outputs": [
    {
     "name": "stdout",
     "output_type": "stream",
     "text": [
      "(67, 129)\n",
      "(67, 129, 1)\n"
     ]
    }
   ],
   "source": [
    "# EXAMPLE FOR 1 FILE\n",
    "wav = load_wav_16k_mono(RUSSIAN_FILE)\n",
    "# TODO change line below for better flexibility\n",
    "max_duration = max(df_rus['russian'].max(), df_eng['english'].max())\n",
    "# take the max duration and prepend 0s to max size to make every tensor of the same size\n",
    "zero_padding = tf.zeros([max_duration] - tf.shape(wav), dtype=tf.float32)\n",
    "wav = tf.concat([zero_padding, wav],0)\n",
    "spectrogram = tf.signal.stft(wav, frame_length=150, frame_step=16000)\n",
    "spectrogram = tf.abs(spectrogram)\n",
    "print(spectrogram.shape)\n",
    "spectrogram = tf.expand_dims(spectrogram, axis=2)\n",
    "#^adds information for channel\n",
    "# Add a `channels` dimension, so that the spectrogram can be used\n",
    "    # as image-like input data with convolution layers (which expect\n",
    "    # shape (`batch_size`, `height`, `width`, `channels`).\n",
    "print(spectrogram.shape)"
   ]
  },
  {
   "cell_type": "code",
   "execution_count": 16,
   "id": "f7c0d885",
   "metadata": {},
   "outputs": [],
   "source": [
    "# example with padding\n",
    "def preprocess_with_padding(file_path, label): \n",
    "    wav = load_wav_16k_mono(file_path)\n",
    "    # TODO change line below for better flexibility\n",
    "    max_duration = max(df_rus['russian'].max(), df_eng['english'].max())\n",
    "    # take the max duration and prepend 0s to max size to make every tensor of the same size\n",
    "    zero_padding = tf.zeros([max_duration] - tf.shape(wav), dtype=tf.float32)\n",
    "    wav = tf.concat([zero_padding, wav],0)\n",
    "    spectrogram = tf.signal.stft(wav, frame_length=150, frame_step=16000)\n",
    "    spectrogram = tf.abs(spectrogram)\n",
    "    spectrogram = tf.expand_dims(spectrogram, axis=2)\n",
    "    return spectrogram, label"
   ]
  },
  {
   "cell_type": "code",
   "execution_count": 17,
   "id": "8bac1987",
   "metadata": {},
   "outputs": [],
   "source": [
    "def show_spectogram(data):\n",
    "    filepath, label = data.shuffle(buffer_size=10000).as_numpy_iterator().next()\n",
    "    spectrogram, label = preprocess_with_padding(filepath, label)\n",
    "    plt.figure(figsize=(10,10))\n",
    "    plt.imshow(tf.transpose(spectrogram)[0])\n",
    "    plt.show()"
   ]
  },
  {
   "cell_type": "code",
   "execution_count": 18,
   "id": "3d481bd1",
   "metadata": {},
   "outputs": [
    {
     "data": {
      "image/png": "[encoded data removed]",
      "text/plain": [
       "<Figure size 720x720 with 1 Axes>"
      ]
     },
     "metadata": {
      "needs_background": "light"
     },
     "output_type": "display_data"
    }
   ],
   "source": [
    "show_spectogram(positives)"
   ]
  },
  {
   "cell_type": "code",
   "execution_count": 19,
   "id": "5e5117db",
   "metadata": {},
   "outputs": [
    {
     "data": {
      "image/png": "[encoded data removed]",
      "text/plain": [
       "<Figure size 720x720 with 1 Axes>"
      ]
     },
     "metadata": {
      "needs_background": "light"
     },
     "output_type": "display_data"
    }
   ],
   "source": [
    "show_spectogram(negatives)"
   ]
  },
  {
   "cell_type": "code",
   "execution_count": 20,
   "id": "2995a995",
   "metadata": {},
   "outputs": [],
   "source": [
    "# example with padding\n",
    "\n",
    "def preprocess_with_padding(file_path, label): \n",
    "    wav = load_wav_16k_mono(file_path)\n",
    "    # TODO change line below for better flexibility\n",
    "    max_duration = max(df_rus['russian'].max(), df_eng['english'].max())\n",
    "    # take the max duration and prepend 0s to max size to make every tensor of the same size\n",
    "    zero_padding = tf.zeros([max_duration] - tf.shape(wav), dtype=tf.float32)\n",
    "    wav = tf.concat([zero_padding, wav],0)\n",
    "    spectrogram = tf.signal.stft(wav, frame_length=150, frame_step=16000)\n",
    "    spectrogram = tf.abs(spectrogram)\n",
    "    spectrogram = tf.expand_dims(spectrogram, axis=2)\n",
    "    return spectrogram, label"
   ]
  },
  {
   "cell_type": "code",
   "execution_count": 21,
   "id": "0e0bc1a5",
   "metadata": {},
   "outputs": [],
   "source": [
    "data = positives.concatenate(negatives)\n",
    "data = data.map(preprocess_with_padding)\n",
    "data = data.cache()\n",
    "data = data.shuffle(buffer_size=1000)\n",
    "data = data.batch(16)\n",
    "data = data.prefetch(8)"
   ]
  },
  {
   "cell_type": "code",
   "execution_count": 22,
   "id": "09c2177a",
   "metadata": {},
   "outputs": [
    {
     "data": {
      "text/plain": [
       "10"
      ]
     },
     "execution_count": 22,
     "metadata": {},
     "output_type": "execute_result"
    }
   ],
   "source": [
    "len(data)"
   ]
  },
  {
   "cell_type": "code",
   "execution_count": 95,
   "id": "65db6f3a",
   "metadata": {},
   "outputs": [],
   "source": [
    "def get_dataset_partitions_tf(ds, ds_size, train_split=0.8, val_split=0.1, test_split=0.1, shuffle=True, shuffle_size=10000):\n",
    "    assert (train_split + test_split + val_split) == 1, \"split ratios must add up to 1\"\n",
    "    \n",
    "    if shuffle:\n",
    "        # Specify seed to always have the same split distribution between runs\n",
    "        ds = ds.shuffle(shuffle_size, seed=12)\n",
    "    \n",
    "    train_size = int(train_split * ds_size)\n",
    "    val_size = int(val_split * ds_size)\n",
    "    test_size = int(test_split * ds_size)\n",
    "    \n",
    "    assert (train_size + val_size + test_size == ds_size), \"split sizes must add up to data size\"\n",
    "    \n",
    "    train_ds = ds.take(train_size)    \n",
    "    val_ds = ds.skip(train_size).take(val_size)\n",
    "    test_ds = ds.skip(train_size).skip(val_size).take(test_size)\n",
    "    \n",
    "    return train_ds, val_ds, test_ds"
   ]
  },
  {
   "cell_type": "code",
   "execution_count": 96,
   "id": "44dfaf80",
   "metadata": {},
   "outputs": [],
   "source": [
    "train_ds, val_ds, test_ds = get_dataset_partitions_tf(data, len(data))"
   ]
  },
  {
   "cell_type": "code",
   "execution_count": 98,
   "id": "4a9e46fd",
   "metadata": {},
   "outputs": [],
   "source": [
    "samples,labels = train_ds.as_numpy_iterator().next()"
   ]
  },
  {
   "cell_type": "code",
   "execution_count": 99,
   "id": "08d67257",
   "metadata": {},
   "outputs": [
    {
     "data": {
      "text/plain": [
       "(16, 67, 129, 1)"
      ]
     },
     "execution_count": 99,
     "metadata": {},
     "output_type": "execute_result"
    }
   ],
   "source": [
    "samples.shape"
   ]
  },
  {
   "cell_type": "code",
   "execution_count": 100,
   "id": "eba33bb8",
   "metadata": {},
   "outputs": [
    {
     "data": {
      "text/plain": [
       "(67, 129, 1)"
      ]
     },
     "execution_count": 100,
     "metadata": {},
     "output_type": "execute_result"
    }
   ],
   "source": [
    "input_shape=samples.shape[1:]\n",
    "input_shape"
   ]
  },
  {
   "cell_type": "markdown",
   "id": "9f5c704b",
   "metadata": {},
   "source": [
    "# Modeling"
   ]
  },
  {
   "cell_type": "code",
   "execution_count": 101,
   "id": "f04624f0",
   "metadata": {},
   "outputs": [],
   "source": [
    "from tensorflow.keras.models import Sequential\n",
    "from tensorflow.keras.layers import Conv2D, Dense, Flatten"
   ]
  },
  {
   "cell_type": "code",
   "execution_count": 102,
   "id": "b2ffe656",
   "metadata": {},
   "outputs": [],
   "source": [
    "tf.keras.backend.clear_session()\n",
    "model = Sequential()\n",
    "model.add(Conv2D(16, (3,3), activation='relu', input_shape=input_shape))\n",
    "model.add(Conv2D(16, (3,3), activation='relu'))\n",
    "model.add(Flatten())\n",
    "model.add(Dense(128, activation='relu'))\n",
    "model.add(Dense(1, activation='sigmoid'))"
   ]
  },
  {
   "cell_type": "code",
   "execution_count": 103,
   "id": "a8f48484",
   "metadata": {},
   "outputs": [],
   "source": [
    "model.compile('Adam', loss='BinaryCrossentropy', metrics=[tf.keras.metrics.Recall(),tf.keras.metrics.Precision()])"
   ]
  },
  {
   "cell_type": "code",
   "execution_count": 104,
   "id": "7a865306",
   "metadata": {},
   "outputs": [
    {
     "name": "stdout",
     "output_type": "stream",
     "text": [
      "Model: \"sequential\"\n",
      "_________________________________________________________________\n",
      "Layer (type)                 Output Shape              Param #   \n",
      "=================================================================\n",
      "conv2d (Conv2D)              (None, 65, 127, 16)       160       \n",
      "_________________________________________________________________\n",
      "conv2d_1 (Conv2D)            (None, 63, 125, 16)       2320      \n",
      "_________________________________________________________________\n",
      "flatten (Flatten)            (None, 126000)            0         \n",
      "_________________________________________________________________\n",
      "dense (Dense)                (None, 128)               16128128  \n",
      "_________________________________________________________________\n",
      "dense_1 (Dense)              (None, 1)                 129       \n",
      "=================================================================\n",
      "Total params: 16,130,737\n",
      "Trainable params: 16,130,737\n",
      "Non-trainable params: 0\n",
      "_________________________________________________________________\n"
     ]
    }
   ],
   "source": [
    "model.summary()"
   ]
  },
  {
   "cell_type": "code",
   "execution_count": 105,
   "id": "bad40f22",
   "metadata": {},
   "outputs": [
    {
     "name": "stdout",
     "output_type": "stream",
     "text": [
      "Epoch 1/4\n",
      "8/8 [==============================] - 3s 211ms/step - loss: 0.9583 - recall: 0.5842 - precision: 0.6022 - val_loss: 0.4963 - val_recall: 0.7778 - val_precision: 0.8750\n",
      "Epoch 2/4\n",
      "8/8 [==============================] - 1s 148ms/step - loss: 0.5723 - recall: 0.9451 - precision: 0.6877 - val_loss: 0.4972 - val_recall: 1.0000 - val_precision: 0.7500\n",
      "Epoch 3/4\n",
      "8/8 [==============================] - 1s 156ms/step - loss: 0.4946 - recall: 0.9211 - precision: 0.7257 - val_loss: 0.4553 - val_recall: 0.4286 - val_precision: 0.7500\n",
      "Epoch 4/4\n",
      "8/8 [==============================] - 1s 145ms/step - loss: 0.3407 - recall: 0.7669 - precision: 0.9577 - val_loss: 0.3003 - val_recall: 1.0000 - val_precision: 0.7143\n"
     ]
    }
   ],
   "source": [
    "hist = model.fit(train_ds, epochs=4, validation_data=val_ds)"
   ]
  },
  {
   "cell_type": "code",
   "execution_count": 107,
   "id": "335c8657",
   "metadata": {},
   "outputs": [
    {
     "data": {
      "image/png": "[encoded data removed]",
      "text/plain": [
       "<Figure size 432x288 with 1 Axes>"
      ]
     },
     "metadata": {
      "needs_background": "light"
     },
     "output_type": "display_data"
    }
   ],
   "source": [
    "plt.title('Loss')\n",
    "plt.plot(hist.history['loss'], 'r')\n",
    "plt.plot(hist.history['val_loss'], 'b')\n",
    "plt.show()"
   ]
  },
  {
   "cell_type": "code",
   "execution_count": 108,
   "id": "df334aca",
   "metadata": {},
   "outputs": [
    {
     "data": {
      "image/png": "[encoded data removed]",
      "text/plain": [
       "<Figure size 432x288 with 1 Axes>"
      ]
     },
     "metadata": {
      "needs_background": "light"
     },
     "output_type": "display_data"
    }
   ],
   "source": [
    "plt.title('Precision')\n",
    "plt.plot(hist.history['precision'], 'r')\n",
    "plt.plot(hist.history['val_precision'], 'b')\n",
    "plt.show()"
   ]
  },
  {
   "cell_type": "code",
   "execution_count": 109,
   "id": "87c51c3c",
   "metadata": {},
   "outputs": [
    {
     "data": {
      "image/png": "[encoded data removed]",
      "text/plain": [
       "<Figure size 432x288 with 1 Axes>"
      ]
     },
     "metadata": {
      "needs_background": "light"
     },
     "output_type": "display_data"
    }
   ],
   "source": [
    "plt.title('Recall')\n",
    "plt.plot(hist.history['recall'], 'r')\n",
    "plt.plot(hist.history['val_recall'], 'b')\n",
    "plt.show()"
   ]
  },
  {
   "cell_type": "code",
   "execution_count": 110,
   "id": "cdca422f",
   "metadata": {},
   "outputs": [
    {
     "name": "stdout",
     "output_type": "stream",
     "text": [
      "1/1 [==============================] - 0s 72ms/step - loss: 0.3226 - recall: 1.0000 - precision: 0.8571\n"
     ]
    },
    {
     "data": {
      "text/plain": [
       "{'loss': 0.3225891888141632, 'recall': 1.0, 'precision': 0.8571428656578064}"
      ]
     },
     "execution_count": 110,
     "metadata": {},
     "output_type": "execute_result"
    }
   ],
   "source": [
    "model.evaluate(test_ds, return_dict=True)"
   ]
  },
  {
   "cell_type": "code",
   "execution_count": 118,
   "id": "93e6cacc",
   "metadata": {},
   "outputs": [
    {
     "data": {
      "text/plain": [
       "tensorflow.python.data.ops.dataset_ops.TakeDataset"
      ]
     },
     "execution_count": 118,
     "metadata": {},
     "output_type": "execute_result"
    }
   ],
   "source": [
    "# problem test_ds is TakeDataset object and iterable, so if running multiple times -> goes through each batch\n",
    "# if running several times, y_pred and y_true might not coinside \n",
    "# not sure how to get back the whole dataset instead of SkipDataset\n",
    "# possible solns - https://stackoverflow.com/questions/51125266/how-do-i-split-tensorflow-datasets\n",
    "type(test_ds)"
   ]
  },
  {
   "cell_type": "code",
   "execution_count": 114,
   "id": "98197552",
   "metadata": {},
   "outputs": [
    {
     "name": "stdout",
     "output_type": "stream",
     "text": [
      "[0, 1, 0, 0, 0, 0, 0, 0, 1, 0, 0, 0, 1, 0, 0, 1]\n"
     ]
    },
    {
     "data": {
      "text/plain": [
       "array([ True,  True,  True,  True,  True, False,  True,  True,  True,\n",
       "        True,  True,  True,  True,  True,  True,  True])"
      ]
     },
     "execution_count": 114,
     "metadata": {},
     "output_type": "execute_result"
    }
   ],
   "source": [
    "# on single batch\n",
    "X_test, y_test = test_ds.as_numpy_iterator().next()\n",
    "yhat = model.predict(X_test)\n",
    "yhat = [1 if prediction > 0.5 else 0 for prediction in yhat]\n",
    "print(yhat)\n",
    "yhat == y_test"
   ]
  },
  {
   "cell_type": "code",
   "execution_count": null,
   "id": "c4615d99",
   "metadata": {},
   "outputs": [],
   "source": []
  },
  {
   "cell_type": "code",
   "execution_count": 119,
   "id": "726e9b3a",
   "metadata": {},
   "outputs": [],
   "source": [
    "# y_pred = model.predict(test_ds)\n",
    "# print(y_pred)\n",
    "# y_pred = [1. if prediction > 0.5 else 0. for prediction in y_pred]"
   ]
  },
  {
   "cell_type": "code",
   "execution_count": 120,
   "id": "cdc577d8",
   "metadata": {},
   "outputs": [],
   "source": [
    "# y_true = tf.concat(list(test_ds.map(lambda s,lab: lab)), axis=0)\n",
    "# y_true "
   ]
  },
  {
   "cell_type": "code",
   "execution_count": 123,
   "id": "4150fc66",
   "metadata": {},
   "outputs": [],
   "source": [
    "# confusion_mtx = tf.math.confusion_matrix(tf.concat(list(test_ds.map(lambda s,lab: lab)), axis=0), model.predict(test_ds))\n",
    "# plt.figure(figsize=(10, 8))\n",
    "# sns.heatmap(confusion_mtx,\n",
    "# #             xticklabels=commands,\n",
    "# #             yticklabels=commands,\n",
    "#             annot=True, fmt='g')\n",
    "# plt.xlabel('Prediction')\n",
    "# plt.ylabel('Label')\n",
    "# plt.show()"
   ]
  },
  {
   "cell_type": "code",
   "execution_count": 125,
   "id": "d61f85bc",
   "metadata": {},
   "outputs": [],
   "source": [
    "# tf.data.experimental.get_single_element(test_ds)"
   ]
  },
  {
   "cell_type": "code",
   "execution_count": null,
   "id": "bb227122",
   "metadata": {},
   "outputs": [],
   "source": [
    "# y_preds = []\n",
    "# while itx, ity := test_ds.as_numpy_iterator().next():\n",
    "#     for X_test in ity:\n",
    "#         print(X_test)\n",
    "# #         y_pred = model.predict(X_test)\n",
    "# #         y_preds.extend(y_pred)"
   ]
  },
  {
   "cell_type": "code",
   "execution_count": null,
   "id": "71fc1107",
   "metadata": {},
   "outputs": [],
   "source": []
  },
  {
   "cell_type": "code",
   "execution_count": null,
   "id": "2880c20a",
   "metadata": {},
   "outputs": [],
   "source": []
  }
 ],
 "metadata": {
  "kernelspec": {
   "display_name": "Python 3 (ipykernel)",
   "language": "python",
   "name": "python3"
  },
  "language_info": {
   "codemirror_mode": {
    "name": "ipython",
    "version": 3
   },
   "file_extension": ".py",
   "mimetype": "text/x-python",
   "name": "python",
   "nbconvert_exporter": "python",
   "pygments_lexer": "ipython3",
   "version": "3.8.10"
  }
 },
 "nbformat": 4,
 "nbformat_minor": 5
}
