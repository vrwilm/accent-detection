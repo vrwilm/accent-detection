{
 "cells": [
  {
   "cell_type": "code",
   "execution_count": 1,
   "id": "0ac57962",
   "metadata": {},
   "outputs": [],
   "source": [
    "import requests\n",
    "import pandas as pd\n",
    "from bs4 import BeautifulSoup\n",
    "from pydub import AudioSegment\n",
    "from urllib.request import urlretrieve\n",
    "import os\n",
    "import random\n",
    "import time"
   ]
  },
  {
   "cell_type": "code",
   "execution_count": 2,
   "id": "13dffe95",
   "metadata": {},
   "outputs": [],
   "source": [
    "def get_languages() -> list:\n",
    "    \"\"\"\n",
    "    This function gets the list of languages from http://accent.gmu.edu/browse_language.php\n",
    "    and returns a list of languages\n",
    "    \"\"\"\n",
    "    url = \"http://accent.gmu.edu/browse_language.php\"\n",
    "    response = requests.get(url)\n",
    "    soup = BeautifulSoup(response.text, \"html.parser\")\n",
    "    main_content = soup.find(id=\"maincontent\")\n",
    "    languages = [language.text for language in main_content.find_all(\"li\")]\n",
    "    return languages"
   ]
  },
  {
   "cell_type": "code",
   "execution_count": 3,
   "id": "5b161d26",
   "metadata": {},
   "outputs": [],
   "source": [
    "def get_language_urls(language: str) -> dict:\n",
    "    \"\"\"\n",
    "    This function finds all the urls for a given language\n",
    "    \"\"\"\n",
    "    url = f\"http://accent.gmu.edu/browse_language.php?function=find&language={language}\"\n",
    "    response = requests.get(url)\n",
    "    soup = BeautifulSoup(response.text, \"html.parser\")\n",
    "    main_content = soup.find(id=\"maincontent\")\n",
    "    content = main_content.find(class_=\"content\")\n",
    "    samples = content.find_all(\"p\")\n",
    "    result = {}\n",
    "    for sample in samples:\n",
    "        result[sample.text.replace(\", \", \"_\")] = \"http://accent.gmu.edu/\" + sample.find(\"a\")[\"href\"]\n",
    "    return result"
   ]
  },
  {
   "cell_type": "code",
   "execution_count": 4,
   "id": "857c25da",
   "metadata": {},
   "outputs": [],
   "source": [
    "def get_audio(url: str, folder: str, name: str) -> None:\n",
    "    \"\"\"\n",
    "    This function downloads the audio file from a given url\n",
    "    \"\"\"\n",
    "    response = requests.get(url)\n",
    "    soup = BeautifulSoup(response.text, \"html.parser\")\n",
    "    audio_url = \"http://accent.gmu.edu\" + soup.find(\"source\").get(\"src\")\n",
    "    (audio, headers) = urlretrieve(audio_url)\n",
    "    audio = AudioSegment.from_mp3(audio)\n",
    "    if not os.path.exists(f\"data/{folder}/\"):\n",
    "        os.makedirs(f\"data/{folder}/\")\n",
    "    audio.export(f\"data/{folder}/{name}.wav\", format=\"wav\")"
   ]
  },
  {
   "cell_type": "code",
   "execution_count": 15,
   "id": "17ba22f3",
   "metadata": {},
   "outputs": [],
   "source": [
    "def download_data():\n",
    "    if not os.path.exists(\"data/\"):\n",
    "        os.makedirs(\"data/\")\n",
    "    languages = get_languages()\n",
    "    for language in languages:\n",
    "        if language in [\"english\", \"russian\", \"german\", \"mandarin\"]:\n",
    "            print(f\"Downloading {language}...\")\n",
    "            urls = get_language_urls(language)\n",
    "            for name, url in urls.items():\n",
    "                time.sleep(random.randint(1, 5))\n",
    "                get_audio(url, language, name)"
   ]
  },
  {
   "cell_type": "code",
   "execution_count": 17,
   "id": "7cf7fa1a",
   "metadata": {},
   "outputs": [],
   "source": [
    "download_data()"
   ]
  }
 ],
 "metadata": {
  "kernelspec": {
   "display_name": "Python 3 (ipykernel)",
   "language": "python",
   "name": "python3"
  },
  "language_info": {
   "codemirror_mode": {
    "name": "ipython",
    "version": 3
   },
   "file_extension": ".py",
   "mimetype": "text/x-python",
   "name": "python",
   "nbconvert_exporter": "python",
   "pygments_lexer": "ipython3",
   "version": "3.8.10"
  }
 },
 "nbformat": 4,
 "nbformat_minor": 5
}
