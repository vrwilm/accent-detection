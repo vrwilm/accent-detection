{
 "cells": [
  {
   "cell_type": "markdown",
   "id": "c984f8a5",
   "metadata": {},
   "source": [
    "![./img/sp_tiny.png](./img/sp_tiny.png)\n",
    "<h1><center>Accent Detection: <br>\n",
    "Signal Processing  + CNN</center></h1>\n",
    "<h3><center>Part 4: Signal Processing + CNN </center></h3>\n",
    "<center>Group 2: Katerina Bosko and Victor Wilm\n",
    "<center>Northeastern University, CS6140"
   ]
  },
  {
   "cell_type": "code",
   "execution_count": null,
   "id": "974602bb",
   "metadata": {},
   "outputs": [],
   "source": [
    "import os\n",
    "from glob import glob\n",
    "from ipywidgets import IntProgress\n",
    "import json\n",
    "\n",
    "from sklearn.preprocessing import StandardScaler\n",
    "from sklearn.model_selection import train_test_split\n",
    "\n",
    "from keras.callbacks import EarlyStopping\n",
    "from tensorflow.keras.models import Sequential\n",
    "from tensorflow.keras.layers import Conv2D, Dense, Flatten, MaxPooling2D, BatchNormalization, Dropout\n",
    "from tensorflow.keras.optimizers import Adam\n",
    "import tensorflow as tf\n",
    "\n",
    "import librosa\n",
    "import numpy as np\n",
    "import matplotlib.pyplot as plt\n",
    "import seaborn as sns\n",
    "\n",
    "# Set the seed value for experiment reproducibility\n",
    "seed = 36\n",
    "tf.random.set_seed(seed)\n",
    "np.random.seed(seed)"
   ]
  },
  {
   "attachments": {},
   "cell_type": "markdown",
   "id": "898bc85e",
   "metadata": {},
   "source": [
    "In this notebook, we perform CNN on spectograms produced by Signal Processing. The approach is based on the paper by Michailava et al (2022) mentioned in the references. "
   ]
  },
  {
   "cell_type": "markdown",
   "id": "8874e5ed",
   "metadata": {},
   "source": [
    "# 1. Signal Processing"
   ]
  },
  {
   "attachments": {},
   "cell_type": "markdown",
   "id": "982372c6",
   "metadata": {},
   "source": [
    "## Notes on parameters\n",
    "\n",
    "### Sample rate\n",
    "Sample rate = 22050 Hz was not changed. This is standard in librosa library.\n",
    "\n",
    "### STFT window size\n",
    "https://librosa.org/doc/latest/generated/librosa.stft.html#librosa.stft\n",
    "\n",
    "n_fft = length of the windowed signal after padding with zeros. The number of rows in the STFT matrix D is (1 + n_fft/2). **The default value, n_fft=2048 samples**, corresponds to a physical duration of 93 milliseconds at a sample rate of 22050 Hz, i.e. the default sample rate in librosa. This value is well adapted for **music signals**. However, in **speech processing, the recommended value is 512**, corresponding to 23 milliseconds at a sample rate of 22050 Hz. In any case, we recommend setting n_fft to a power of two for optimizing the speed of the fast Fourier transform (FFT) algorithm.\n",
    "\n",
    "Based on above description, n_fft=512 was chosen, which is equivalent to 512/22050=0.023 or 23 ms\n",
    "\n",
    "### Hop length\n",
    "Hop length was chosen as window_size // 2 = 512//2 = 256, which is equivalent to 256//22050=0.011 or 11 ms\n",
    "Such a hop length ensures that there is a signal overlap when extracting STFT features.\n",
    "\n",
    "### Frame size\n",
    "Frame size was chosen as 75 frames, which is rather small such that we can extract phonemes. We experimented with a larger number of frame size and it didn't result into higher than 30-40% accuracy scores.\n",
    "\n",
    "\n",
    "## Notes on processing steps\n",
    "Preprocessing steps are as follows:\n",
    "\n",
    "1. Balancing the dataset\n",
    "2. Signal Processing with the chosen method\n",
    "3. Normalization at the level of each frequency\n",
    "4. Segmentation based on the frame size\n",
    "\n",
    "We experimented with different order of processing steps. For instance, \n",
    "1. Segmentation\n",
    "2. Signal processing\n",
    "3. Normalization \n",
    "\n",
    "or:\n",
    "1. Normalization\n",
    "2. Segmentation\n",
    "3. Signal processing\n",
    "\n",
    "\n",
    "these approaches also failed (the accuracy scores were not high enough)."
   ]
  },
  {
   "cell_type": "code",
   "execution_count": 11,
   "id": "94c65aff",
   "metadata": {},
   "outputs": [],
   "source": [
    "def get_max_num_files(dataset_path):\n",
    "    # get links to audio files\n",
    "    audio_files = glob(f\"{dataset_path}/*/*.wav\")\n",
    "    # note .DS_store needs to be removed\n",
    "    if '.DS_Store' in os.listdir(dataset_path):\n",
    "        os.remove(f'{dataset_path}/.DS_Store')\n",
    "\n",
    "    languages = os.listdir(dataset_path)\n",
    "    audio_files_by_lang = {}\n",
    "    for lang in languages:\n",
    "        audio_files_by_lang[lang] = glob(f\"{dataset_path}/{lang}/*.wav\")\n",
    "\n",
    "    num_files_per_lang = [len(audio_files_by_lang[lang]) for lang in audio_files_by_lang]\n",
    "    return np.array(num_files_per_lang).min()"
   ]
  },
  {
   "cell_type": "code",
   "execution_count": 12,
   "id": "104d4e68",
   "metadata": {},
   "outputs": [],
   "source": [
    "def limit_num_audio_files_per_lang(dataset_path):\n",
    "    max_num_files = get_max_num_files(dataset_path)\n",
    "    if '.DS_Store' in os.listdir(dataset_path):\n",
    "        os.remove(f'{dataset_path}/.DS_Store')\n",
    "\n",
    "    languages = os.listdir(dataset_path)\n",
    "    lang_mapping = {l: i for i, l in enumerate(languages)}\n",
    "\n",
    "    audio_files_by_lang = {}\n",
    "    # limit to MAX_NUM_FILES for each lang\n",
    "    for lang in languages:\n",
    "        audio_files_by_lang[lang] = glob(f\"{dataset_path}/{lang}/*.wav\")[:max_num_files]\n",
    "        print(f\"num audio files for {lang.upper()}: {len(audio_files_by_lang[lang])}\")\n",
    "\n",
    "    audio_files = [file for lang_files in audio_files_by_lang.values() for file in lang_files]\n",
    "    return audio_files"
   ]
  },
  {
   "cell_type": "code",
   "execution_count": 74,
   "id": "b6ddd8f1",
   "metadata": {},
   "outputs": [],
   "source": [
    "def extract_features_stft(dataset_path, sample_rate=22050, n_fft=512, frame_size=75):\n",
    "    hop_length = n_fft // 2\n",
    "\n",
    "    # get languages mapping for y\n",
    "    languages = os.listdir(dataset_path)\n",
    "    lang_mapping = {l: i for i, l in enumerate(languages)}\n",
    "\n",
    "    # PROCESSING STEPS\n",
    "    # 1. Balancing the dataset\n",
    "    audio_files = limit_num_audio_files_per_lang(dataset_path)\n",
    "    \n",
    "    # instantiate the progress bar\n",
    "    f = IntProgress(min=0, max=len(audio_files)) \n",
    "    display(f) # display the bar\n",
    "\n",
    "\n",
    "    X = []\n",
    "    y = []\n",
    "    for file in audio_files:\n",
    "        f.value += 1\n",
    "        # get file's language\n",
    "        lang_pos = len(dataset_path.split(\"/\"))\n",
    "        lang = file.split(\"/\")[lang_pos]\n",
    "        \n",
    "        # 2. Signal processing\n",
    "        signal, sample_rate = librosa.load(file, sr=sample_rate)\n",
    "        stft = librosa.stft(signal, n_fft=n_fft, hop_length=hop_length)\n",
    "        spectogram = np.abs(stft)\n",
    "        # log_spectogram.shape = (hop_length, len(signal)/hop_length), e.g. (257, 1852)\n",
    "        log_spectogram = librosa.amplitude_to_db(spectogram)\n",
    "        \n",
    "        # 3. Normalization at the level of each frequency\n",
    "        log_spectogram_norm_vector = []\n",
    "        for i in range(log_spectogram.shape[0]):\n",
    "            log_spectogram_norm = StandardScaler().fit_transform(log_spectogram[i, :].reshape(-1, 1)).reshape(-1)\n",
    "            log_spectogram_norm_vector.append(log_spectogram_norm)\n",
    "        features = np.vstack(log_spectogram_norm_vector)\n",
    "        \n",
    "        # 4. Segmentation based on frame size\n",
    "        segments = []\n",
    "        labels = []\n",
    "        stft_signal_len = features.shape[1]\n",
    "        for frame_start in range(0, int(stft_signal_len / frame_size)):\n",
    "            # features_cut.shape = (hop_length, frame_size), e.g. (257, 75)\n",
    "            features_cut = features[:, frame_start * frame_size:(frame_start + 1) * frame_size]\n",
    "            # num segments = stft_signal_len // frame_size, e.g. 1852 // 75 = 24\n",
    "            segments.append(features_cut)\n",
    "            labels.append(lang_mapping[lang])\n",
    "        # X_per_file.shape = (hop_length * num_segments, frame_size), e.g. (257 * 24, 75)=(6168, 75) \n",
    "        X_per_file = np.vstack(segments)\n",
    "        y_per_file = np.vstack(labels)\n",
    "        # X.shape = (sum(hop_length * num_segments per file), frame_size), e.g. ((6168+7453+6939...), 75)\n",
    "        X.append(X_per_file)\n",
    "        # y is same as total number of segments\n",
    "        y.append(y_per_file)\n",
    "    \n",
    "    # transform X list into np.array (doesn't change shape)\n",
    "    X = np.vstack(X)\n",
    "    y = np.vstack(y)\n",
    "    \n",
    "    # reshape into (total_num_segments, hop_length, frame_size)\n",
    "    total_num_segments = y.shape[0]\n",
    "    X_temp = X.reshape(total_num_segments, -1, frame_size)\n",
    "    return X, y "
   ]
  },
  {
   "cell_type": "markdown",
   "id": "67657580",
   "metadata": {},
   "source": [
    "# Languages set 1: English, Russian, German, Mandarin"
   ]
  },
  {
   "cell_type": "code",
   "execution_count": 73,
   "id": "634fff60",
   "metadata": {},
   "outputs": [
    {
     "name": "stdout",
     "output_type": "stream",
     "text": [
      "num audio files for GERMAN: 45\n",
      "num audio files for MANDARIN: 45\n",
      "num audio files for RUSSIAN: 45\n",
      "num audio files for ENGLISH: 45\n"
     ]
    },
    {
     "data": {
      "application/vnd.jupyter.widget-view+json": {
       "model_id": "d5f58214775e49abb6b6d4f8ba75bdc7",
       "version_major": 2,
       "version_minor": 0
      },
      "text/plain": [
       "IntProgress(value=0, max=180)"
      ]
     },
     "metadata": {},
     "output_type": "display_data"
    },
    {
     "name": "stdout",
     "output_type": "stream",
     "text": [
      "1\n",
      "2\n",
      "3\n",
      "4\n",
      "5\n",
      "6\n",
      "7\n",
      "8\n",
      "9\n",
      "10\n",
      "11\n",
      "12\n",
      "13\n",
      "14\n",
      "15\n",
      "16\n",
      "17\n",
      "18\n",
      "19\n",
      "20\n",
      "21\n",
      "22\n",
      "23\n",
      "24\n",
      "1\n",
      "2\n",
      "3\n",
      "4\n",
      "5\n",
      "6\n",
      "7\n",
      "8\n",
      "9\n",
      "10\n",
      "11\n",
      "12\n",
      "13\n",
      "14\n",
      "15\n",
      "16\n",
      "17\n",
      "18\n",
      "19\n",
      "20\n",
      "21\n",
      "22\n",
      "23\n",
      "24\n",
      "25\n",
      "26\n",
      "27\n",
      "28\n",
      "29\n",
      "1\n",
      "2\n",
      "3\n",
      "4\n",
      "5\n",
      "6\n",
      "7\n",
      "8\n",
      "9\n",
      "10\n",
      "11\n",
      "12\n",
      "13\n",
      "14\n",
      "15\n",
      "16\n",
      "17\n",
      "18\n",
      "19\n",
      "20\n",
      "21\n",
      "22\n",
      "23\n",
      "24\n",
      "25\n",
      "26\n",
      "27\n"
     ]
    }
   ],
   "source": [
    "dataset_path = \"./data/lang_set_1\"\n",
    "X, y = extract_features_stft(dataset_path)"
   ]
  },
  {
   "cell_type": "markdown",
   "id": "7832fb61",
   "metadata": {},
   "source": [
    "## Preprocessing decisions:\n",
    "(UPDATE)\n",
    "\n",
    "1. Do not trim leading and trailing silence from an audio signal (below 20 db is considered as silence)\n",
    "2. Cut signal to a specified duration (FRAME_SIZE = 85)\n",
    "3. STFT/MFCC window size = 512 "
   ]
  },
  {
   "cell_type": "code",
   "execution_count": 23,
   "id": "4d47d0d6",
   "metadata": {},
   "outputs": [],
   "source": [
    "# def extract_features_mfcc_by_frame_size(dataset_path, MAX_NUM_FILES=45, FRAME_SIZE=75, sample_rate=22050, n_fft=512, num_mfcc=13):\n",
    "#     hop_length = n_fft // 2\n",
    "    \n",
    "#     if '.DS_Store' in os.listdir(dataset_path):\n",
    "#         os.remove(f'{dataset_path}/.DS_Store')\n",
    "\n",
    "#     languages = os.listdir(dataset_path)\n",
    "#     lang_mapping = {l: i for i, l in enumerate(languages)}\n",
    "\n",
    "\n",
    "#     audio_files_by_lang = {}\n",
    "#     # limit to MAX_NUM_FILES for each lang\n",
    "#     for lang in languages:\n",
    "#         audio_files_by_lang[lang] = glob(f\"{dataset_path}/{lang}/*.wav\")[:MAX_NUM_FILES]\n",
    "#         print(f\"num audio files for {lang.upper()}: {len(audio_files_by_lang[lang])}\")\n",
    "# # \n",
    "#     audio_files = [file for lang_files in audio_files_by_lang.values() for file in lang_files]\n",
    "    \n",
    "#     # instantiate the progress bar\n",
    "#     f = IntProgress(min=0, max=len(audio_files)) \n",
    "#     display(f) # display the bar\n",
    "\n",
    "\n",
    "#     X = []\n",
    "#     y = []\n",
    "#     for file in audio_files:\n",
    "#         f.value += 1\n",
    "#         lang_pos = len(dataset_path.split(\"/\"))\n",
    "#         lang = file.split(\"/\")[lang_pos]\n",
    "        \n",
    "#         signal, sample_rate = librosa.load(file, mono=True)\n",
    "        \n",
    "#         mfcc = librosa.feature.mfcc(y=signal, sr=sample_rate, n_mfcc=num_mfcc, n_fft=n_fft, hop_length=hop_length)\n",
    "#         mfcc_norm_vector = []\n",
    "#         for i in range(mfcc.shape[0]):\n",
    "#             mfcc_norm = StandardScaler().fit_transform(mfcc[i, :].reshape(-1, 1)).reshape(-1)\n",
    "#             mfcc_norm_vector.append(mfcc_norm)\n",
    "\n",
    "#         features = np.vstack(mfcc_norm_vector)\n",
    "#         # features shape (num_mfcc, math.ceil(signal_len/n_fft))\n",
    "#         # print(\"mfcc_norm -> features.shape\", features.shape)\n",
    "\n",
    "#         segments = []\n",
    "#         labels = []\n",
    "#         for frame_start in range(0, int(features.shape[1] / FRAME_SIZE)):\n",
    "#             features_cut = features[:, frame_start * FRAME_SIZE:(frame_start + 1) * FRAME_SIZE]\n",
    "#             # features_cut shape (num_mfcc, frame_size)\n",
    "#             # print(\"features_cut.shape\", features_cut.shape)\n",
    "#             segments.append(features_cut)\n",
    "#             # print(\"segments len per file\")\n",
    "#             labels.append(lang_mapping[lang])\n",
    "#         X_per_lang = np.vstack(segments)\n",
    "#         y_per_lang = np.vstack(labels)\n",
    "#         X.append(X_per_lang)\n",
    "#         y.append(y_per_lang)\n",
    " \n",
    "#     X = np.vstack(X)\n",
    "#     y = np.vstack(y)\n",
    "\n",
    "#     X = X.reshape(y.shape[0], -1, X.shape[1])\n",
    "#     print(X.shape, y.shape)\n",
    "#     return X, y "
   ]
  },
  {
   "cell_type": "code",
   "execution_count": 52,
   "id": "e1a4df39",
   "metadata": {},
   "outputs": [],
   "source": []
  },
  {
   "cell_type": "code",
   "execution_count": 5,
   "id": "37973025",
   "metadata": {},
   "outputs": [],
   "source": [
    "# def extract_melspectogram_by_frame_size(dataset_path, win_len, hop_len, MAX_NUM_FILES=45, FRAME_SIZE=75, sample_rate=22050):\n",
    "    \n",
    "#     if '.DS_Store' in os.listdir(dataset_path):\n",
    "#         os.remove(f'{dataset_path}/.DS_Store')\n",
    "\n",
    "#     languages = os.listdir(dataset_path)\n",
    "#     lang_mapping = {l: i for i, l in enumerate(languages)}\n",
    "\n",
    "\n",
    "#     audio_files_by_lang = {}\n",
    "#     # limit to MAX_NUM_FILES for each lang\n",
    "#     for lang in languages:\n",
    "#         audio_files_by_lang[lang] = glob(f\"{dataset_path}/{lang}/*.wav\")[:MAX_NUM_FILES]\n",
    "#         print(f\"num audio files for {lang.upper()}: {len(audio_files_by_lang[lang])}\")\n",
    "\n",
    "#     audio_files = [file for lang_files in audio_files_by_lang.values() for file in lang_files]\n",
    "    \n",
    "#     # instantiate the progress bar\n",
    "#     f = IntProgress(min=0, max=len(audio_files)) \n",
    "#     display(f) # display the bar\n",
    "\n",
    "\n",
    "#     X = []\n",
    "#     y = []\n",
    "#     for file in audio_files:\n",
    "#         f.value += 1\n",
    "#         lang_pos = len(dataset_path.split(\"/\"))\n",
    "#         lang = file.split(\"/\")[lang_pos]\n",
    "        \n",
    "#         signal, _ = librosa.load(file, sr=sample_rate)\n",
    "#         # mel_sp shape (n_mels, len(signal)/hop_length)\n",
    "#         mel_sp = librosa.feature.melspectrogram(y=signal, sr=sample_rate, n_mels=N_MELS, hop_length=hop_len,\n",
    "#                                            win_length=win_len, power=1.0)\n",
    "        \n",
    "#         # standardize along N_MELS axis\n",
    "#         mel_sp_norm_vector = []\n",
    "#         for i in range(mel_sp.shape[0]):\n",
    "#             mel_sp_norm = StandardScaler().fit_transform(mel_sp[i, :].reshape(-1, 1)).reshape(-1)\n",
    "#             mel_sp_norm_vector.append(mel_sp_norm)\n",
    "\n",
    "#         features = np.vstack(mel_sp_norm_vector)\n",
    "  \n",
    "#         segments = []\n",
    "#         labels = []\n",
    "#         for frame_start in range(0, int(features.shape[1] / FRAME_SIZE)):\n",
    "#             features_cut = features[:, frame_start * FRAME_SIZE:(frame_start + 1) * FRAME_SIZE]\n",
    "#             # features_cut shape (num_mfcc, frame_size)\n",
    "#             # print(\"features_cut.shape\", features_cut.shape)\n",
    "#             segments.append(features_cut)\n",
    "#             # print(\"segments len per file\")\n",
    "#             labels.append(lang_mapping[lang])\n",
    "#         X_per_lang = np.vstack(segments)\n",
    "#         y_per_lang = np.vstack(labels)\n",
    "#         X.append(X_per_lang)\n",
    "#         y.append(y_per_lang)\n",
    " \n",
    "#     X = np.vstack(X)\n",
    "#     y = np.vstack(y)\n",
    "\n",
    "#     X = X.reshape(y.shape[0], -1, X.shape[1])\n",
    "#     print(X.shape, y.shape)\n",
    "#     return X, y "
   ]
  },
  {
   "cell_type": "code",
   "execution_count": 69,
   "id": "2f951ce6",
   "metadata": {},
   "outputs": [],
   "source": [
    "def extract_features_cwt_by_frame_size(dataset_path, MAX_NUM_FILES=45, FRAME_SIZE=75, sample_rate=22050):\n",
    "    hop_length = n_fft // 2\n",
    "    \n",
    "    if '.DS_Store' in os.listdir(dataset_path):\n",
    "        os.remove(f'{dataset_path}/.DS_Store')\n",
    "\n",
    "    languages = os.listdir(dataset_path)\n",
    "    lang_mapping = {l: i for i, l in enumerate(languages)}\n",
    "\n",
    "\n",
    "    audio_files_by_lang = {}\n",
    "    # limit to MAX_NUM_FILES for each lang\n",
    "    for lang in languages:\n",
    "        audio_files_by_lang[lang] = glob(f\"{dataset_path}/{lang}/*.wav\")[:MAX_NUM_FILES]\n",
    "        print(f\"num audio files for {lang.upper()}: {len(audio_files_by_lang[lang])}\")\n",
    "# \n",
    "    audio_files = [file for lang_files in audio_files_by_lang.values() for file in lang_files]\n",
    "    \n",
    "    # instantiate the progress bar\n",
    "    f = IntProgress(min=0, max=len(audio_files)) \n",
    "    display(f) # display the bar\n",
    "\n",
    "    scales = range(64)\n",
    "    waveletname = 'morl' \n",
    "\n",
    "    X = []\n",
    "    y = []\n",
    "    for file in audio_files:\n",
    "        f.value += 1\n",
    "        lang_pos = len(dataset_path.split(\"/\"))\n",
    "        lang = file.split(\"/\")[lang_pos]\n",
    "        \n",
    "        signal, sample_rate = librosa.load(file, mono=True)\n",
    "        \n",
    "        cwt_coeff, freq = pywt.cwt(signal, scales, waveletname, 1)\n",
    "        cwt_norm_vector = []\n",
    "        for i in range(cwt_coeff.shape[0]):\n",
    "            cwt_norm = StandardScaler().fit_transform(cwt_coeff[i, :].reshape(-1, 1)).reshape(-1)\n",
    "            cwt_norm_vector.append(cwt_norm)\n",
    "\n",
    "        features = np.vstack(mfcc_norm_vector)\n",
    "        # features shape (num_mfcc, math.ceil(signal_len/n_fft))\n",
    "        # print(\"mfcc_norm -> features.shape\", features.shape)\n",
    "\n",
    "        segments = []\n",
    "        labels = []\n",
    "        for frame_start in range(0, int(features.shape[1] / FRAME_SIZE)):\n",
    "            features_cut = features[:, frame_start * FRAME_SIZE:(frame_start + 1) * FRAME_SIZE]\n",
    "            # features_cut shape (num_mfcc, frame_size)\n",
    "            # print(\"features_cut.shape\", features_cut.shape)\n",
    "            segments.append(features_cut)\n",
    "            # print(\"segments len per file\")\n",
    "            labels.append(lang_mapping[lang])\n",
    "        X_per_lang = np.vstack(segments)\n",
    "        y_per_lang = np.vstack(labels)\n",
    "        X.append(X_per_lang)\n",
    "        y.append(y_per_lang)\n",
    " \n",
    "    X = np.vstack(X)\n",
    "    y = np.vstack(y)\n",
    "\n",
    "    X = X.reshape(y.shape[0], -1, X.shape[1])\n",
    "    print(X.shape, y.shape)\n",
    "    return X, y "
   ]
  },
  {
   "cell_type": "markdown",
   "id": "84215a8c",
   "metadata": {},
   "source": [
    "# 2. Feature extraction"
   ]
  },
  {
   "cell_type": "code",
   "execution_count": 53,
   "id": "a146a04a",
   "metadata": {},
   "outputs": [
    {
     "data": {
      "text/plain": [
       "(551, 220)"
      ]
     },
     "execution_count": 53,
     "metadata": {},
     "output_type": "execute_result"
    }
   ],
   "source": [
    "SAMPLE_RATE = 22050\n",
    "N_MELS = 64\n",
    "OVERLAP_MS = 10\n",
    "WIN_LENGTH_MS = 25\n",
    "HOP_LENGTH = int(SAMPLE_RATE * 0.001 * OVERLAP_MS)  # [10 ms overlap]\n",
    "WIN_LENGTH = int(SAMPLE_RATE * 0.001 * WIN_LENGTH_MS)  # [25 ms window length]\n",
    "# N_FFT = int(SAMPLE_RATE * 0.001 * WIN_LENGTH)  # [25 ms window length]\n",
    "FRAME_SIZE = 75  # 30 / 50 / 70 / 100 / 150 / 200 / 300 / 500 [Size of feature segment]\n",
    "\n",
    "WIN_LENGTH,HOP_LENGTH"
   ]
  },
  {
   "cell_type": "code",
   "execution_count": 70,
   "id": "a6f06233",
   "metadata": {},
   "outputs": [
    {
     "name": "stdout",
     "output_type": "stream",
     "text": [
      "num audio files for GERMAN: 45\n",
      "num audio files for MANDARIN: 45\n",
      "num audio files for RUSSIAN: 45\n",
      "num audio files for ENGLISH: 45\n"
     ]
    },
    {
     "data": {
      "application/vnd.jupyter.widget-view+json": {
       "model_id": "845fdf80e74044ce92dcb1ae88cb91ad",
       "version_major": 2,
       "version_minor": 0
      },
      "text/plain": [
       "IntProgress(value=0, max=180)"
      ]
     },
     "metadata": {},
     "output_type": "display_data"
    },
    {
     "name": "stdout",
     "output_type": "stream",
     "text": [
      "(10991, 257, 75) (10991, 1)\n"
     ]
    }
   ],
   "source": [
    "DATASET_PATH = \"./data/original\"\n",
    "MAX_NUM_FILES = 45 if dataset_path == \"./data/original\" else 80\n",
    "# X, y = extract_features_mfcc_by_frame_size(DATASET_PATH, MAX_NUM_FILES=MAX_NUM_FILES)\n",
    "# X, y = extract_melspectogram_by_frame_size(DATASET_PATH, WIN_LENGTH, HOP_LENGTH, MAX_NUM_FILES=MAX_NUM_FILES, FRAME_SIZE=FRAME_SIZE)\n",
    "# X, y = extract_features_stft_by_frame_size(DATASET_PATH, MAX_NUM_FILES=MAX_NUM_FILES)\n",
    "X, y = extract_features_stft_by_frame_size(DATASET_PATH, MAX_NUM_FILES=MAX_NUM_FILES)"
   ]
  },
  {
   "cell_type": "code",
   "execution_count": 55,
   "id": "9bee9e5d",
   "metadata": {},
   "outputs": [
    {
     "data": {
      "text/plain": [
       "((10991, 257, 75), (10991, 1))"
      ]
     },
     "execution_count": 55,
     "metadata": {},
     "output_type": "execute_result"
    }
   ],
   "source": [
    "X.shape, y.shape"
   ]
  },
  {
   "cell_type": "code",
   "execution_count": 9,
   "id": "69a61450",
   "metadata": {},
   "outputs": [],
   "source": [
    "# data = {\"x\": X.tolist(), \"y\": y.tolist(), \"x_shape\": X.shape, \"y_shape\": y.shape}\n",
    "# JSON_PATH = \"./data/stft_normalized_segmentedafter_oldlang.json\"\n",
    "\n",
    "# with open(JSON_PATH, \"w\") as fp:\n",
    "#     json.dump(data, fp, indent=4)"
   ]
  },
  {
   "cell_type": "markdown",
   "id": "e8af74b0",
   "metadata": {},
   "source": [
    "## Splitting into Train, Validation, Test"
   ]
  },
  {
   "cell_type": "code",
   "execution_count": 10,
   "id": "7b2f5805",
   "metadata": {},
   "outputs": [],
   "source": [
    "def prepare_datasets(X, y, test_size, validation_size):\n",
    "    \"\"\"\n",
    "    Loads data and splits it into train, validation and test sets\n",
    "    \"\"\"\n",
    "\n",
    "    # create train, validation and test split\n",
    "    X_train, X_test, y_train, y_test = train_test_split(X, y, test_size=test_size, random_state=1234)\n",
    "    X_train, X_validation, y_train, y_validation = train_test_split(X_train, y_train, test_size=validation_size, random_state=1234)\n",
    "\n",
    "    # add an axis to input sets (aka channel for image)\n",
    "    X_train = X_train[..., np.newaxis]\n",
    "    X_validation = X_validation[..., np.newaxis]\n",
    "    X_test = X_test[..., np.newaxis]\n",
    "\n",
    "    return X_train, X_validation, X_test, y_train, y_validation, y_test"
   ]
  },
  {
   "cell_type": "code",
   "execution_count": 71,
   "id": "4b0c3880",
   "metadata": {},
   "outputs": [],
   "source": [
    "X_train, X_val, X_test, y_train, y_val, y_test = prepare_datasets(X, y, 0.25, 0.2)"
   ]
  },
  {
   "cell_type": "code",
   "execution_count": 72,
   "id": "10043bd5",
   "metadata": {},
   "outputs": [
    {
     "data": {
      "text/plain": [
       "((6594, 257, 75, 1), (1649, 257, 75, 1), (2748, 257, 75, 1))"
      ]
     },
     "execution_count": 72,
     "metadata": {},
     "output_type": "execute_result"
    }
   ],
   "source": [
    "# shape (`batch_size`, `height`, `width`, `channels`)\n",
    "X_train.shape, X_val.shape, X_test.shape"
   ]
  },
  {
   "cell_type": "markdown",
   "id": "09c23b9b",
   "metadata": {},
   "source": [
    "# CNN"
   ]
  },
  {
   "cell_type": "code",
   "execution_count": 73,
   "id": "204644ab",
   "metadata": {},
   "outputs": [],
   "source": [
    "def plot_history(history):\n",
    "    \"\"\"\n",
    "    Plots accuracy/loss for training/validation set as a function of the epochs\n",
    "    \"\"\"\n",
    "\n",
    "    fig, ax = plt.subplots(figsize=(12,6), ncols=2)\n",
    "\n",
    "    # accuracy sublpot\n",
    "    ax[0].plot(history.history[\"accuracy\"], label=\"train accuracy\")\n",
    "    ax[0].plot(history.history[\"val_accuracy\"], label=\"val accuracy\")\n",
    "    ax[0].set_ylabel(\"Accuracy\")\n",
    "    ax[1].set_xlabel(\"Epoch\")\n",
    "    ax[0].set_ylim([0,1])\n",
    "    ax[0].set_title(\"Accuracy\")\n",
    "\n",
    "    # loss sublpot\n",
    "    ax[1].plot(history.history[\"loss\"], label=\"train error\")\n",
    "    ax[1].plot(history.history[\"val_loss\"], label=\"val error\")\n",
    "    ax[1].set_ylabel(\"Error\")\n",
    "    ax[1].set_xlabel(\"Epoch\")\n",
    "    ax[1].set_title(\"Loss\")\n",
    "    plt.legend()\n",
    "\n",
    "    plt.show()"
   ]
  },
  {
   "cell_type": "code",
   "execution_count": 74,
   "id": "cd713316",
   "metadata": {},
   "outputs": [],
   "source": [
    "def plot_confusion_matrix(model, X_test, languages):\n",
    "    \"\"\"\n",
    "    Plots confusion matrix for model prediction on test \n",
    "    \"\"\"\n",
    "\n",
    "    y_pred = model.predict(X_test)\n",
    "\n",
    "    y_pred = np.argmax(y_pred, axis=1)\n",
    "\n",
    "    y_true = y_test\n",
    "\n",
    "    confusion_mtx = tf.math.confusion_matrix(y_true, y_pred)\n",
    "\n",
    "    plt.figure(figsize=(10, 8))\n",
    "    sns.heatmap(confusion_mtx,\n",
    "                xticklabels=languages,\n",
    "                yticklabels=languages,\n",
    "                annot=True, fmt='g')\n",
    "    plt.xlabel('Prediction')\n",
    "    plt.ylabel('Label')\n",
    "    plt.show()"
   ]
  },
  {
   "cell_type": "code",
   "execution_count": 75,
   "id": "6ff7e5ab",
   "metadata": {},
   "outputs": [
    {
     "data": {
      "text/plain": [
       "(257, 75, 1)"
      ]
     },
     "execution_count": 75,
     "metadata": {},
     "output_type": "execute_result"
    }
   ],
   "source": [
    "input_shape = X_train.shape[1:]\n",
    "input_shape"
   ]
  },
  {
   "cell_type": "code",
   "execution_count": 76,
   "id": "128aaa85",
   "metadata": {},
   "outputs": [],
   "source": [
    "NUM_LABELS = 4\n",
    "\n",
    "tf.keras.backend.clear_session()\n",
    "model = Sequential()\n",
    "\n",
    "# 1st conv layer\n",
    "model.add(Conv2D(32, (3, 3), activation='relu', input_shape=input_shape))\n",
    "model.add(BatchNormalization())\n",
    "model.add(MaxPooling2D((3, 3), strides=(2, 2), padding='same'))\n",
    "# model.add(MaxPooling2D())\n",
    "\n",
    "# 2nd conv layer\n",
    "model.add(Conv2D(64, (3, 3), activation='relu'))\n",
    "model.add(BatchNormalization())\n",
    "model.add(MaxPooling2D((3, 3), strides=(2, 2), padding='same'))\n",
    "# model.add(MaxPooling2D())\n",
    "model.add(Dropout(0.1))\n",
    "\n",
    "# flatten output and feed it into dense layer\n",
    "model.add(Flatten())\n",
    "model.add(Dense(128, activation='relu'))\n",
    "model.add(Dropout(0.1))\n",
    "\n",
    "# output layer\n",
    "model.add(Dense(NUM_LABELS, activation='softmax'))"
   ]
  },
  {
   "cell_type": "code",
   "execution_count": 77,
   "id": "16d8a755",
   "metadata": {},
   "outputs": [
    {
     "name": "stdout",
     "output_type": "stream",
     "text": [
      "Model: \"sequential\"\n",
      "_________________________________________________________________\n",
      " Layer (type)                Output Shape              Param #   \n",
      "=================================================================\n",
      " conv2d (Conv2D)             (None, 255, 73, 32)       320       \n",
      "                                                                 \n",
      " batch_normalization (BatchN  (None, 255, 73, 32)      128       \n",
      " ormalization)                                                   \n",
      "                                                                 \n",
      " max_pooling2d (MaxPooling2D  (None, 128, 37, 32)      0         \n",
      " )                                                               \n",
      "                                                                 \n",
      " conv2d_1 (Conv2D)           (None, 126, 35, 64)       18496     \n",
      "                                                                 \n",
      " batch_normalization_1 (Batc  (None, 126, 35, 64)      256       \n",
      " hNormalization)                                                 \n",
      "                                                                 \n",
      " max_pooling2d_1 (MaxPooling  (None, 63, 18, 64)       0         \n",
      " 2D)                                                             \n",
      "                                                                 \n",
      " dropout (Dropout)           (None, 63, 18, 64)        0         \n",
      "                                                                 \n",
      " flatten (Flatten)           (None, 72576)             0         \n",
      "                                                                 \n",
      " dense (Dense)               (None, 128)               9289856   \n",
      "                                                                 \n",
      " dropout_1 (Dropout)         (None, 128)               0         \n",
      "                                                                 \n",
      " dense_1 (Dense)             (None, 4)                 516       \n",
      "                                                                 \n",
      "=================================================================\n",
      "Total params: 9,309,572\n",
      "Trainable params: 9,309,380\n",
      "Non-trainable params: 192\n",
      "_________________________________________________________________\n"
     ]
    }
   ],
   "source": [
    "# https://www.tensorflow.org/api_docs/python/tf/keras/optimizers/Adam\n",
    "# default values: lr=0.001 beta_1=0.9 beta_2=0.999 as in paper\n",
    "optimiser = Adam()\n",
    "model.compile(optimizer=optimiser,\n",
    "                  loss='sparse_categorical_crossentropy',\n",
    "                  metrics=['accuracy'])\n",
    "\n",
    "model.summary()"
   ]
  },
  {
   "cell_type": "markdown",
   "id": "30f339c3",
   "metadata": {},
   "source": [
    "From paper: \n",
    "\n",
    "\"The training stopped when the change in accuracy was at least 0.5% for an interval of 20 epochs or when 300 epochs were reached among five accents, and 170 epochs in other cases.\""
   ]
  },
  {
   "cell_type": "code",
   "execution_count": 78,
   "id": "f7671159",
   "metadata": {},
   "outputs": [
    {
     "name": "stdout",
     "output_type": "stream",
     "text": [
      "Epoch 1/60\n",
      "104/104 [==============================] - 111s 1s/step - loss: 5.2405 - accuracy: 0.2830 - val_loss: 62.5805 - val_accuracy: 0.2717\n",
      "Epoch 2/60\n",
      "104/104 [==============================] - 109s 1s/step - loss: 1.3945 - accuracy: 0.2909 - val_loss: 56.2815 - val_accuracy: 0.2784\n",
      "Epoch 3/60\n",
      "104/104 [==============================] - 108s 1s/step - loss: 1.3821 - accuracy: 0.2934 - val_loss: 20.3782 - val_accuracy: 0.2729\n",
      "Epoch 4/60\n",
      "104/104 [==============================] - 99s 955ms/step - loss: 1.3788 - accuracy: 0.2956 - val_loss: 3.5787 - val_accuracy: 0.2498\n",
      "Epoch 5/60\n",
      "104/104 [==============================] - 104s 998ms/step - loss: 1.3747 - accuracy: 0.2924 - val_loss: 1.4709 - val_accuracy: 0.2862\n",
      "Epoch 6/60\n",
      "104/104 [==============================] - 104s 996ms/step - loss: 1.3676 - accuracy: 0.2991 - val_loss: 1.3809 - val_accuracy: 0.2893\n",
      "Epoch 7/60\n",
      "104/104 [==============================] - 103s 992ms/step - loss: 1.3730 - accuracy: 0.3009 - val_loss: 1.4187 - val_accuracy: 0.2814\n",
      "Epoch 8/60\n",
      "104/104 [==============================] - 106s 1s/step - loss: 1.3699 - accuracy: 0.3019 - val_loss: 1.3820 - val_accuracy: 0.2868\n",
      "Epoch 9/60\n",
      "104/104 [==============================] - 105s 1s/step - loss: 1.3613 - accuracy: 0.3045 - val_loss: 1.3593 - val_accuracy: 0.2923\n",
      "Epoch 10/60\n",
      "104/104 [==============================] - 105s 1s/step - loss: 1.3463 - accuracy: 0.3135 - val_loss: 1.3555 - val_accuracy: 0.3026\n",
      "Epoch 11/60\n",
      "104/104 [==============================] - 104s 1s/step - loss: 1.3568 - accuracy: 0.3051 - val_loss: 1.3595 - val_accuracy: 0.3026\n",
      "Epoch 12/60\n",
      "104/104 [==============================] - 105s 1s/step - loss: 1.3408 - accuracy: 0.3145 - val_loss: 1.3499 - val_accuracy: 0.3159\n",
      "Epoch 13/60\n",
      "104/104 [==============================] - 106s 1s/step - loss: 1.3343 - accuracy: 0.3192 - val_loss: 1.3497 - val_accuracy: 0.3081\n",
      "Epoch 14/60\n",
      "104/104 [==============================] - 107s 1s/step - loss: 1.3422 - accuracy: 0.3218 - val_loss: 1.3940 - val_accuracy: 0.2996\n",
      "Epoch 15/60\n",
      "104/104 [==============================] - 105s 1s/step - loss: 1.3447 - accuracy: 0.3089 - val_loss: 1.3489 - val_accuracy: 0.3056\n",
      "Epoch 16/60\n",
      "104/104 [==============================] - 103s 993ms/step - loss: 1.3309 - accuracy: 0.3194 - val_loss: 1.3747 - val_accuracy: 0.3099\n",
      "Epoch 17/60\n",
      "104/104 [==============================] - 110s 1s/step - loss: 1.3270 - accuracy: 0.3220 - val_loss: 1.3435 - val_accuracy: 0.3075\n",
      "Epoch 18/60\n",
      "104/104 [==============================] - 108s 1s/step - loss: 1.3286 - accuracy: 0.3167 - val_loss: 1.3715 - val_accuracy: 0.3147\n",
      "Epoch 19/60\n",
      "104/104 [==============================] - 116s 1s/step - loss: 1.3135 - accuracy: 0.3229 - val_loss: 1.3359 - val_accuracy: 0.3087\n",
      "Epoch 20/60\n",
      "104/104 [==============================] - 104s 1s/step - loss: 1.3088 - accuracy: 0.3239 - val_loss: 1.3561 - val_accuracy: 0.3117\n",
      "Epoch 21/60\n",
      "104/104 [==============================] - 111s 1s/step - loss: 1.3061 - accuracy: 0.3244 - val_loss: 1.3483 - val_accuracy: 0.3062\n",
      "Epoch 22/60\n",
      "104/104 [==============================] - 105s 1s/step - loss: 1.2917 - accuracy: 0.3247 - val_loss: 1.3890 - val_accuracy: 0.2881\n",
      "Epoch 23/60\n",
      "104/104 [==============================] - 105s 1s/step - loss: 1.2858 - accuracy: 0.3414 - val_loss: 1.3207 - val_accuracy: 0.3026\n",
      "Epoch 24/60\n",
      "104/104 [==============================] - 105s 1s/step - loss: 1.2962 - accuracy: 0.3453 - val_loss: 1.3618 - val_accuracy: 0.3032\n",
      "Epoch 25/60\n",
      "104/104 [==============================] - 104s 1s/step - loss: 1.2791 - accuracy: 0.3517 - val_loss: 1.3220 - val_accuracy: 0.3250\n",
      "Epoch 26/60\n",
      "104/104 [==============================] - 107s 1s/step - loss: 1.2627 - accuracy: 0.3618 - val_loss: 1.3114 - val_accuracy: 0.3469\n",
      "Epoch 27/60\n",
      "104/104 [==============================] - 105s 1s/step - loss: 1.2653 - accuracy: 0.3588 - val_loss: 1.3441 - val_accuracy: 0.3475\n",
      "Epoch 28/60\n",
      "104/104 [==============================] - 105s 1s/step - loss: 1.2417 - accuracy: 0.3784 - val_loss: 1.3075 - val_accuracy: 0.3232\n",
      "Epoch 29/60\n",
      "104/104 [==============================] - 107s 1s/step - loss: 1.2235 - accuracy: 0.3887 - val_loss: 1.3032 - val_accuracy: 0.3196\n",
      "Epoch 30/60\n",
      "104/104 [==============================] - 104s 1s/step - loss: 1.2292 - accuracy: 0.4017 - val_loss: 1.3122 - val_accuracy: 0.3633\n",
      "Epoch 31/60\n",
      "104/104 [==============================] - 104s 1s/step - loss: 1.1928 - accuracy: 0.4196 - val_loss: 1.3180 - val_accuracy: 0.3839\n",
      "Epoch 32/60\n",
      "104/104 [==============================] - 103s 992ms/step - loss: 1.1682 - accuracy: 0.4355 - val_loss: 1.3368 - val_accuracy: 0.3748\n",
      "Epoch 33/60\n",
      "104/104 [==============================] - 107s 1s/step - loss: 1.1624 - accuracy: 0.4569 - val_loss: 1.3351 - val_accuracy: 0.3705\n",
      "Epoch 34/60\n",
      "104/104 [==============================] - 105s 1s/step - loss: 1.1857 - accuracy: 0.4399 - val_loss: 1.3936 - val_accuracy: 0.3517\n",
      "Epoch 35/60\n",
      "104/104 [==============================] - 102s 983ms/step - loss: 1.1325 - accuracy: 0.4669 - val_loss: 1.3362 - val_accuracy: 0.4106\n",
      "Epoch 36/60\n",
      "104/104 [==============================] - 106s 1s/step - loss: 1.1098 - accuracy: 0.4953 - val_loss: 1.2746 - val_accuracy: 0.3760\n",
      "Epoch 37/60\n",
      "104/104 [==============================] - 105s 1s/step - loss: 1.0862 - accuracy: 0.5093 - val_loss: 1.3107 - val_accuracy: 0.4178\n",
      "Epoch 38/60\n",
      "104/104 [==============================] - 106s 1s/step - loss: 1.0656 - accuracy: 0.5147 - val_loss: 1.2979 - val_accuracy: 0.4251\n",
      "Epoch 39/60\n",
      "104/104 [==============================] - 104s 1s/step - loss: 1.0370 - accuracy: 0.5372 - val_loss: 1.4387 - val_accuracy: 0.4154\n",
      "Epoch 40/60\n",
      "104/104 [==============================] - 103s 991ms/step - loss: 1.1576 - accuracy: 0.4735 - val_loss: 1.3699 - val_accuracy: 0.4391\n",
      "Epoch 41/60\n",
      "104/104 [==============================] - 104s 996ms/step - loss: 1.0434 - accuracy: 0.5475 - val_loss: 1.3208 - val_accuracy: 0.4512\n",
      "Epoch 42/60\n",
      "104/104 [==============================] - 103s 986ms/step - loss: 1.0039 - accuracy: 0.5635 - val_loss: 1.4064 - val_accuracy: 0.4215\n",
      "Epoch 43/60\n",
      "104/104 [==============================] - 101s 974ms/step - loss: 0.9943 - accuracy: 0.5652 - val_loss: 1.4646 - val_accuracy: 0.4336\n",
      "Epoch 44/60\n",
      "104/104 [==============================] - 101s 971ms/step - loss: 0.9525 - accuracy: 0.5910 - val_loss: 1.3600 - val_accuracy: 0.4445\n",
      "Epoch 45/60\n",
      "104/104 [==============================] - 105s 1s/step - loss: 0.9441 - accuracy: 0.5943 - val_loss: 1.3855 - val_accuracy: 0.4579\n",
      "Epoch 46/60\n",
      "104/104 [==============================] - 102s 983ms/step - loss: 0.9200 - accuracy: 0.6087 - val_loss: 1.3827 - val_accuracy: 0.4609\n",
      "Epoch 47/60\n",
      "104/104 [==============================] - 105s 1s/step - loss: 0.9015 - accuracy: 0.6156 - val_loss: 1.4142 - val_accuracy: 0.4657\n",
      "Epoch 48/60\n",
      "104/104 [==============================] - 97s 936ms/step - loss: 0.9095 - accuracy: 0.6080 - val_loss: 1.3936 - val_accuracy: 0.4754\n",
      "Epoch 49/60\n",
      "104/104 [==============================] - 99s 953ms/step - loss: 0.8857 - accuracy: 0.6225 - val_loss: 1.3641 - val_accuracy: 0.4791\n",
      "Epoch 50/60\n",
      "104/104 [==============================] - 102s 978ms/step - loss: 0.8666 - accuracy: 0.6371 - val_loss: 1.3816 - val_accuracy: 0.4791\n",
      "Epoch 51/60\n",
      "104/104 [==============================] - 100s 961ms/step - loss: 0.8420 - accuracy: 0.6483 - val_loss: 1.4793 - val_accuracy: 0.4979\n",
      "Epoch 52/60\n",
      "104/104 [==============================] - 102s 980ms/step - loss: 0.8441 - accuracy: 0.6416 - val_loss: 1.4557 - val_accuracy: 0.4961\n",
      "Epoch 53/60\n",
      "104/104 [==============================] - 100s 958ms/step - loss: 0.8300 - accuracy: 0.6501 - val_loss: 1.6697 - val_accuracy: 0.4833\n",
      "Epoch 54/60\n",
      "104/104 [==============================] - 98s 938ms/step - loss: 0.8756 - accuracy: 0.6322 - val_loss: 2.5300 - val_accuracy: 0.4512\n",
      "Epoch 55/60\n",
      "104/104 [==============================] - 100s 960ms/step - loss: 1.6470 - accuracy: 0.4515 - val_loss: 1.3733 - val_accuracy: 0.4257\n",
      "Epoch 56/60\n",
      "104/104 [==============================] - 100s 960ms/step - loss: 1.0341 - accuracy: 0.5608 - val_loss: 1.3914 - val_accuracy: 0.4518\n",
      "Epoch 57/60\n",
      "104/104 [==============================] - 100s 966ms/step - loss: 1.0765 - accuracy: 0.5393 - val_loss: 1.4333 - val_accuracy: 0.4445\n",
      "Epoch 58/60\n",
      "104/104 [==============================] - 103s 990ms/step - loss: 0.9515 - accuracy: 0.5998 - val_loss: 1.2208 - val_accuracy: 0.4767\n",
      "Epoch 59/60\n",
      "104/104 [==============================] - 97s 936ms/step - loss: 0.9155 - accuracy: 0.6143 - val_loss: 1.2601 - val_accuracy: 0.4742\n",
      "Epoch 60/60\n",
      "104/104 [==============================] - 99s 957ms/step - loss: 0.8868 - accuracy: 0.6304 - val_loss: 1.3723 - val_accuracy: 0.5009\n"
     ]
    }
   ],
   "source": [
    "# consider an improvement 1% for accuracy specified by min_delta\n",
    "# es = EarlyStopping(monitor='val_accuracy', mode='auto', min_delta=1, patience=20, restore_best_weights=True, verbose=1)\n",
    "\n",
    "NUM_EPOCHS = 60\n",
    "# history = model.fit(X_train, y_train, validation_data=(X_val, y_val), batch_size=64, epochs=NUM_EPOCHS, callbacks=[es])\n",
    "history = model.fit(X_train, y_train, validation_data=(X_val, y_val), batch_size=64, epochs=NUM_EPOCHS)\n"
   ]
  },
  {
   "cell_type": "code",
   "execution_count": 65,
   "id": "d4e0b2fa",
   "metadata": {},
   "outputs": [
    {
     "name": "stdout",
     "output_type": "stream",
     "text": [
      "Epoch 1/60\n",
      "104/104 [==============================] - 142s 1s/step - loss: 0.7622 - accuracy: 0.6316 - val_loss: 1.0870 - val_accuracy: 0.5525\n",
      "Epoch 2/60\n",
      "104/104 [==============================] - 132s 1s/step - loss: 0.7356 - accuracy: 0.6391 - val_loss: 1.1569 - val_accuracy: 0.5555\n",
      "Epoch 3/60\n",
      "104/104 [==============================] - 123s 1s/step - loss: 0.7288 - accuracy: 0.6463 - val_loss: 1.1538 - val_accuracy: 0.5197\n",
      "Epoch 4/60\n",
      "104/104 [==============================] - 120s 1s/step - loss: 0.7132 - accuracy: 0.6682 - val_loss: 1.0456 - val_accuracy: 0.5500\n",
      "Epoch 5/60\n",
      "104/104 [==============================] - 119s 1s/step - loss: 0.6896 - accuracy: 0.6780 - val_loss: 1.1640 - val_accuracy: 0.5379\n",
      "Epoch 6/60\n",
      "104/104 [==============================] - 118s 1s/step - loss: 0.6878 - accuracy: 0.6783 - val_loss: 1.1013 - val_accuracy: 0.5300\n",
      "Epoch 7/60\n",
      "104/104 [==============================] - 117s 1s/step - loss: 0.6883 - accuracy: 0.6791 - val_loss: 1.3136 - val_accuracy: 0.5324\n",
      "Epoch 8/60\n",
      "104/104 [==============================] - 117s 1s/step - loss: 0.6723 - accuracy: 0.6843 - val_loss: 1.1340 - val_accuracy: 0.5355\n",
      "Epoch 9/60\n",
      "104/104 [==============================] - 117s 1s/step - loss: 0.6704 - accuracy: 0.6867 - val_loss: 1.3583 - val_accuracy: 0.5294\n",
      "Epoch 10/60\n",
      "104/104 [==============================] - 116s 1s/step - loss: 0.6840 - accuracy: 0.6806 - val_loss: 1.2319 - val_accuracy: 0.5415\n",
      "Epoch 11/60\n",
      "104/104 [==============================] - 115s 1s/step - loss: 0.6615 - accuracy: 0.6899 - val_loss: 1.2349 - val_accuracy: 0.5543\n",
      "Epoch 12/60\n",
      "104/104 [==============================] - 116s 1s/step - loss: 0.6509 - accuracy: 0.6956 - val_loss: 1.2282 - val_accuracy: 0.5597\n",
      "Epoch 13/60\n",
      "104/104 [==============================] - 115s 1s/step - loss: 0.6611 - accuracy: 0.6955 - val_loss: 1.1491 - val_accuracy: 0.5543\n",
      "Epoch 14/60\n",
      "104/104 [==============================] - 116s 1s/step - loss: 0.6751 - accuracy: 0.6900 - val_loss: 1.2491 - val_accuracy: 0.5233\n",
      "Epoch 15/60\n",
      "104/104 [==============================] - 115s 1s/step - loss: 0.8278 - accuracy: 0.6342 - val_loss: 1.2319 - val_accuracy: 0.5009\n",
      "Epoch 16/60\n",
      "104/104 [==============================] - 118s 1s/step - loss: 0.6727 - accuracy: 0.6870 - val_loss: 1.1567 - val_accuracy: 0.5209\n",
      "Epoch 17/60\n",
      "104/104 [==============================] - 123s 1s/step - loss: 0.6538 - accuracy: 0.6994 - val_loss: 1.1186 - val_accuracy: 0.5209\n",
      "Epoch 18/60\n",
      "104/104 [==============================] - 128s 1s/step - loss: 0.6410 - accuracy: 0.7091 - val_loss: 1.3244 - val_accuracy: 0.5882\n",
      "Epoch 19/60\n",
      "104/104 [==============================] - 129s 1s/step - loss: 0.6201 - accuracy: 0.7288 - val_loss: 1.2031 - val_accuracy: 0.5810\n",
      "Epoch 20/60\n",
      "104/104 [==============================] - 135s 1s/step - loss: 0.5766 - accuracy: 0.7511 - val_loss: 1.0443 - val_accuracy: 0.6070\n",
      "Epoch 21/60\n",
      "104/104 [==============================] - 110s 1s/step - loss: 0.5548 - accuracy: 0.7666 - val_loss: 1.1809 - val_accuracy: 0.6125\n",
      "Epoch 22/60\n",
      "104/104 [==============================] - 114s 1s/step - loss: 0.5446 - accuracy: 0.7704 - val_loss: 1.0986 - val_accuracy: 0.6143\n",
      "Epoch 23/60\n",
      "104/104 [==============================] - 128s 1s/step - loss: 0.5201 - accuracy: 0.7818 - val_loss: 1.2319 - val_accuracy: 0.5973\n",
      "Epoch 24/60\n",
      "104/104 [==============================] - 104s 1s/step - loss: 0.5508 - accuracy: 0.7628 - val_loss: 1.1223 - val_accuracy: 0.5985\n",
      "Epoch 25/60\n",
      "104/104 [==============================] - 113s 1s/step - loss: 0.5988 - accuracy: 0.7496 - val_loss: 1.1954 - val_accuracy: 0.6028\n",
      "Epoch 26/60\n",
      "104/104 [==============================] - 126s 1s/step - loss: 0.5007 - accuracy: 0.7928 - val_loss: 1.0113 - val_accuracy: 0.6289\n",
      "Epoch 27/60\n",
      "104/104 [==============================] - 131s 1s/step - loss: 0.4819 - accuracy: 0.8016 - val_loss: 0.9674 - val_accuracy: 0.6295\n",
      "Epoch 28/60\n",
      "104/104 [==============================] - 129s 1s/step - loss: 0.4686 - accuracy: 0.8027 - val_loss: 1.0613 - val_accuracy: 0.6180\n",
      "Epoch 29/60\n",
      "104/104 [==============================] - 125s 1s/step - loss: 0.4636 - accuracy: 0.8027 - val_loss: 1.1031 - val_accuracy: 0.6052\n",
      "Epoch 30/60\n",
      "104/104 [==============================] - 122s 1s/step - loss: 0.4508 - accuracy: 0.8098 - val_loss: 1.1784 - val_accuracy: 0.6101\n",
      "Epoch 31/60\n",
      "104/104 [==============================] - 118s 1s/step - loss: 0.4986 - accuracy: 0.7969 - val_loss: 1.1398 - val_accuracy: 0.6355\n",
      "Epoch 32/60\n",
      "104/104 [==============================] - 127s 1s/step - loss: 0.4597 - accuracy: 0.8074 - val_loss: 1.1229 - val_accuracy: 0.6167\n",
      "Epoch 33/60\n",
      "104/104 [==============================] - 117s 1s/step - loss: 0.4843 - accuracy: 0.7992 - val_loss: 1.1053 - val_accuracy: 0.6428\n",
      "Epoch 34/60\n",
      "104/104 [==============================] - 131s 1s/step - loss: 0.4305 - accuracy: 0.8188 - val_loss: 1.0714 - val_accuracy: 0.6264\n",
      "Epoch 35/60\n",
      "104/104 [==============================] - 125s 1s/step - loss: 0.5158 - accuracy: 0.7868 - val_loss: 1.1250 - val_accuracy: 0.6198\n",
      "Epoch 36/60\n",
      "104/104 [==============================] - 119s 1s/step - loss: 0.4596 - accuracy: 0.8069 - val_loss: 1.1854 - val_accuracy: 0.6204\n",
      "Epoch 37/60\n",
      "104/104 [==============================] - 125s 1s/step - loss: 0.4364 - accuracy: 0.8177 - val_loss: 1.1644 - val_accuracy: 0.6313\n",
      "Epoch 38/60\n",
      "104/104 [==============================] - 120s 1s/step - loss: 0.4232 - accuracy: 0.8201 - val_loss: 1.1642 - val_accuracy: 0.6289\n",
      "Epoch 39/60\n",
      "104/104 [==============================] - 132s 1s/step - loss: 0.4147 - accuracy: 0.8221 - val_loss: 1.0745 - val_accuracy: 0.6404\n",
      "Epoch 40/60\n",
      "104/104 [==============================] - 103s 994ms/step - loss: 0.4261 - accuracy: 0.8194 - val_loss: 1.1607 - val_accuracy: 0.6283\n",
      "Epoch 41/60\n",
      "104/104 [==============================] - 105s 1s/step - loss: 0.4308 - accuracy: 0.8176 - val_loss: 1.2968 - val_accuracy: 0.6422\n",
      "Epoch 42/60\n",
      "104/104 [==============================] - 105s 1s/step - loss: 0.4294 - accuracy: 0.8144 - val_loss: 1.1208 - val_accuracy: 0.6495\n",
      "Epoch 43/60\n",
      "104/104 [==============================] - 108s 1s/step - loss: 0.4222 - accuracy: 0.8157 - val_loss: 1.1283 - val_accuracy: 0.6355\n",
      "Epoch 44/60\n",
      "104/104 [==============================] - 111s 1s/step - loss: 0.4154 - accuracy: 0.8210 - val_loss: 1.0788 - val_accuracy: 0.6458\n",
      "Epoch 45/60\n",
      "104/104 [==============================] - 111s 1s/step - loss: 0.4174 - accuracy: 0.8176 - val_loss: 1.1137 - val_accuracy: 0.6343\n",
      "Epoch 46/60\n",
      "104/104 [==============================] - 112s 1s/step - loss: 0.3937 - accuracy: 0.8303 - val_loss: 1.1957 - val_accuracy: 0.6131\n",
      "Epoch 47/60\n",
      "104/104 [==============================] - 114s 1s/step - loss: 0.5228 - accuracy: 0.7868 - val_loss: 1.1034 - val_accuracy: 0.6240\n",
      "Epoch 48/60\n",
      "104/104 [==============================] - 113s 1s/step - loss: 0.4179 - accuracy: 0.8207 - val_loss: 1.1929 - val_accuracy: 0.6374\n",
      "Epoch 49/60\n",
      "104/104 [==============================] - 121s 1s/step - loss: 0.4113 - accuracy: 0.8206 - val_loss: 1.3290 - val_accuracy: 0.6258\n",
      "Epoch 50/60\n",
      "104/104 [==============================] - 109s 1s/step - loss: 0.4779 - accuracy: 0.7992 - val_loss: 1.1670 - val_accuracy: 0.6507\n",
      "Epoch 51/60\n",
      "104/104 [==============================] - 104s 998ms/step - loss: 0.4201 - accuracy: 0.8238 - val_loss: 1.0704 - val_accuracy: 0.6471\n",
      "Epoch 52/60\n",
      "104/104 [==============================] - 104s 1s/step - loss: 0.3920 - accuracy: 0.8308 - val_loss: 1.2608 - val_accuracy: 0.6161\n",
      "Epoch 53/60\n",
      "104/104 [==============================] - 134s 1s/step - loss: 0.3953 - accuracy: 0.8306 - val_loss: 1.1635 - val_accuracy: 0.6386\n",
      "Epoch 54/60\n",
      "104/104 [==============================] - 129s 1s/step - loss: 0.3932 - accuracy: 0.8279 - val_loss: 1.2981 - val_accuracy: 0.6398\n",
      "Epoch 55/60\n",
      "104/104 [==============================] - 147s 1s/step - loss: 0.4634 - accuracy: 0.8212 - val_loss: 1.1985 - val_accuracy: 0.6428\n",
      "Epoch 56/60\n",
      "104/104 [==============================] - 155s 1s/step - loss: 0.4033 - accuracy: 0.8264 - val_loss: 1.1101 - val_accuracy: 0.6240\n",
      "Epoch 57/60\n",
      "104/104 [==============================] - 138s 1s/step - loss: 0.4194 - accuracy: 0.8265 - val_loss: 1.1793 - val_accuracy: 0.6264\n"
     ]
    },
    {
     "name": "stdout",
     "output_type": "stream",
     "text": [
      "Epoch 58/60\n",
      "104/104 [==============================] - 139s 1s/step - loss: 0.4005 - accuracy: 0.8289 - val_loss: 1.1777 - val_accuracy: 0.6301\n",
      "Epoch 59/60\n",
      "104/104 [==============================] - 127s 1s/step - loss: 0.4040 - accuracy: 0.8250 - val_loss: 1.2510 - val_accuracy: 0.6264\n",
      "Epoch 60/60\n",
      "104/104 [==============================] - 139s 1s/step - loss: 0.3960 - accuracy: 0.8273 - val_loss: 1.2141 - val_accuracy: 0.6331\n"
     ]
    }
   ],
   "source": [
    "# NUM_EPOCHS = 60\n",
    "# # history = model.fit(X_train, y_train, validation_data=(X_val, y_val), batch_size=64, epochs=NUM_EPOCHS, callbacks=[es])\n",
    "# history = model.fit(X_train, y_train, validation_data=(X_val, y_val), batch_size=64, epochs=NUM_EPOCHS)"
   ]
  },
  {
   "cell_type": "code",
   "execution_count": 66,
   "id": "3af63741",
   "metadata": {},
   "outputs": [
    {
     "data": {
      "image/png": "[encoded data removed]",
      "text/plain": [
       "<Figure size 864x432 with 2 Axes>"
      ]
     },
     "metadata": {
      "needs_background": "light"
     },
     "output_type": "display_data"
    }
   ],
   "source": [
    "plot_history(history)"
   ]
  },
  {
   "cell_type": "code",
   "execution_count": 20,
   "id": "3c65890c",
   "metadata": {},
   "outputs": [],
   "source": [
    "# NUM_EPOCHS = 9\n",
    "# # history = model.fit(X_train, y_train, validation_data=(X_val, y_val), batch_size=64, epochs=NUM_EPOCHS, callbacks=[es])\n",
    "# history = model.fit(X_train, y_train, validation_data=(X_val, y_val), batch_size=64, epochs=NUM_EPOCHS)\n"
   ]
  },
  {
   "cell_type": "markdown",
   "id": "c4556ec3",
   "metadata": {},
   "source": [
    "## Evaluation"
   ]
  },
  {
   "cell_type": "code",
   "execution_count": 67,
   "id": "9f5876b7",
   "metadata": {},
   "outputs": [
    {
     "name": "stdout",
     "output_type": "stream",
     "text": [
      "86/86 - 13s - loss: 1.1341 - accuracy: 0.6528 - 13s/epoch - 154ms/step\n"
     ]
    }
   ],
   "source": [
    "test_loss, test_acc = model.evaluate(X_test, y_test, verbose=2)"
   ]
  },
  {
   "cell_type": "code",
   "execution_count": 68,
   "id": "473e0952",
   "metadata": {
    "scrolled": true
   },
   "outputs": [
    {
     "name": "stdout",
     "output_type": "stream",
     "text": [
      "86/86 [==============================] - 12s 144ms/step\n"
     ]
    },
    {
     "data": {
      "image/png": "[encoded data removed]",
      "text/plain": [
       "<Figure size 720x576 with 2 Axes>"
      ]
     },
     "metadata": {
      "needs_background": "light"
     },
     "output_type": "display_data"
    }
   ],
   "source": [
    "plot_confusion_matrix(model, X_test, languages)"
   ]
  },
  {
   "attachments": {},
   "cell_type": "markdown",
   "id": "795f65a9",
   "metadata": {},
   "source": [
    "# References:\n",
    "\n",
    "Mikhailava, V.; Leshnichaia, M.; Bogach, N.; Lezhenin, I.; Blake, J.; Pyshkin, E. Language Accent Detection with CNN Using Sparse Data from a Crowd-Sourced Speech Archive. Mathematics 2022, 10, 2913. https://doi.org/10.3390/ math10162913 "
   ]
  },
  {
   "cell_type": "code",
   "execution_count": null,
   "id": "57a2a84e",
   "metadata": {},
   "outputs": [],
   "source": []
  }
 ],
 "metadata": {
  "kernelspec": {
   "display_name": "Python 3 (ipykernel)",
   "language": "python",
   "name": "python3"
  },
  "language_info": {
   "codemirror_mode": {
    "name": "ipython",
    "version": 3
   },
   "file_extension": ".py",
   "mimetype": "text/x-python",
   "name": "python",
   "nbconvert_exporter": "python",
   "pygments_lexer": "ipython3",
   "version": "3.8.10"
  }
 },
 "nbformat": 4,
 "nbformat_minor": 5
}
