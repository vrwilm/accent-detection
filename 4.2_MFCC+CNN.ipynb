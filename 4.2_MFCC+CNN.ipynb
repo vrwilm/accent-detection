{
 "cells": [
  {
   "cell_type": "code",
   "execution_count": 1,
   "id": "78afa0d0",
   "metadata": {},
   "outputs": [
    {
     "name": "stderr",
     "output_type": "stream",
     "text": [
      "2022-12-02 21:45:30.965834: I tensorflow/core/platform/cpu_feature_guard.cc:193] This TensorFlow binary is optimized with oneAPI Deep Neural Network Library (oneDNN) to use the following CPU instructions in performance-critical operations:  AVX2 FMA\n",
      "To enable them in other operations, rebuild TensorFlow with the appropriate compiler flags.\n"
     ]
    }
   ],
   "source": [
    "import json\n",
    "import os\n",
    "from sklearn.model_selection import train_test_split\n",
    "from tensorflow.keras.models import Sequential\n",
    "from tensorflow.keras.layers import Conv2D, Dense, Flatten, MaxPooling2D, BatchNormalization, Dropout\n",
    "from tensorflow.keras.optimizers import Adam\n",
    "import tensorflow as tf\n",
    "from tensorflow.keras import layers\n",
    "from tensorflow.keras import models\n",
    "\n",
    "import numpy as np\n",
    "import matplotlib.pyplot as plt\n",
    "import seaborn as sns"
   ]
  },
  {
   "cell_type": "code",
   "execution_count": 2,
   "id": "5f477167",
   "metadata": {},
   "outputs": [],
   "source": [
    "JSON_PATH = \"./data/mfcc_2022-12-02.json\"\n",
    "\n",
    "with open(JSON_PATH, \"r\") as fp:\n",
    "    data_l = json.load(fp)"
   ]
  },
  {
   "cell_type": "code",
   "execution_count": 3,
   "id": "ff9765a4",
   "metadata": {},
   "outputs": [
    {
     "data": {
      "text/plain": [
       "{'method': 'mfcc',\n",
       " 'duration': 23,\n",
       " 'n_fft': 512,\n",
       " 'sample_rate': 22050,\n",
       " 'trim': 'True',\n",
       " 'zero-pad': 'True'}"
      ]
     },
     "execution_count": 3,
     "metadata": {},
     "output_type": "execute_result"
    }
   ],
   "source": [
    "data_l[\"process_info\"]"
   ]
  },
  {
   "cell_type": "code",
   "execution_count": 4,
   "id": "119bbd6e",
   "metadata": {},
   "outputs": [],
   "source": [
    "DATASET_PATH = \"./data/filtered\"\n",
    "if '.DS_Store' in os.listdir(DATASET_PATH):\n",
    "    os.remove(f'{DATASET_PATH}/.DS_Store')\n",
    "\n",
    "languages = os.listdir(DATASET_PATH)"
   ]
  },
  {
   "cell_type": "code",
   "execution_count": 5,
   "id": "c87dbf1b",
   "metadata": {},
   "outputs": [],
   "source": [
    "def prepare_datasets(data, method, test_size, validation_size):\n",
    "    \"\"\"\n",
    "    Loads data and splits it into train, validation and test sets\n",
    "    \"\"\"\n",
    "\n",
    "    # load data\n",
    "    X = np.array(data[method])\n",
    "    y = np.array(data[\"labels\"])\n",
    "\n",
    "    # create train, validation and test split\n",
    "    X_train, X_test, y_train, y_test = train_test_split(X, y, test_size=test_size)\n",
    "    X_train, X_validation, y_train, y_validation = train_test_split(X_train, y_train, test_size=validation_size)\n",
    "\n",
    "    # add an axis to input sets (aka channel for image)\n",
    "    X_train = X_train[..., np.newaxis]\n",
    "    X_validation = X_validation[..., np.newaxis]\n",
    "    X_test = X_test[..., np.newaxis]\n",
    "\n",
    "    return X_train, X_validation, X_test, y_train, y_validation, y_test"
   ]
  },
  {
   "cell_type": "code",
   "execution_count": 6,
   "id": "84364b3f",
   "metadata": {},
   "outputs": [],
   "source": [
    "X_train, X_val, X_test, y_train, y_val, y_test = prepare_datasets(data_l, \"mfcc\", 0.25, 0.2)"
   ]
  },
  {
   "cell_type": "code",
   "execution_count": 7,
   "id": "0a812fb7",
   "metadata": {},
   "outputs": [
    {
     "data": {
      "text/plain": [
       "((84, 991, 13, 1), (21, 991, 13, 1), (35, 991, 13, 1))"
      ]
     },
     "execution_count": 7,
     "metadata": {},
     "output_type": "execute_result"
    }
   ],
   "source": [
    "# shape (`batch_size`, `height`, `width`, `channels`)\n",
    "X_train.shape, X_val.shape, X_test.shape"
   ]
  },
  {
   "cell_type": "code",
   "execution_count": 8,
   "id": "43afa86b",
   "metadata": {},
   "outputs": [],
   "source": [
    "def plot_history(history):\n",
    "    \"\"\"\n",
    "    Plots accuracy/loss for training/validation set as a function of the epochs\n",
    "        :param history: Training history of model\n",
    "    \"\"\"\n",
    "\n",
    "    fig, axs = plt.subplots(2)\n",
    "\n",
    "    # create accuracy sublpot\n",
    "    axs[0].plot(history.history[\"accuracy\"], label=\"train accuracy\")\n",
    "    axs[0].plot(history.history[\"val_accuracy\"], label=\"val accuracy\")\n",
    "    axs[0].set_ylabel(\"Accuracy\")\n",
    "    axs[0].legend(loc=\"upper right\")\n",
    "    axs[0].set_title(\"Accuracy eval\")\n",
    "\n",
    "    # create error sublpot\n",
    "    axs[1].plot(history.history[\"loss\"], label=\"train error\")\n",
    "    axs[1].plot(history.history[\"val_loss\"], label=\"val error\")\n",
    "    axs[1].set_ylabel(\"Error\")\n",
    "    axs[1].set_xlabel(\"Epoch\")\n",
    "    axs[1].legend(loc=\"lower right\")\n",
    "    axs[1].set_title(\"Error eval\")\n",
    "\n",
    "    plt.show()"
   ]
  },
  {
   "cell_type": "code",
   "execution_count": 9,
   "id": "aaa2bb97",
   "metadata": {},
   "outputs": [],
   "source": [
    "def plot_confusion_matrix(model, X_test, languages):\n",
    "    \"\"\"\n",
    "    Plots confusion matrix for model prediction on test \n",
    "    \"\"\"\n",
    "\n",
    "    y_pred = model.predict(X_test)\n",
    "\n",
    "    y_pred = np.argmax(y_pred, axis=1)\n",
    "\n",
    "    y_true = y_test\n",
    "\n",
    "    confusion_mtx = tf.math.confusion_matrix(y_true, y_pred)\n",
    "\n",
    "    plt.figure(figsize=(10, 8))\n",
    "    sns.heatmap(confusion_mtx,\n",
    "                xticklabels=languages,\n",
    "                yticklabels=languages,\n",
    "                annot=True, fmt='g')\n",
    "    plt.xlabel('Prediction')\n",
    "    plt.ylabel('Label')\n",
    "    plt.show()"
   ]
  },
  {
   "cell_type": "markdown",
   "id": "22a397b7",
   "metadata": {},
   "source": [
    "# Training: CNN v1"
   ]
  },
  {
   "cell_type": "markdown",
   "id": "5e939f0e",
   "metadata": {},
   "source": [
    "the following architecture is taken from [Sound of AI tutorial](https://github.com/musikalkemist/DeepLearningForAudioWithPython/blob/master/16-%20How%20to%20implement%20a%20CNN%20for%20music%20genre%20classification/code/cnn_genre_classifier.py) on music genre classification"
   ]
  },
  {
   "cell_type": "code",
   "execution_count": 10,
   "id": "dade3c54",
   "metadata": {},
   "outputs": [
    {
     "data": {
      "text/plain": [
       "(991, 13, 1)"
      ]
     },
     "execution_count": 10,
     "metadata": {},
     "output_type": "execute_result"
    }
   ],
   "source": [
    "input_shape = X_train.shape[1:]\n",
    "input_shape"
   ]
  },
  {
   "cell_type": "code",
   "execution_count": 11,
   "id": "1c3e3a2b",
   "metadata": {},
   "outputs": [
    {
     "name": "stderr",
     "output_type": "stream",
     "text": [
      "2022-12-02 21:45:39.551508: I tensorflow/core/platform/cpu_feature_guard.cc:193] This TensorFlow binary is optimized with oneAPI Deep Neural Network Library (oneDNN) to use the following CPU instructions in performance-critical operations:  AVX2 FMA\n",
      "To enable them in other operations, rebuild TensorFlow with the appropriate compiler flags.\n"
     ]
    }
   ],
   "source": [
    "NUM_LABELS = 4\n",
    "\n",
    "model = Sequential()\n",
    "\n",
    "# 1st conv layer\n",
    "model.add(Conv2D(32, (3, 3), activation='relu', input_shape=input_shape))\n",
    "model.add(MaxPooling2D((3, 3), strides=(2, 2), padding='same'))\n",
    "model.add(BatchNormalization())\n",
    "\n",
    "# 2nd conv layer\n",
    "model.add(Conv2D(32, (3, 3), activation='relu'))\n",
    "model.add(MaxPooling2D((3, 3), strides=(2, 2), padding='same'))\n",
    "model.add(BatchNormalization())\n",
    "\n",
    "# 3rd conv layer\n",
    "model.add(Conv2D(32, (2, 2), activation='relu'))\n",
    "model.add(MaxPooling2D((2, 2), strides=(2, 2), padding='same'))\n",
    "model.add(BatchNormalization())\n",
    "\n",
    "# flatten output and feed it into dense layer\n",
    "model.add(Flatten())\n",
    "model.add(Dense(64, activation='relu'))\n",
    "model.add(Dropout(0.3))\n",
    "\n",
    "# output layer\n",
    "model.add(Dense(NUM_LABELS, activation='softmax'))"
   ]
  },
  {
   "cell_type": "code",
   "execution_count": 12,
   "id": "b625f4a9",
   "metadata": {},
   "outputs": [
    {
     "name": "stdout",
     "output_type": "stream",
     "text": [
      "Model: \"sequential\"\n",
      "_________________________________________________________________\n",
      " Layer (type)                Output Shape              Param #   \n",
      "=================================================================\n",
      " conv2d (Conv2D)             (None, 989, 11, 32)       320       \n",
      "                                                                 \n",
      " max_pooling2d (MaxPooling2D  (None, 495, 6, 32)       0         \n",
      " )                                                               \n",
      "                                                                 \n",
      " batch_normalization (BatchN  (None, 495, 6, 32)       128       \n",
      " ormalization)                                                   \n",
      "                                                                 \n",
      " conv2d_1 (Conv2D)           (None, 493, 4, 32)        9248      \n",
      "                                                                 \n",
      " max_pooling2d_1 (MaxPooling  (None, 247, 2, 32)       0         \n",
      " 2D)                                                             \n",
      "                                                                 \n",
      " batch_normalization_1 (Batc  (None, 247, 2, 32)       128       \n",
      " hNormalization)                                                 \n",
      "                                                                 \n",
      " conv2d_2 (Conv2D)           (None, 246, 1, 32)        4128      \n",
      "                                                                 \n",
      " max_pooling2d_2 (MaxPooling  (None, 123, 1, 32)       0         \n",
      " 2D)                                                             \n",
      "                                                                 \n",
      " batch_normalization_2 (Batc  (None, 123, 1, 32)       128       \n",
      " hNormalization)                                                 \n",
      "                                                                 \n",
      " flatten (Flatten)           (None, 3936)              0         \n",
      "                                                                 \n",
      " dense (Dense)               (None, 64)                251968    \n",
      "                                                                 \n",
      " dropout (Dropout)           (None, 64)                0         \n",
      "                                                                 \n",
      " dense_1 (Dense)             (None, 4)                 260       \n",
      "                                                                 \n",
      "=================================================================\n",
      "Total params: 266,308\n",
      "Trainable params: 266,116\n",
      "Non-trainable params: 192\n",
      "_________________________________________________________________\n"
     ]
    }
   ],
   "source": [
    "optimiser = Adam(learning_rate=0.0001)\n",
    "model.compile(optimizer=optimiser,\n",
    "                  loss='sparse_categorical_crossentropy',\n",
    "                  metrics=['accuracy'])\n",
    "\n",
    "model.summary()"
   ]
  },
  {
   "cell_type": "code",
   "execution_count": 13,
   "id": "4df043c3",
   "metadata": {},
   "outputs": [
    {
     "name": "stdout",
     "output_type": "stream",
     "text": [
      "Epoch 1/15\n",
      "3/3 [==============================] - 2s 271ms/step - loss: 2.0180 - accuracy: 0.2738 - val_loss: 9.7743 - val_accuracy: 0.4286\n",
      "Epoch 2/15\n",
      "3/3 [==============================] - 1s 158ms/step - loss: 1.8314 - accuracy: 0.3690 - val_loss: 7.1768 - val_accuracy: 0.4286\n",
      "Epoch 3/15\n",
      "3/3 [==============================] - 0s 156ms/step - loss: 1.5456 - accuracy: 0.4167 - val_loss: 5.6945 - val_accuracy: 0.4286\n",
      "Epoch 4/15\n",
      "3/3 [==============================] - 0s 154ms/step - loss: 1.1720 - accuracy: 0.5714 - val_loss: 4.6404 - val_accuracy: 0.4286\n",
      "Epoch 5/15\n",
      "3/3 [==============================] - 1s 181ms/step - loss: 0.8910 - accuracy: 0.6905 - val_loss: 3.8375 - val_accuracy: 0.4286\n",
      "Epoch 6/15\n",
      "3/3 [==============================] - 1s 229ms/step - loss: 0.7927 - accuracy: 0.7143 - val_loss: 3.2483 - val_accuracy: 0.4286\n",
      "Epoch 7/15\n",
      "3/3 [==============================] - 1s 221ms/step - loss: 0.6010 - accuracy: 0.7976 - val_loss: 2.8472 - val_accuracy: 0.4286\n",
      "Epoch 8/15\n",
      "3/3 [==============================] - 1s 235ms/step - loss: 0.5556 - accuracy: 0.8214 - val_loss: 2.5567 - val_accuracy: 0.4286\n",
      "Epoch 9/15\n",
      "3/3 [==============================] - 1s 171ms/step - loss: 0.4101 - accuracy: 0.8810 - val_loss: 2.3337 - val_accuracy: 0.4286\n",
      "Epoch 10/15\n",
      "3/3 [==============================] - 1s 174ms/step - loss: 0.4345 - accuracy: 0.8571 - val_loss: 2.2010 - val_accuracy: 0.4286\n",
      "Epoch 11/15\n",
      "3/3 [==============================] - 1s 176ms/step - loss: 0.3904 - accuracy: 0.8929 - val_loss: 2.0749 - val_accuracy: 0.4286\n",
      "Epoch 12/15\n",
      "3/3 [==============================] - 1s 166ms/step - loss: 0.2845 - accuracy: 0.9405 - val_loss: 1.9851 - val_accuracy: 0.4286\n",
      "Epoch 13/15\n",
      "3/3 [==============================] - 0s 162ms/step - loss: 0.2395 - accuracy: 0.9524 - val_loss: 1.9062 - val_accuracy: 0.4286\n",
      "Epoch 14/15\n",
      "3/3 [==============================] - 0s 158ms/step - loss: 0.1922 - accuracy: 1.0000 - val_loss: 1.8535 - val_accuracy: 0.4286\n",
      "Epoch 15/15\n",
      "3/3 [==============================] - 0s 167ms/step - loss: 0.1863 - accuracy: 0.9881 - val_loss: 1.8096 - val_accuracy: 0.4286\n"
     ]
    }
   ],
   "source": [
    "NUM_EPOCHS = 15\n",
    "history = model.fit(X_train, y_train, validation_data=(X_val, y_val), batch_size=32, epochs=NUM_EPOCHS)"
   ]
  },
  {
   "cell_type": "code",
   "execution_count": 14,
   "id": "42231260",
   "metadata": {},
   "outputs": [
    {
     "data": {
      "image/png": "[encoded data removed]",
      "text/plain": [
       "<Figure size 432x288 with 2 Axes>"
      ]
     },
     "metadata": {
      "needs_background": "light"
     },
     "output_type": "display_data"
    }
   ],
   "source": [
    "plot_history(history)"
   ]
  },
  {
   "cell_type": "markdown",
   "id": "c4556ec3",
   "metadata": {},
   "source": [
    "## Evaluation"
   ]
  },
  {
   "cell_type": "code",
   "execution_count": 15,
   "id": "9f5876b7",
   "metadata": {},
   "outputs": [
    {
     "name": "stdout",
     "output_type": "stream",
     "text": [
      "2/2 - 0s - loss: 2.3793 - accuracy: 0.2000 - 74ms/epoch - 37ms/step\n"
     ]
    }
   ],
   "source": [
    "test_loss, test_acc = model.evaluate(X_test, y_test, verbose=2)"
   ]
  },
  {
   "cell_type": "code",
   "execution_count": 16,
   "id": "473e0952",
   "metadata": {},
   "outputs": [
    {
     "name": "stdout",
     "output_type": "stream",
     "text": [
      "2/2 [==============================] - 0s 7ms/step\n"
     ]
    },
    {
     "data": {
      "image/png": "[encoded data removed]",
      "text/plain": [
       "<Figure size 720x576 with 2 Axes>"
      ]
     },
     "metadata": {
      "needs_background": "light"
     },
     "output_type": "display_data"
    }
   ],
   "source": [
    "plot_confusion_matrix(model, X_test, languages)"
   ]
  },
  {
   "cell_type": "markdown",
   "id": "ba6ad713",
   "metadata": {},
   "source": [
    "# Training - CNN v2\n",
    "\n",
    "the following architecture is taken from [Tensorflow tutorial](https://www.tensorflow.org/tutorials/audio/simple_audio) on keywords (e.g. go, stop, left...) classification."
   ]
  },
  {
   "cell_type": "code",
   "execution_count": 32,
   "id": "6f86d773",
   "metadata": {},
   "outputs": [],
   "source": [
    "def build_model(input_shape,num_labels):\n",
    "    # Instantiate the `tf.keras.layers.Normalization` layer.\n",
    "    norm_layer = layers.Normalization()\n",
    "    # Fit the state of the layer to the spectrograms\n",
    "    # with `Normalization.adapt`.\n",
    "    norm_layer.adapt(data=X_train)\n",
    "\n",
    "    model = models.Sequential([\n",
    "        layers.Input(shape=input_shape),\n",
    "        # Downsample the input.\n",
    "        layers.Resizing(32, 32),\n",
    "        # Normalize.\n",
    "        norm_layer,\n",
    "        layers.Conv2D(32, 3, activation='relu'),\n",
    "        layers.Conv2D(64, 3, activation='relu'),\n",
    "        layers.MaxPooling2D(),\n",
    "        layers.Dropout(0.25),\n",
    "        layers.Flatten(),\n",
    "        layers.Dense(128, activation='relu'),\n",
    "        layers.Dropout(0.5),\n",
    "        layers.Dense(num_labels, activation=\"softmax\"),\n",
    "    ])\n",
    "\n",
    "    return model"
   ]
  },
  {
   "cell_type": "code",
   "execution_count": 33,
   "id": "55ceb44b",
   "metadata": {},
   "outputs": [
    {
     "name": "stdout",
     "output_type": "stream",
     "text": [
      "Input shape: (991, 13, 1)\n",
      "Model: \"sequential_4\"\n",
      "_________________________________________________________________\n",
      " Layer (type)                Output Shape              Param #   \n",
      "=================================================================\n",
      " resizing_3 (Resizing)       (None, 32, 32, 1)         0         \n",
      "                                                                 \n",
      " normalization_3 (Normalizat  (None, 32, 32, 1)        3         \n",
      " ion)                                                            \n",
      "                                                                 \n",
      " conv2d_9 (Conv2D)           (None, 30, 30, 32)        320       \n",
      "                                                                 \n",
      " conv2d_10 (Conv2D)          (None, 28, 28, 64)        18496     \n",
      "                                                                 \n",
      " max_pooling2d_6 (MaxPooling  (None, 14, 14, 64)       0         \n",
      " 2D)                                                             \n",
      "                                                                 \n",
      " dropout_7 (Dropout)         (None, 14, 14, 64)        0         \n",
      "                                                                 \n",
      " flatten_4 (Flatten)         (None, 12544)             0         \n",
      "                                                                 \n",
      " dense_8 (Dense)             (None, 128)               1605760   \n",
      "                                                                 \n",
      " dropout_8 (Dropout)         (None, 128)               0         \n",
      "                                                                 \n",
      " dense_9 (Dense)             (None, 4)                 516       \n",
      "                                                                 \n",
      "=================================================================\n",
      "Total params: 1,625,095\n",
      "Trainable params: 1,625,092\n",
      "Non-trainable params: 3\n",
      "_________________________________________________________________\n"
     ]
    }
   ],
   "source": [
    "input_shape = X_train.shape[1:]\n",
    "\n",
    "print('Input shape:', input_shape)\n",
    "num_labels = 4\n",
    "\n",
    "model = build_model(input_shape, num_labels)\n",
    "model.summary()"
   ]
  },
  {
   "cell_type": "code",
   "execution_count": 34,
   "id": "6987420b",
   "metadata": {},
   "outputs": [],
   "source": [
    "optimiser = Adam(learning_rate=0.001)\n",
    "model.compile(optimizer=optimiser,\n",
    "                  loss='sparse_categorical_crossentropy',\n",
    "                  metrics=['accuracy'])"
   ]
  },
  {
   "cell_type": "code",
   "execution_count": 35,
   "id": "eb748044",
   "metadata": {},
   "outputs": [
    {
     "name": "stdout",
     "output_type": "stream",
     "text": [
      "Epoch 1/20\n",
      "3/3 [==============================] - 1s 125ms/step - loss: 1.5009 - accuracy: 0.2143 - val_loss: 1.3648 - val_accuracy: 0.4286\n",
      "Epoch 2/20\n",
      "3/3 [==============================] - 0s 70ms/step - loss: 1.3776 - accuracy: 0.3333 - val_loss: 1.4292 - val_accuracy: 0.1429\n",
      "Epoch 3/20\n",
      "3/3 [==============================] - 0s 66ms/step - loss: 1.3897 - accuracy: 0.3571 - val_loss: 1.3830 - val_accuracy: 0.2381\n",
      "Epoch 4/20\n",
      "3/3 [==============================] - 0s 74ms/step - loss: 1.3026 - accuracy: 0.4286 - val_loss: 1.3577 - val_accuracy: 0.3810\n",
      "Epoch 5/20\n",
      "3/3 [==============================] - 0s 69ms/step - loss: 1.3193 - accuracy: 0.3571 - val_loss: 1.3662 - val_accuracy: 0.2857\n",
      "Epoch 6/20\n",
      "3/3 [==============================] - 0s 67ms/step - loss: 1.2216 - accuracy: 0.5357 - val_loss: 1.3990 - val_accuracy: 0.2857\n",
      "Epoch 7/20\n",
      "3/3 [==============================] - 0s 67ms/step - loss: 1.2236 - accuracy: 0.5119 - val_loss: 1.3790 - val_accuracy: 0.2857\n",
      "Epoch 8/20\n",
      "3/3 [==============================] - 0s 70ms/step - loss: 1.1560 - accuracy: 0.5357 - val_loss: 1.3478 - val_accuracy: 0.2857\n",
      "Epoch 9/20\n",
      "3/3 [==============================] - 0s 68ms/step - loss: 1.1103 - accuracy: 0.5595 - val_loss: 1.3443 - val_accuracy: 0.2857\n",
      "Epoch 10/20\n",
      "3/3 [==============================] - 0s 69ms/step - loss: 1.0302 - accuracy: 0.5833 - val_loss: 1.3724 - val_accuracy: 0.2381\n",
      "Epoch 11/20\n",
      "3/3 [==============================] - 0s 71ms/step - loss: 1.0141 - accuracy: 0.5833 - val_loss: 1.3863 - val_accuracy: 0.2381\n",
      "Epoch 12/20\n",
      "3/3 [==============================] - 0s 74ms/step - loss: 0.8708 - accuracy: 0.7262 - val_loss: 1.3155 - val_accuracy: 0.2857\n",
      "Epoch 13/20\n",
      "3/3 [==============================] - 0s 73ms/step - loss: 0.8367 - accuracy: 0.7381 - val_loss: 1.3393 - val_accuracy: 0.2857\n",
      "Epoch 14/20\n",
      "3/3 [==============================] - 0s 91ms/step - loss: 0.7376 - accuracy: 0.7857 - val_loss: 1.3489 - val_accuracy: 0.1905\n",
      "Epoch 15/20\n",
      "3/3 [==============================] - 0s 74ms/step - loss: 0.6235 - accuracy: 0.8452 - val_loss: 1.3914 - val_accuracy: 0.1905\n",
      "Epoch 16/20\n",
      "3/3 [==============================] - 0s 73ms/step - loss: 0.5053 - accuracy: 0.8452 - val_loss: 1.3192 - val_accuracy: 0.2857\n",
      "Epoch 17/20\n",
      "3/3 [==============================] - 0s 80ms/step - loss: 0.3826 - accuracy: 0.9405 - val_loss: 1.4786 - val_accuracy: 0.2857\n",
      "Epoch 18/20\n",
      "3/3 [==============================] - 0s 98ms/step - loss: 0.3079 - accuracy: 0.9048 - val_loss: 1.6283 - val_accuracy: 0.2381\n",
      "Epoch 19/20\n",
      "3/3 [==============================] - 0s 71ms/step - loss: 0.3035 - accuracy: 0.9048 - val_loss: 1.3627 - val_accuracy: 0.3333\n",
      "Epoch 20/20\n",
      "3/3 [==============================] - 0s 70ms/step - loss: 0.2711 - accuracy: 0.9524 - val_loss: 1.4775 - val_accuracy: 0.1905\n"
     ]
    }
   ],
   "source": [
    "EPOCHS = 20\n",
    "history = model.fit(\n",
    "    X_train, y_train,\n",
    "    validation_data=(X_val, y_val),\n",
    "    epochs=EPOCHS,\n",
    ")"
   ]
  },
  {
   "cell_type": "code",
   "execution_count": 36,
   "id": "73f2ea2b",
   "metadata": {},
   "outputs": [
    {
     "data": {
      "image/png": "[encoded data removed]",
      "text/plain": [
       "<Figure size 432x288 with 2 Axes>"
      ]
     },
     "metadata": {
      "needs_background": "light"
     },
     "output_type": "display_data"
    }
   ],
   "source": [
    "plot_history(history)"
   ]
  },
  {
   "cell_type": "markdown",
   "id": "42e322cd",
   "metadata": {},
   "source": [
    "From history plots, looks like 10-12 epochs is the best."
   ]
  },
  {
   "cell_type": "code",
   "execution_count": 39,
   "id": "4788b279",
   "metadata": {},
   "outputs": [
    {
     "name": "stdout",
     "output_type": "stream",
     "text": [
      "WARNING:tensorflow:5 out of the last 13 calls to <function PreprocessingLayer.make_adapt_function.<locals>.adapt_step at 0x13bc6fee0> triggered tf.function retracing. Tracing is expensive and the excessive number of tracings could be due to (1) creating @tf.function repeatedly in a loop, (2) passing tensors with different shapes, (3) passing Python objects instead of tensors. For (1), please define your @tf.function outside of the loop. For (2), @tf.function has reduce_retracing=True option that can avoid unnecessary retracing. For (3), please refer to https://www.tensorflow.org/guide/function#controlling_retracing and https://www.tensorflow.org/api_docs/python/tf/function for  more details.\n",
      "Epoch 1/10\n",
      "3/3 [==============================] - 1s 177ms/step - loss: 1.7699 - accuracy: 0.2024 - val_loss: 1.4141 - val_accuracy: 0.2381\n",
      "Epoch 2/10\n",
      "3/3 [==============================] - 0s 67ms/step - loss: 1.3965 - accuracy: 0.2619 - val_loss: 1.3757 - val_accuracy: 0.1905\n",
      "Epoch 3/10\n",
      "3/3 [==============================] - 0s 66ms/step - loss: 1.3776 - accuracy: 0.2619 - val_loss: 1.3659 - val_accuracy: 0.1905\n",
      "Epoch 4/10\n",
      "3/3 [==============================] - 0s 71ms/step - loss: 1.3848 - accuracy: 0.2738 - val_loss: 1.3652 - val_accuracy: 0.4286\n",
      "Epoch 5/10\n",
      "3/3 [==============================] - 0s 69ms/step - loss: 1.3603 - accuracy: 0.3929 - val_loss: 1.3674 - val_accuracy: 0.4762\n",
      "Epoch 6/10\n",
      "3/3 [==============================] - 0s 80ms/step - loss: 1.3462 - accuracy: 0.4881 - val_loss: 1.3733 - val_accuracy: 0.2381\n",
      "Epoch 7/10\n",
      "3/3 [==============================] - 0s 71ms/step - loss: 1.3469 - accuracy: 0.4405 - val_loss: 1.3807 - val_accuracy: 0.3333\n",
      "Epoch 8/10\n",
      "3/3 [==============================] - 0s 82ms/step - loss: 1.3071 - accuracy: 0.4881 - val_loss: 1.3853 - val_accuracy: 0.1429\n",
      "Epoch 9/10\n",
      "3/3 [==============================] - 0s 100ms/step - loss: 1.2771 - accuracy: 0.4881 - val_loss: 1.3688 - val_accuracy: 0.0952\n",
      "Epoch 10/10\n",
      "3/3 [==============================] - 0s 71ms/step - loss: 1.2606 - accuracy: 0.5595 - val_loss: 1.3522 - val_accuracy: 0.3333\n"
     ]
    }
   ],
   "source": [
    "model = build_model(input_shape, num_labels)\n",
    "optimiser = Adam(learning_rate=0.001)\n",
    "model.compile(optimizer=optimiser,\n",
    "                  loss='sparse_categorical_crossentropy',\n",
    "                  metrics=['accuracy'])\n",
    "\n",
    "EPOCHS = 10\n",
    "history = model.fit(\n",
    "    X_train, y_train,\n",
    "    validation_data=(X_val, y_val),\n",
    "    epochs=EPOCHS,\n",
    ")"
   ]
  },
  {
   "cell_type": "markdown",
   "id": "5a1e8639",
   "metadata": {},
   "source": [
    "## Evaluation"
   ]
  },
  {
   "cell_type": "code",
   "execution_count": 40,
   "id": "fbf29122",
   "metadata": {},
   "outputs": [
    {
     "name": "stdout",
     "output_type": "stream",
     "text": [
      "2/2 - 0s - loss: 1.3647 - accuracy: 0.4571 - 37ms/epoch - 18ms/step\n"
     ]
    }
   ],
   "source": [
    "test_loss, test_acc = model.evaluate(X_test, y_test, verbose=2)"
   ]
  },
  {
   "cell_type": "markdown",
   "id": "28ee61a1",
   "metadata": {},
   "source": [
    "## Confusion Matrix"
   ]
  },
  {
   "cell_type": "code",
   "execution_count": 41,
   "id": "84b12ee1",
   "metadata": {},
   "outputs": [
    {
     "name": "stdout",
     "output_type": "stream",
     "text": [
      "2/2 [==============================] - 0s 4ms/step\n"
     ]
    },
    {
     "data": {
      "image/png": "[encoded data removed]",
      "text/plain": [
       "<Figure size 720x576 with 2 Axes>"
      ]
     },
     "metadata": {
      "needs_background": "light"
     },
     "output_type": "display_data"
    }
   ],
   "source": [
    "plot_confusion_matrix(model, X_test, languages)"
   ]
  },
  {
   "cell_type": "code",
   "execution_count": null,
   "id": "26cdd1c0",
   "metadata": {},
   "outputs": [],
   "source": []
  }
 ],
 "metadata": {
  "kernelspec": {
   "display_name": "Python 3 (ipykernel)",
   "language": "python",
   "name": "python3"
  },
  "language_info": {
   "codemirror_mode": {
    "name": "ipython",
    "version": 3
   },
   "file_extension": ".py",
   "mimetype": "text/x-python",
   "name": "python",
   "nbconvert_exporter": "python",
   "pygments_lexer": "ipython3",
   "version": "3.8.10"
  }
 },
 "nbformat": 4,
 "nbformat_minor": 5
}
