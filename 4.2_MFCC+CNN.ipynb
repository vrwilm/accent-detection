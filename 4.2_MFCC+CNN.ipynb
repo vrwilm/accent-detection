{
 "cells": [
  {
   "cell_type": "code",
   "execution_count": 13,
   "id": "78afa0d0",
   "metadata": {},
   "outputs": [],
   "source": [
    "import json\n",
    "from sklearn.model_selection import train_test_split\n",
    "from tensorflow.keras.models import Sequential\n",
    "from tensorflow.keras.layers import Conv2D, Dense, Flatten, MaxPooling2D, BatchNormalization, Dropout\n",
    "import tensorflow.keras as keras\n",
    "import numpy as np"
   ]
  },
  {
   "cell_type": "code",
   "execution_count": 14,
   "id": "5f477167",
   "metadata": {},
   "outputs": [],
   "source": [
    "JSON_PATH = \"./data/mfcc_data_16sec_nfft255_nmfcc11.json\"\n",
    "\n",
    "with open(JSON_PATH, \"r\") as fp:\n",
    "    data_l = json.load(fp)"
   ]
  },
  {
   "cell_type": "code",
   "execution_count": 3,
   "id": "c87dbf1b",
   "metadata": {},
   "outputs": [],
   "source": [
    "def prepare_datasets(test_size, validation_size):\n",
    "    \"\"\"Loads data and splits it into train, validation and test sets.\n",
    "    :param test_size (float): Value in [0, 1] indicating percentage of data set to allocate to test split\n",
    "    :param validation_size (float): Value in [0, 1] indicating percentage of train set to allocate to validation split\n",
    "    :return X_train (ndarray): Input training set\n",
    "    :return X_validation (ndarray): Input validation set\n",
    "    :return X_test (ndarray): Input test set\n",
    "    :return y_train (ndarray): Target training set\n",
    "    :return y_validation (ndarray): Target validation set\n",
    "    :return y_test (ndarray): Target test set\n",
    "    \"\"\"\n",
    "\n",
    "    # load data\n",
    "    X = np.array(data_l[\"mfcc\"])\n",
    "    y = np.array(data_l[\"labels\"])\n",
    "\n",
    "    # create train, validation and test split\n",
    "    X_train, X_test, y_train, y_test = train_test_split(X, y, test_size=test_size)\n",
    "    X_train, X_val, y_train, y_val = train_test_split(X_train, y_train, test_size=validation_size)\n",
    "\n",
    "    # add an axis to input sets\n",
    "    X_train = X_train[..., np.newaxis]\n",
    "    X_val = X_val[..., np.newaxis]\n",
    "    X_test = X_test[..., np.newaxis]\n",
    "\n",
    "    return X_train, X_val, X_test, y_train, y_val, y_test"
   ]
  },
  {
   "cell_type": "code",
   "execution_count": 4,
   "id": "84364b3f",
   "metadata": {},
   "outputs": [],
   "source": [
    "X_train, X_val, X_test, y_train, y_val, y_test = prepare_datasets(0.25, 0.2)"
   ]
  },
  {
   "cell_type": "code",
   "execution_count": 5,
   "id": "0a812fb7",
   "metadata": {},
   "outputs": [
    {
     "data": {
      "text/plain": [
       "((84, 2757, 11, 1), (21, 2757, 11, 1), (35, 2757, 11, 1))"
      ]
     },
     "execution_count": 5,
     "metadata": {},
     "output_type": "execute_result"
    }
   ],
   "source": [
    "X_train.shape, X_val.shape, X_test.shape"
   ]
  },
  {
   "cell_type": "code",
   "execution_count": 6,
   "id": "51deec86",
   "metadata": {},
   "outputs": [
    {
     "data": {
      "text/plain": [
       "((84,), (21,), (35,))"
      ]
     },
     "execution_count": 6,
     "metadata": {},
     "output_type": "execute_result"
    }
   ],
   "source": [
    "y_train.shape, y_val.shape, y_test.shape"
   ]
  },
  {
   "cell_type": "code",
   "execution_count": 7,
   "id": "a3260238",
   "metadata": {},
   "outputs": [
    {
     "data": {
      "text/plain": [
       "(2757, 11, 1)"
      ]
     },
     "execution_count": 7,
     "metadata": {},
     "output_type": "execute_result"
    }
   ],
   "source": [
    "input_shape = X_train.shape[1:]\n",
    "input_shape"
   ]
  },
  {
   "cell_type": "code",
   "execution_count": 20,
   "id": "770f8435",
   "metadata": {},
   "outputs": [],
   "source": [
    "NUM_LABELS = 4\n",
    "\n",
    "model = Sequential()\n",
    "\n",
    "# 1st conv layer\n",
    "model.add(Conv2D(32, (3, 3), activation='relu', input_shape=input_shape))\n",
    "model.add(MaxPooling2D((3, 3), strides=(2, 2), padding='same'))\n",
    "model.add(BatchNormalization())\n",
    "\n",
    "# 2nd conv layer\n",
    "model.add(Conv2D(32, (3, 3), activation='relu'))\n",
    "model.add(MaxPooling2D((3, 3), strides=(2, 2), padding='same'))\n",
    "model.add(BatchNormalization())\n",
    "\n",
    "# 3rd conv layer\n",
    "model.add(Conv2D(32, (2, 2), activation='relu'))\n",
    "model.add(MaxPooling2D((2, 2), strides=(2, 2), padding='same'))\n",
    "model.add(BatchNormalization())\n",
    "\n",
    "# flatten output and feed it into dense layer\n",
    "model.add(Flatten())\n",
    "model.add(Dense(64, activation='relu'))\n",
    "model.add(Dropout(0.3))\n",
    "\n",
    "# output layer\n",
    "model.add(Dense(NUM_LABELS, activation='softmax'))"
   ]
  },
  {
   "cell_type": "code",
   "execution_count": 21,
   "id": "954f95cd",
   "metadata": {},
   "outputs": [
    {
     "name": "stdout",
     "output_type": "stream",
     "text": [
      "Model: \"sequential_2\"\n",
      "_________________________________________________________________\n",
      " Layer (type)                Output Shape              Param #   \n",
      "=================================================================\n",
      " conv2d_6 (Conv2D)           (None, 2755, 9, 32)       320       \n",
      "                                                                 \n",
      " max_pooling2d_6 (MaxPooling  (None, 1378, 5, 32)      0         \n",
      " 2D)                                                             \n",
      "                                                                 \n",
      " batch_normalization_6 (Batc  (None, 1378, 5, 32)      128       \n",
      " hNormalization)                                                 \n",
      "                                                                 \n",
      " conv2d_7 (Conv2D)           (None, 1376, 3, 32)       9248      \n",
      "                                                                 \n",
      " max_pooling2d_7 (MaxPooling  (None, 688, 2, 32)       0         \n",
      " 2D)                                                             \n",
      "                                                                 \n",
      " batch_normalization_7 (Batc  (None, 688, 2, 32)       128       \n",
      " hNormalization)                                                 \n",
      "                                                                 \n",
      " conv2d_8 (Conv2D)           (None, 687, 1, 32)        4128      \n",
      "                                                                 \n",
      " max_pooling2d_8 (MaxPooling  (None, 344, 1, 32)       0         \n",
      " 2D)                                                             \n",
      "                                                                 \n",
      " batch_normalization_8 (Batc  (None, 344, 1, 32)       128       \n",
      " hNormalization)                                                 \n",
      "                                                                 \n",
      " flatten_2 (Flatten)         (None, 11008)             0         \n",
      "                                                                 \n",
      " dense_4 (Dense)             (None, 64)                704576    \n",
      "                                                                 \n",
      " dropout_2 (Dropout)         (None, 64)                0         \n",
      "                                                                 \n",
      " dense_5 (Dense)             (None, 4)                 260       \n",
      "                                                                 \n",
      "=================================================================\n",
      "Total params: 718,916\n",
      "Trainable params: 718,724\n",
      "Non-trainable params: 192\n",
      "_________________________________________________________________\n"
     ]
    }
   ],
   "source": [
    "# compile model\n",
    "optimiser = keras.optimizers.Adam(learning_rate=0.0001)\n",
    "model.compile(optimizer=optimiser,\n",
    "              loss='sparse_categorical_crossentropy',\n",
    "              metrics=['accuracy'])\n",
    "\n",
    "model.summary()"
   ]
  },
  {
   "cell_type": "code",
   "execution_count": 22,
   "id": "14cafc50",
   "metadata": {},
   "outputs": [
    {
     "name": "stdout",
     "output_type": "stream",
     "text": [
      "Epoch 1/30\n",
      "3/3 [==============================] - 2s 400ms/step - loss: 2.4623 - accuracy: 0.2619 - val_loss: 5.3040 - val_accuracy: 0.2381\n",
      "Epoch 2/30\n",
      "3/3 [==============================] - 1s 331ms/step - loss: 1.3827 - accuracy: 0.5476 - val_loss: 3.9864 - val_accuracy: 0.2381\n",
      "Epoch 3/30\n",
      "3/3 [==============================] - 1s 329ms/step - loss: 0.7684 - accuracy: 0.7143 - val_loss: 3.3734 - val_accuracy: 0.2381\n",
      "Epoch 4/30\n",
      "3/3 [==============================] - 1s 334ms/step - loss: 0.4574 - accuracy: 0.8571 - val_loss: 3.0147 - val_accuracy: 0.1905\n",
      "Epoch 5/30\n",
      "3/3 [==============================] - 1s 331ms/step - loss: 0.2315 - accuracy: 0.9762 - val_loss: 2.7200 - val_accuracy: 0.1905\n",
      "Epoch 6/30\n",
      "3/3 [==============================] - 1s 331ms/step - loss: 0.1818 - accuracy: 0.9762 - val_loss: 2.4972 - val_accuracy: 0.1429\n",
      "Epoch 7/30\n",
      "3/3 [==============================] - 1s 330ms/step - loss: 0.1274 - accuracy: 0.9881 - val_loss: 2.3437 - val_accuracy: 0.1429\n",
      "Epoch 8/30\n",
      "3/3 [==============================] - 1s 422ms/step - loss: 0.1455 - accuracy: 0.9524 - val_loss: 2.2373 - val_accuracy: 0.1429\n",
      "Epoch 9/30\n",
      "3/3 [==============================] - 1s 338ms/step - loss: 0.0783 - accuracy: 1.0000 - val_loss: 2.1399 - val_accuracy: 0.1429\n",
      "Epoch 10/30\n",
      "3/3 [==============================] - 1s 330ms/step - loss: 0.0551 - accuracy: 1.0000 - val_loss: 2.0617 - val_accuracy: 0.0952\n",
      "Epoch 11/30\n",
      "3/3 [==============================] - 1s 331ms/step - loss: 0.0693 - accuracy: 1.0000 - val_loss: 2.0017 - val_accuracy: 0.1429\n",
      "Epoch 12/30\n",
      "3/3 [==============================] - 1s 359ms/step - loss: 0.0682 - accuracy: 0.9762 - val_loss: 1.9373 - val_accuracy: 0.1905\n",
      "Epoch 13/30\n",
      "3/3 [==============================] - 1s 334ms/step - loss: 0.0643 - accuracy: 1.0000 - val_loss: 1.8823 - val_accuracy: 0.1905\n",
      "Epoch 14/30\n",
      "3/3 [==============================] - 1s 330ms/step - loss: 0.0631 - accuracy: 1.0000 - val_loss: 1.8359 - val_accuracy: 0.3333\n",
      "Epoch 15/30\n",
      "3/3 [==============================] - 1s 376ms/step - loss: 0.0338 - accuracy: 1.0000 - val_loss: 1.7987 - val_accuracy: 0.3333\n",
      "Epoch 16/30\n",
      "3/3 [==============================] - 1s 336ms/step - loss: 0.0345 - accuracy: 0.9881 - val_loss: 1.7705 - val_accuracy: 0.3333\n",
      "Epoch 17/30\n",
      "3/3 [==============================] - 1s 335ms/step - loss: 0.0330 - accuracy: 1.0000 - val_loss: 1.7511 - val_accuracy: 0.3333\n",
      "Epoch 18/30\n",
      "3/3 [==============================] - 1s 335ms/step - loss: 0.0207 - accuracy: 1.0000 - val_loss: 1.7414 - val_accuracy: 0.2857\n",
      "Epoch 19/30\n",
      "3/3 [==============================] - 1s 356ms/step - loss: 0.0240 - accuracy: 1.0000 - val_loss: 1.7374 - val_accuracy: 0.2857\n",
      "Epoch 20/30\n",
      "3/3 [==============================] - 1s 337ms/step - loss: 0.0184 - accuracy: 1.0000 - val_loss: 1.7379 - val_accuracy: 0.2381\n",
      "Epoch 21/30\n",
      "3/3 [==============================] - 1s 384ms/step - loss: 0.0313 - accuracy: 1.0000 - val_loss: 1.7382 - val_accuracy: 0.2381\n",
      "Epoch 22/30\n",
      "3/3 [==============================] - 1s 337ms/step - loss: 0.0334 - accuracy: 1.0000 - val_loss: 1.7371 - val_accuracy: 0.2381\n",
      "Epoch 23/30\n",
      "3/3 [==============================] - 1s 346ms/step - loss: 0.0249 - accuracy: 1.0000 - val_loss: 1.7366 - val_accuracy: 0.2381\n",
      "Epoch 24/30\n",
      "3/3 [==============================] - 1s 389ms/step - loss: 0.0293 - accuracy: 1.0000 - val_loss: 1.7354 - val_accuracy: 0.2381\n",
      "Epoch 25/30\n",
      "3/3 [==============================] - 1s 397ms/step - loss: 0.0279 - accuracy: 0.9881 - val_loss: 1.7424 - val_accuracy: 0.2381\n",
      "Epoch 26/30\n",
      "3/3 [==============================] - 1s 363ms/step - loss: 0.0222 - accuracy: 1.0000 - val_loss: 1.7503 - val_accuracy: 0.1905\n",
      "Epoch 27/30\n",
      "3/3 [==============================] - 1s 330ms/step - loss: 0.0147 - accuracy: 1.0000 - val_loss: 1.7581 - val_accuracy: 0.1905\n",
      "Epoch 28/30\n",
      "3/3 [==============================] - 1s 366ms/step - loss: 0.0162 - accuracy: 1.0000 - val_loss: 1.7630 - val_accuracy: 0.1905\n",
      "Epoch 29/30\n",
      "3/3 [==============================] - 1s 378ms/step - loss: 0.0142 - accuracy: 1.0000 - val_loss: 1.7674 - val_accuracy: 0.2381\n",
      "Epoch 30/30\n",
      "3/3 [==============================] - 1s 364ms/step - loss: 0.0375 - accuracy: 0.9881 - val_loss: 1.7725 - val_accuracy: 0.2381\n"
     ]
    }
   ],
   "source": [
    "EPOCHS = 30\n",
    "history = model.fit(X_train, y_train, validation_data=(X_val, y_val), batch_size=32, epochs=EPOCHS)"
   ]
  },
  {
   "cell_type": "code",
   "execution_count": 23,
   "id": "aae20a6c",
   "metadata": {},
   "outputs": [
    {
     "name": "stdout",
     "output_type": "stream",
     "text": [
      "2/2 - 0s - loss: 1.8308 - accuracy: 0.2571 - 142ms/epoch - 71ms/step\n"
     ]
    }
   ],
   "source": [
    "test_loss, test_acc = model.evaluate(X_test, y_test, verbose=2)"
   ]
  },
  {
   "cell_type": "markdown",
   "id": "c427357d",
   "metadata": {},
   "source": [
    "# CNN v2"
   ]
  },
  {
   "cell_type": "code",
   "execution_count": 28,
   "id": "2aaed7b0",
   "metadata": {},
   "outputs": [],
   "source": [
    "model_v2 = Sequential()\n",
    "model_v2.add(Conv2D(16, (3,3), activation='relu', input_shape=input_shape))\n",
    "model_v2.add(Conv2D(16, (3,3), activation='relu'))\n",
    "model_v2.add(Flatten())\n",
    "model_v2.add(Dense(128, activation='relu'))\n",
    "model_v2.add(Dense(NUM_LABELS, activation='softmax'))"
   ]
  },
  {
   "cell_type": "code",
   "execution_count": 29,
   "id": "4fed14db",
   "metadata": {},
   "outputs": [
    {
     "name": "stdout",
     "output_type": "stream",
     "text": [
      "Model: \"sequential_4\"\n",
      "_________________________________________________________________\n",
      " Layer (type)                Output Shape              Param #   \n",
      "=================================================================\n",
      " conv2d_11 (Conv2D)          (None, 2755, 9, 16)       160       \n",
      "                                                                 \n",
      " conv2d_12 (Conv2D)          (None, 2753, 7, 16)       2320      \n",
      "                                                                 \n",
      " flatten_4 (Flatten)         (None, 308336)            0         \n",
      "                                                                 \n",
      " dense_8 (Dense)             (None, 128)               39467136  \n",
      "                                                                 \n",
      " dense_9 (Dense)             (None, 4)                 516       \n",
      "                                                                 \n",
      "=================================================================\n",
      "Total params: 39,470,132\n",
      "Trainable params: 39,470,132\n",
      "Non-trainable params: 0\n",
      "_________________________________________________________________\n"
     ]
    }
   ],
   "source": [
    "# compile model\n",
    "model_v2.compile('Adam',\n",
    "              loss='sparse_categorical_crossentropy',\n",
    "              metrics=['accuracy'])\n",
    "\n",
    "model_v2.summary()"
   ]
  },
  {
   "cell_type": "code",
   "execution_count": 30,
   "id": "6ee0a27c",
   "metadata": {},
   "outputs": [
    {
     "name": "stdout",
     "output_type": "stream",
     "text": [
      "Epoch 1/15\n",
      "3/3 [==============================] - 3s 724ms/step - loss: 937.8101 - accuracy: 0.2738 - val_loss: 1656.2537 - val_accuracy: 0.1429\n",
      "Epoch 2/15\n",
      "3/3 [==============================] - 2s 572ms/step - loss: 995.9420 - accuracy: 0.2619 - val_loss: 184.8754 - val_accuracy: 0.2381\n",
      "Epoch 3/15\n",
      "3/3 [==============================] - 2s 563ms/step - loss: 129.2652 - accuracy: 0.4167 - val_loss: 73.6042 - val_accuracy: 0.3333\n",
      "Epoch 4/15\n",
      "3/3 [==============================] - 2s 557ms/step - loss: 66.9178 - accuracy: 0.4167 - val_loss: 60.1432 - val_accuracy: 0.2857\n",
      "Epoch 5/15\n",
      "3/3 [==============================] - 2s 520ms/step - loss: 22.5241 - accuracy: 0.5833 - val_loss: 13.5213 - val_accuracy: 0.1905\n",
      "Epoch 6/15\n",
      "3/3 [==============================] - 2s 535ms/step - loss: 3.6984 - accuracy: 0.8095 - val_loss: 35.8322 - val_accuracy: 0.1429\n",
      "Epoch 7/15\n",
      "3/3 [==============================] - 2s 559ms/step - loss: 6.8942 - accuracy: 0.6667 - val_loss: 16.5184 - val_accuracy: 0.1905\n",
      "Epoch 8/15\n",
      "3/3 [==============================] - 2s 528ms/step - loss: 0.8529 - accuracy: 0.8929 - val_loss: 9.0982 - val_accuracy: 0.4762\n",
      "Epoch 9/15\n",
      "3/3 [==============================] - 2s 523ms/step - loss: 0.7050 - accuracy: 0.8690 - val_loss: 9.8334 - val_accuracy: 0.4286\n",
      "Epoch 10/15\n",
      "3/3 [==============================] - 2s 544ms/step - loss: 0.2890 - accuracy: 0.8929 - val_loss: 10.1695 - val_accuracy: 0.3810\n",
      "Epoch 11/15\n",
      "3/3 [==============================] - 2s 648ms/step - loss: 0.1458 - accuracy: 0.9286 - val_loss: 10.2539 - val_accuracy: 0.3333\n",
      "Epoch 12/15\n",
      "3/3 [==============================] - 2s 533ms/step - loss: 0.0310 - accuracy: 0.9881 - val_loss: 10.2056 - val_accuracy: 0.3333\n",
      "Epoch 13/15\n",
      "3/3 [==============================] - 2s 600ms/step - loss: 0.0020 - accuracy: 1.0000 - val_loss: 10.1913 - val_accuracy: 0.3333\n",
      "Epoch 14/15\n",
      "3/3 [==============================] - 2s 523ms/step - loss: 5.2877e-04 - accuracy: 1.0000 - val_loss: 10.1951 - val_accuracy: 0.3333\n",
      "Epoch 15/15\n",
      "3/3 [==============================] - 2s 632ms/step - loss: 3.5363e-04 - accuracy: 1.0000 - val_loss: 10.2195 - val_accuracy: 0.3810\n"
     ]
    }
   ],
   "source": [
    "EPOCHS = 15\n",
    "history = model_v2.fit(X_train, y_train, validation_data=(X_val, y_val), batch_size=32, epochs=EPOCHS)"
   ]
  },
  {
   "cell_type": "code",
   "execution_count": 31,
   "id": "6edc1bd7",
   "metadata": {},
   "outputs": [
    {
     "name": "stdout",
     "output_type": "stream",
     "text": [
      "2/2 - 0s - loss: 16.1412 - accuracy: 0.2286 - 107ms/epoch - 54ms/step\n"
     ]
    }
   ],
   "source": [
    "test_loss, test_acc = model_v2.evaluate(X_test, y_test, verbose=2)"
   ]
  },
  {
   "cell_type": "code",
   "execution_count": null,
   "id": "26cdd1c0",
   "metadata": {},
   "outputs": [],
   "source": []
  }
 ],
 "metadata": {
  "kernelspec": {
   "display_name": "Python 3 (ipykernel)",
   "language": "python",
   "name": "python3"
  },
  "language_info": {
   "codemirror_mode": {
    "name": "ipython",
    "version": 3
   },
   "file_extension": ".py",
   "mimetype": "text/x-python",
   "name": "python",
   "nbconvert_exporter": "python",
   "pygments_lexer": "ipython3",
   "version": "3.8.10"
  }
 },
 "nbformat": 4,
 "nbformat_minor": 5
}
